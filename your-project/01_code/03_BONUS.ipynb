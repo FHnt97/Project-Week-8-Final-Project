{
 "cells": [
  {
   "cell_type": "markdown",
   "metadata": {},
   "source": [
    "# How are the technological hubs of manufacturing evolving in the world? An analysis on the rate of innovation. \n",
    "<h2 align=\"center\"> Part 2: The Analysis</h2>\n",
    "\n",
    "-----\n",
    "\n",
    "### Description of Section: Statistics, Predictions and Visualisations\n",
    "\n",
    "The goal of this project is to answer the following questions:\n",
    "\n",
    "#### What industries have a high innovation rate, and how is the market in that field?\n",
    "\n",
    "I will look into the fields of industry with the highest innovation/ patent number filing, and I will carry out a market analysis in this field, looking into which companies are the strongest and invest the most in R&D in given field. I will try answering the following questions: \n",
    "    - Are more companies appearing?\n",
    "    - How much funding do they get?\n",
    "    - What is the drop rate of companies appearing in the field?\n",
    "\n",
    "\n",
    "\n",
    "### This section will be structured as follows:\n",
    "    \n",
    "#### BONUS:\n",
    "- Q2.1: A market analysis: what field/industry has the biggest R&D investment/ highest growth in patents?\n",
    "- Q2.2: In that field, what companies do we have, how much do they invest into R&D compared to their profits?\n",
    "\n",
    "\n",
    "- Q3: Taking a start-up database, what is the drop rate of companies in that field (if last funding longer than 5 years ago = inactive)?"
   ]
  },
  {
   "cell_type": "code",
   "execution_count": 242,
   "metadata": {},
   "outputs": [],
   "source": [
    "# importing basic libraries needed: \n",
    "\n",
    "# for database manipulation\n",
    "import pandas as pd\n",
    "import numpy as np\n",
    "import os\n",
    "import datetime as dt\n",
    "\n",
    "# for visualisations:\n",
    "import seaborn as sns\n",
    "import matplotlib as mpl\n",
    "import matplotlib.pyplot as plt\n",
    "import plotly_express as px\n",
    "import plotly.graph_objs as go\n",
    "from plotly import tools\n",
    "\n",
    "# for statistics\n",
    "from scipy import stats\n",
    "from sklearn import preprocessing\n",
    "\n",
    "# libraries for machine learning will be imported throught the process to clarify what tools are being used at each step"
   ]
  },
  {
   "cell_type": "markdown",
   "metadata": {},
   "source": [
    "###  Q2.1: A market analysis: what field/industry has the highest growth in patents/ biggest R&D investment ?\n",
    "\n",
    "#### 2.1.1. Biggest growth in patents\n",
    "\n",
    "To analyse the biggest growth in patents I will be using the patents by industry database form __________. \n",
    "\n",
    "First I will quickly look at a cross-market overview, then I will analyse the biggest growth industy in the last 5 years, and plot the top 3 to see their development. "
   ]
  },
  {
   "cell_type": "code",
   "execution_count": 105,
   "metadata": {},
   "outputs": [],
   "source": [
    "# look at patents per industry and country over time\n",
    "# another panel data\n",
    "df = pd.read_csv(\"../00_data/00_clean_datasets/Q1/patents_by_industry.csv\", index_col=0)\n",
    "df.drop(\"country name\", axis=1, inplace=True)"
   ]
  },
  {
   "cell_type": "code",
   "execution_count": 106,
   "metadata": {},
   "outputs": [
    {
     "data": {
      "text/plain": [
       "36"
      ]
     },
     "execution_count": 106,
     "metadata": {},
     "output_type": "execute_result"
    }
   ],
   "source": [
    "df[\"industry\"].value_counts().count()"
   ]
  },
  {
   "cell_type": "code",
   "execution_count": 107,
   "metadata": {},
   "outputs": [],
   "source": [
    "# set index to see wolrdwide patterns in market\n",
    "df = df.groupby(\"industry\").sum()"
   ]
  },
  {
   "cell_type": "code",
   "execution_count": 108,
   "metadata": {},
   "outputs": [],
   "source": [
    "# transpose to plot better\n",
    "dft = df.transpose()\n",
    "dft.drop(\"Unknown\", axis=1, inplace=True)"
   ]
  },
  {
   "cell_type": "code",
   "execution_count": 109,
   "metadata": {},
   "outputs": [
    {
     "data": {
      "text/html": [
       "<div>\n",
       "<style scoped>\n",
       "    .dataframe tbody tr th:only-of-type {\n",
       "        vertical-align: middle;\n",
       "    }\n",
       "\n",
       "    .dataframe tbody tr th {\n",
       "        vertical-align: top;\n",
       "    }\n",
       "\n",
       "    .dataframe thead th {\n",
       "        text-align: right;\n",
       "    }\n",
       "</style>\n",
       "<table border=\"1\" class=\"dataframe\">\n",
       "  <thead>\n",
       "    <tr style=\"text-align: right;\">\n",
       "      <th>industry</th>\n",
       "      <th>1 - Electrical machinery, apparatus, energy</th>\n",
       "      <th>10 - Measurement</th>\n",
       "      <th>11 - Analysis of biological materials</th>\n",
       "      <th>12 - Control</th>\n",
       "      <th>13 - Medical technology</th>\n",
       "      <th>14 - Organic fine chemistry</th>\n",
       "      <th>15 - Biotechnology</th>\n",
       "      <th>16 - Pharmaceuticals</th>\n",
       "      <th>17 - Macromolecular chemistry, polymers</th>\n",
       "      <th>18 - Food chemistry</th>\n",
       "      <th>...</th>\n",
       "      <th>32 - Transport</th>\n",
       "      <th>33 - Furniture, games</th>\n",
       "      <th>34 - Other consumer goods</th>\n",
       "      <th>35 - Civil engineering</th>\n",
       "      <th>4 - Digital communication</th>\n",
       "      <th>5 - Basic communication processes</th>\n",
       "      <th>6 - Computer technology</th>\n",
       "      <th>7 - IT methods for management</th>\n",
       "      <th>8 - Semiconductors</th>\n",
       "      <th>9 - Optics</th>\n",
       "    </tr>\n",
       "  </thead>\n",
       "  <tbody>\n",
       "    <tr>\n",
       "      <th>2013</th>\n",
       "      <td>76556.0</td>\n",
       "      <td>55119.0</td>\n",
       "      <td>6738.0</td>\n",
       "      <td>19185.0</td>\n",
       "      <td>51320.0</td>\n",
       "      <td>34144.0</td>\n",
       "      <td>23446.0</td>\n",
       "      <td>39758.0</td>\n",
       "      <td>22151.0</td>\n",
       "      <td>21275.0</td>\n",
       "      <td>...</td>\n",
       "      <td>48789.0</td>\n",
       "      <td>28638.0</td>\n",
       "      <td>18986.0</td>\n",
       "      <td>38983.0</td>\n",
       "      <td>50775.0</td>\n",
       "      <td>11688.0</td>\n",
       "      <td>89445.0</td>\n",
       "      <td>11560.0</td>\n",
       "      <td>48254.0</td>\n",
       "      <td>42565.0</td>\n",
       "    </tr>\n",
       "    <tr>\n",
       "      <th>2014</th>\n",
       "      <td>80822.0</td>\n",
       "      <td>57144.0</td>\n",
       "      <td>7124.0</td>\n",
       "      <td>19748.0</td>\n",
       "      <td>54680.0</td>\n",
       "      <td>35678.0</td>\n",
       "      <td>23941.0</td>\n",
       "      <td>41625.0</td>\n",
       "      <td>22696.0</td>\n",
       "      <td>20929.0</td>\n",
       "      <td>...</td>\n",
       "      <td>49157.0</td>\n",
       "      <td>30920.0</td>\n",
       "      <td>18955.0</td>\n",
       "      <td>40706.0</td>\n",
       "      <td>57851.0</td>\n",
       "      <td>11196.0</td>\n",
       "      <td>93383.0</td>\n",
       "      <td>11746.0</td>\n",
       "      <td>50804.0</td>\n",
       "      <td>42424.0</td>\n",
       "    </tr>\n",
       "    <tr>\n",
       "      <th>2015</th>\n",
       "      <td>81517.0</td>\n",
       "      <td>59846.0</td>\n",
       "      <td>8097.0</td>\n",
       "      <td>19745.0</td>\n",
       "      <td>56284.0</td>\n",
       "      <td>35430.0</td>\n",
       "      <td>24302.0</td>\n",
       "      <td>38689.0</td>\n",
       "      <td>21396.0</td>\n",
       "      <td>18433.0</td>\n",
       "      <td>...</td>\n",
       "      <td>51269.0</td>\n",
       "      <td>29128.0</td>\n",
       "      <td>19534.0</td>\n",
       "      <td>45442.0</td>\n",
       "      <td>61487.0</td>\n",
       "      <td>10417.0</td>\n",
       "      <td>89028.0</td>\n",
       "      <td>9555.0</td>\n",
       "      <td>46827.0</td>\n",
       "      <td>37515.0</td>\n",
       "    </tr>\n",
       "    <tr>\n",
       "      <th>2016</th>\n",
       "      <td>98838.0</td>\n",
       "      <td>68096.0</td>\n",
       "      <td>8507.0</td>\n",
       "      <td>24185.0</td>\n",
       "      <td>64254.0</td>\n",
       "      <td>38520.0</td>\n",
       "      <td>26419.0</td>\n",
       "      <td>42289.0</td>\n",
       "      <td>25603.0</td>\n",
       "      <td>21250.0</td>\n",
       "      <td>...</td>\n",
       "      <td>63372.0</td>\n",
       "      <td>34145.0</td>\n",
       "      <td>23885.0</td>\n",
       "      <td>54998.0</td>\n",
       "      <td>68641.0</td>\n",
       "      <td>11214.0</td>\n",
       "      <td>103731.0</td>\n",
       "      <td>12560.0</td>\n",
       "      <td>52811.0</td>\n",
       "      <td>41029.0</td>\n",
       "    </tr>\n",
       "    <tr>\n",
       "      <th>2017</th>\n",
       "      <td>105840.0</td>\n",
       "      <td>75574.0</td>\n",
       "      <td>8746.0</td>\n",
       "      <td>27248.0</td>\n",
       "      <td>66492.0</td>\n",
       "      <td>35821.0</td>\n",
       "      <td>25873.0</td>\n",
       "      <td>40405.0</td>\n",
       "      <td>24230.0</td>\n",
       "      <td>14999.0</td>\n",
       "      <td>...</td>\n",
       "      <td>66003.0</td>\n",
       "      <td>33516.0</td>\n",
       "      <td>23769.0</td>\n",
       "      <td>56712.0</td>\n",
       "      <td>71633.0</td>\n",
       "      <td>11268.0</td>\n",
       "      <td>112064.0</td>\n",
       "      <td>14502.0</td>\n",
       "      <td>51590.0</td>\n",
       "      <td>40524.0</td>\n",
       "    </tr>\n",
       "  </tbody>\n",
       "</table>\n",
       "<p>5 rows × 35 columns</p>\n",
       "</div>"
      ],
      "text/plain": [
       "industry  1 - Electrical machinery, apparatus, energy  10 - Measurement  \\\n",
       "2013                                          76556.0           55119.0   \n",
       "2014                                          80822.0           57144.0   \n",
       "2015                                          81517.0           59846.0   \n",
       "2016                                          98838.0           68096.0   \n",
       "2017                                         105840.0           75574.0   \n",
       "\n",
       "industry  11 - Analysis of biological materials  12 - Control  \\\n",
       "2013                                     6738.0       19185.0   \n",
       "2014                                     7124.0       19748.0   \n",
       "2015                                     8097.0       19745.0   \n",
       "2016                                     8507.0       24185.0   \n",
       "2017                                     8746.0       27248.0   \n",
       "\n",
       "industry  13 - Medical technology  14 - Organic fine chemistry  \\\n",
       "2013                      51320.0                      34144.0   \n",
       "2014                      54680.0                      35678.0   \n",
       "2015                      56284.0                      35430.0   \n",
       "2016                      64254.0                      38520.0   \n",
       "2017                      66492.0                      35821.0   \n",
       "\n",
       "industry  15 - Biotechnology  16 - Pharmaceuticals  \\\n",
       "2013                 23446.0               39758.0   \n",
       "2014                 23941.0               41625.0   \n",
       "2015                 24302.0               38689.0   \n",
       "2016                 26419.0               42289.0   \n",
       "2017                 25873.0               40405.0   \n",
       "\n",
       "industry  17 - Macromolecular chemistry, polymers  18 - Food chemistry  ...  \\\n",
       "2013                                      22151.0              21275.0  ...   \n",
       "2014                                      22696.0              20929.0  ...   \n",
       "2015                                      21396.0              18433.0  ...   \n",
       "2016                                      25603.0              21250.0  ...   \n",
       "2017                                      24230.0              14999.0  ...   \n",
       "\n",
       "industry  32 - Transport  33 - Furniture, games  34 - Other consumer goods  \\\n",
       "2013             48789.0                28638.0                    18986.0   \n",
       "2014             49157.0                30920.0                    18955.0   \n",
       "2015             51269.0                29128.0                    19534.0   \n",
       "2016             63372.0                34145.0                    23885.0   \n",
       "2017             66003.0                33516.0                    23769.0   \n",
       "\n",
       "industry  35 - Civil engineering  4 - Digital communication  \\\n",
       "2013                     38983.0                    50775.0   \n",
       "2014                     40706.0                    57851.0   \n",
       "2015                     45442.0                    61487.0   \n",
       "2016                     54998.0                    68641.0   \n",
       "2017                     56712.0                    71633.0   \n",
       "\n",
       "industry  5 - Basic communication processes  6 - Computer technology  \\\n",
       "2013                                11688.0                  89445.0   \n",
       "2014                                11196.0                  93383.0   \n",
       "2015                                10417.0                  89028.0   \n",
       "2016                                11214.0                 103731.0   \n",
       "2017                                11268.0                 112064.0   \n",
       "\n",
       "industry  7 - IT methods for management  8 - Semiconductors  9 - Optics  \n",
       "2013                            11560.0             48254.0     42565.0  \n",
       "2014                            11746.0             50804.0     42424.0  \n",
       "2015                             9555.0             46827.0     37515.0  \n",
       "2016                            12560.0             52811.0     41029.0  \n",
       "2017                            14502.0             51590.0     40524.0  \n",
       "\n",
       "[5 rows x 35 columns]"
      ]
     },
     "execution_count": 109,
     "metadata": {},
     "output_type": "execute_result"
    }
   ],
   "source": [
    "dft.tail()"
   ]
  },
  {
   "cell_type": "markdown",
   "metadata": {},
   "source": [
    "##### quick overview"
   ]
  },
  {
   "cell_type": "code",
   "execution_count": 70,
   "metadata": {},
   "outputs": [
    {
     "data": {
      "text/plain": [
       "Text(0, 0.5, 'number of patents')"
      ]
     },
     "execution_count": 70,
     "metadata": {},
     "output_type": "execute_result"
    },
    {
     "data": {
      "image/png": "[encoded data removed]",
      "text/plain": [
       "<Figure size 1440x720 with 1 Axes>"
      ]
     },
     "metadata": {
      "needs_background": "light"
     },
     "output_type": "display_data"
    }
   ],
   "source": [
    "# numeber of total industry patents over time\n",
    "# sublot definition\n",
    "f, ax = plt.subplots(figsize=(20, 10))\n",
    "\n",
    "# plot function\n",
    "plt.plot(dft.sum(axis=1))\n",
    "\n",
    "# style changes\n",
    "plt.grid(axis=\"both\")\n",
    "\n",
    "# labeling\n",
    "plt.title(\"total industry patents per year\", fontsize=18)\n",
    "plt.xlabel(\"year\", fontsize=12)\n",
    "plt.ylabel(\"number of patents\", fontsize=12)"
   ]
  },
  {
   "cell_type": "markdown",
   "metadata": {},
   "source": [
    "##### calculate max growth in last 5 years (biggest differnce btw 2017 and 2012)\n",
    "\n",
    "> pct_change() is not working therefore I will do it with a simple substraction of rows\n"
   ]
  },
  {
   "cell_type": "code",
   "execution_count": 152,
   "metadata": {},
   "outputs": [
    {
     "name": "stdout",
     "output_type": "stream",
     "text": [
      "['1 - Electrical machinery, apparatus, energy', '6 - Computer technology', '10 - Measurement', '4 - Digital communication', '32 - Transport']\n"
     ]
    }
   ],
   "source": [
    "# select row 2017 and subtract row for 2012\n",
    "# the sort values and turn to DF\n",
    "growth = pd.DataFrame(dft.iloc[37]-dft.iloc[37-5]).sort_values(by=0, ascending=False)\n",
    "# select top 5 industries and make to list for plotting\n",
    "lst = growth[:5].index.to_list()\n",
    "print(lst)"
   ]
  },
  {
   "cell_type": "markdown",
   "metadata": {},
   "source": [
    "From this quick analysis, we see that the \"most innovative market\" (that with the biggest increase in patent filing in the last years) is the **Electrical machinery, apparatus, and energy** industry.\n",
    "\n",
    "This fits in well with my initial hypothesis and with my expertese, as I was hoping to do a market analysis on electical machinery manufacturing as well as the chip production. \n",
    "\n",
    "When looking at the graphs below, it is very surprising to see the similarities in the growth patterns. This result is in agreement with the reports of exponential innvoation growth of technologies."
   ]
  },
  {
   "cell_type": "code",
   "execution_count": 150,
   "metadata": {},
   "outputs": [
    {
     "data": {
      "image/png": "[encoded data removed]",
      "text/plain": [
       "<Figure size 1440x2160 with 3 Axes>"
      ]
     },
     "metadata": {
      "needs_background": "light"
     },
     "output_type": "display_data"
    }
   ],
   "source": [
    "# plotting of top 3 innovative industries\n",
    "\n",
    "#define subplot\n",
    "fig, axs = plt.subplots(3, figsize=(20,30))\n",
    "\n",
    "# for loop for plotting all values in lst\n",
    "\n",
    "for i in lst[:3]:\n",
    "    # plot function\n",
    "    axs[lst.index(i)].plot(dft[[i]])\n",
    "    \n",
    "    # label changes\n",
    "    axs[lst.index(i)].set_title(i, fontsize=18)\n",
    "    axs[lst.index(i)].set_xlabel(\"years\", fontsize=12)\n",
    "    axs[lst.index(i)].set_ylabel(\"number of patents \", fontsize=12)\n",
    "    \n",
    "    # style changes\n",
    "    axs[lst.index(i)].grid(axis=\"both\", color='navajowhite')\n",
    "    axs[lst.index(i)].set_yticks(np.arange(0, 120000, 20000))\n",
    "    \n",
    "    plt.subplots_adjust(hspace=0.5)"
   ]
  },
  {
   "cell_type": "markdown",
   "metadata": {},
   "source": [
    "#### 2.1.2. Biggest R&D investment\n",
    "\n",
    "To analyse the biggest growth in patents I will be using the patents by industry database form __________.\n",
    "\n",
    "For the biggest investements I will be using a table on company information. \n"
   ]
  },
  {
   "cell_type": "code",
   "execution_count": 183,
   "metadata": {},
   "outputs": [],
   "source": [
    "# open data on RnD per company\n",
    "RnD = pd.read_csv(\"../00_data/00_clean_datasets/Q2/company_info.csv\")"
   ]
  },
  {
   "cell_type": "code",
   "execution_count": 184,
   "metadata": {},
   "outputs": [],
   "source": [
    "# open data on company information and patent count\n",
    "patent_lst = pd.read_csv(\"../00_data/00_clean_datasets/Q1/company_lst.csv\")"
   ]
  },
  {
   "cell_type": "code",
   "execution_count": 185,
   "metadata": {},
   "outputs": [],
   "source": [
    "# merge both tables for full info:\n",
    "dfm = patent_lst.merge(RnD, how=\"left\", on=\"Company_id\")"
   ]
  },
  {
   "cell_type": "code",
   "execution_count": 186,
   "metadata": {},
   "outputs": [
    {
     "data": {
      "text/html": [
       "<div>\n",
       "<style scoped>\n",
       "    .dataframe tbody tr th:only-of-type {\n",
       "        vertical-align: middle;\n",
       "    }\n",
       "\n",
       "    .dataframe tbody tr th {\n",
       "        vertical-align: top;\n",
       "    }\n",
       "\n",
       "    .dataframe thead th {\n",
       "        text-align: right;\n",
       "    }\n",
       "</style>\n",
       "<table border=\"1\" class=\"dataframe\">\n",
       "  <thead>\n",
       "    <tr style=\"text-align: right;\">\n",
       "      <th></th>\n",
       "      <th>Company_id</th>\n",
       "      <th>office</th>\n",
       "      <th>company</th>\n",
       "      <th>country code</th>\n",
       "      <th>industry</th>\n",
       "      <th>count</th>\n",
       "      <th>Year</th>\n",
       "      <th>R&amp;D_investemetn</th>\n",
       "      <th>net_sales</th>\n",
       "      <th>operating_profits</th>\n",
       "      <th>employees</th>\n",
       "    </tr>\n",
       "  </thead>\n",
       "  <tbody>\n",
       "    <tr>\n",
       "      <th>0</th>\n",
       "      <td>1</td>\n",
       "      <td>CN</td>\n",
       "      <td>ZUMTOBEL</td>\n",
       "      <td>AUT</td>\n",
       "      <td>Electronic &amp; Electrical Equipment</td>\n",
       "      <td>84</td>\n",
       "      <td>2011</td>\n",
       "      <td>55.071</td>\n",
       "      <td>1280.312</td>\n",
       "      <td>34.591</td>\n",
       "      <td>7456.0</td>\n",
       "    </tr>\n",
       "    <tr>\n",
       "      <th>1</th>\n",
       "      <td>1</td>\n",
       "      <td>CN</td>\n",
       "      <td>ZUMTOBEL</td>\n",
       "      <td>AUT</td>\n",
       "      <td>Electronic &amp; Electrical Equipment</td>\n",
       "      <td>84</td>\n",
       "      <td>2012</td>\n",
       "      <td>66.926</td>\n",
       "      <td>1243.616</td>\n",
       "      <td>21.659</td>\n",
       "      <td>7162.0</td>\n",
       "    </tr>\n",
       "    <tr>\n",
       "      <th>2</th>\n",
       "      <td>1</td>\n",
       "      <td>CN</td>\n",
       "      <td>ZUMTOBEL</td>\n",
       "      <td>AUT</td>\n",
       "      <td>Electronic &amp; Electrical Equipment</td>\n",
       "      <td>84</td>\n",
       "      <td>2013</td>\n",
       "      <td>71.800</td>\n",
       "      <td>1246.831</td>\n",
       "      <td>12.144</td>\n",
       "      <td>7291.0</td>\n",
       "    </tr>\n",
       "    <tr>\n",
       "      <th>3</th>\n",
       "      <td>1</td>\n",
       "      <td>CN</td>\n",
       "      <td>ZUMTOBEL</td>\n",
       "      <td>AUT</td>\n",
       "      <td>Electronic &amp; Electrical Equipment</td>\n",
       "      <td>84</td>\n",
       "      <td>2014</td>\n",
       "      <td>89.739</td>\n",
       "      <td>1312.620</td>\n",
       "      <td>41.091</td>\n",
       "      <td>7234.0</td>\n",
       "    </tr>\n",
       "    <tr>\n",
       "      <th>4</th>\n",
       "      <td>1</td>\n",
       "      <td>EP</td>\n",
       "      <td>ZUMTOBEL</td>\n",
       "      <td>AUT</td>\n",
       "      <td>Electronic &amp; Electrical Equipment</td>\n",
       "      <td>263</td>\n",
       "      <td>2011</td>\n",
       "      <td>55.071</td>\n",
       "      <td>1280.312</td>\n",
       "      <td>34.591</td>\n",
       "      <td>7456.0</td>\n",
       "    </tr>\n",
       "  </tbody>\n",
       "</table>\n",
       "</div>"
      ],
      "text/plain": [
       "   Company_id office   company country code  \\\n",
       "0           1     CN  ZUMTOBEL          AUT   \n",
       "1           1     CN  ZUMTOBEL          AUT   \n",
       "2           1     CN  ZUMTOBEL          AUT   \n",
       "3           1     CN  ZUMTOBEL          AUT   \n",
       "4           1     EP  ZUMTOBEL          AUT   \n",
       "\n",
       "                            industry  count  Year  R&D_investemetn  net_sales  \\\n",
       "0  Electronic & Electrical Equipment     84  2011           55.071   1280.312   \n",
       "1  Electronic & Electrical Equipment     84  2012           66.926   1243.616   \n",
       "2  Electronic & Electrical Equipment     84  2013           71.800   1246.831   \n",
       "3  Electronic & Electrical Equipment     84  2014           89.739   1312.620   \n",
       "4  Electronic & Electrical Equipment    263  2011           55.071   1280.312   \n",
       "\n",
       "   operating_profits  employees  \n",
       "0             34.591     7456.0  \n",
       "1             21.659     7162.0  \n",
       "2             12.144     7291.0  \n",
       "3             41.091     7234.0  \n",
       "4             34.591     7456.0  "
      ]
     },
     "execution_count": 186,
     "metadata": {},
     "output_type": "execute_result"
    }
   ],
   "source": [
    "dfm.head()"
   ]
  },
  {
   "cell_type": "code",
   "execution_count": 196,
   "metadata": {},
   "outputs": [
    {
     "data": {
      "text/html": [
       "<div>\n",
       "<style scoped>\n",
       "    .dataframe tbody tr th:only-of-type {\n",
       "        vertical-align: middle;\n",
       "    }\n",
       "\n",
       "    .dataframe tbody tr th {\n",
       "        vertical-align: top;\n",
       "    }\n",
       "\n",
       "    .dataframe thead th {\n",
       "        text-align: right;\n",
       "    }\n",
       "</style>\n",
       "<table border=\"1\" class=\"dataframe\">\n",
       "  <thead>\n",
       "    <tr style=\"text-align: right;\">\n",
       "      <th></th>\n",
       "      <th>Company_id</th>\n",
       "      <th>count</th>\n",
       "      <th>Year</th>\n",
       "      <th>R&amp;D_investemetn</th>\n",
       "      <th>net_sales</th>\n",
       "      <th>operating_profits</th>\n",
       "      <th>employees</th>\n",
       "    </tr>\n",
       "    <tr>\n",
       "      <th>industry</th>\n",
       "      <th></th>\n",
       "      <th></th>\n",
       "      <th></th>\n",
       "      <th></th>\n",
       "      <th></th>\n",
       "      <th></th>\n",
       "      <th></th>\n",
       "    </tr>\n",
       "  </thead>\n",
       "  <tbody>\n",
       "    <tr>\n",
       "      <th>Aerospace &amp; Defense</th>\n",
       "      <td>741532</td>\n",
       "      <td>113540</td>\n",
       "      <td>1497300</td>\n",
       "      <td>3.702950e+05</td>\n",
       "      <td>8.009294e+06</td>\n",
       "      <td>6.884792e+05</td>\n",
       "      <td>28205412.0</td>\n",
       "    </tr>\n",
       "    <tr>\n",
       "      <th>Alternative Energy</th>\n",
       "      <td>47488</td>\n",
       "      <td>2312</td>\n",
       "      <td>177100</td>\n",
       "      <td>1.022198e+04</td>\n",
       "      <td>2.277818e+05</td>\n",
       "      <td>1.208832e+04</td>\n",
       "      <td>636321.0</td>\n",
       "    </tr>\n",
       "    <tr>\n",
       "      <th>Automobiles &amp; Parts</th>\n",
       "      <td>1783420</td>\n",
       "      <td>511728</td>\n",
       "      <td>3984750</td>\n",
       "      <td>1.620446e+06</td>\n",
       "      <td>3.771093e+07</td>\n",
       "      <td>2.163265e+06</td>\n",
       "      <td>111232841.0</td>\n",
       "    </tr>\n",
       "    <tr>\n",
       "      <th>Banks</th>\n",
       "      <td>94880</td>\n",
       "      <td>5508</td>\n",
       "      <td>338100</td>\n",
       "      <td>8.257564e+04</td>\n",
       "      <td>4.625367e+06</td>\n",
       "      <td>4.486548e+05</td>\n",
       "      <td>22080985.0</td>\n",
       "    </tr>\n",
       "    <tr>\n",
       "      <th>Chemicals</th>\n",
       "      <td>1945864</td>\n",
       "      <td>275864</td>\n",
       "      <td>4194050</td>\n",
       "      <td>3.871192e+05</td>\n",
       "      <td>1.495864e+07</td>\n",
       "      <td>1.464543e+06</td>\n",
       "      <td>28134375.0</td>\n",
       "    </tr>\n",
       "  </tbody>\n",
       "</table>\n",
       "</div>"
      ],
      "text/plain": [
       "                     Company_id   count     Year  R&D_investemetn  \\\n",
       "industry                                                            \n",
       "Aerospace & Defense      741532  113540  1497300     3.702950e+05   \n",
       "Alternative Energy        47488    2312   177100     1.022198e+04   \n",
       "Automobiles & Parts     1783420  511728  3984750     1.620446e+06   \n",
       "Banks                     94880    5508   338100     8.257564e+04   \n",
       "Chemicals               1945864  275864  4194050     3.871192e+05   \n",
       "\n",
       "                        net_sales  operating_profits    employees  \n",
       "industry                                                           \n",
       "Aerospace & Defense  8.009294e+06       6.884792e+05   28205412.0  \n",
       "Alternative Energy   2.277818e+05       1.208832e+04     636321.0  \n",
       "Automobiles & Parts  3.771093e+07       2.163265e+06  111232841.0  \n",
       "Banks                4.625367e+06       4.486548e+05   22080985.0  \n",
       "Chemicals            1.495864e+07       1.464543e+06   28134375.0  "
      ]
     },
     "execution_count": 196,
     "metadata": {},
     "output_type": "execute_result"
    }
   ],
   "source": [
    "# group by industry\n",
    "# sum of investement in RnD from 2011 to 2014\n",
    "# sum of patents from 2011 to 2014\n",
    "dfg = dfm.groupby([\"industry\"]).sum()\n",
    "dfg.head()"
   ]
  },
  {
   "cell_type": "code",
   "execution_count": 197,
   "metadata": {},
   "outputs": [],
   "source": [
    "# relativise investement through operating profits:\n",
    "# RnD% of profit\n",
    "dfg[\"RnD_relative\"] = dfg[\"R&D_investemetn\"]/dfg[\"operating_profits\"]*100"
   ]
  },
  {
   "cell_type": "code",
   "execution_count": 198,
   "metadata": {},
   "outputs": [],
   "source": [
    "# select only wanted  columns\n",
    "dfg = dfg[[\"count\", \"RnD_relative\"]]"
   ]
  },
  {
   "cell_type": "code",
   "execution_count": 206,
   "metadata": {},
   "outputs": [
    {
     "data": {
      "text/plain": [
       "['Leisure Goods',\n",
       " 'Alternative Energy',\n",
       " 'Automobiles & Parts',\n",
       " 'Pharmaceuticals & Biotechnology',\n",
       " 'Technology Hardware & Equipment']"
      ]
     },
     "execution_count": 206,
     "metadata": {},
     "output_type": "execute_result"
    }
   ],
   "source": [
    "# top 5 industries with highest RnD investemetn relative to profit:\n",
    "dfg.sort_values(by=\"RnD_relative\", ascending=False)[:5].index.to_list()"
   ]
  },
  {
   "cell_type": "code",
   "execution_count": 207,
   "metadata": {},
   "outputs": [
    {
     "data": {
      "text/plain": [
       "['Technology Hardware & Equipment',\n",
       " 'Electronic & Electrical Equipment',\n",
       " 'Automobiles & Parts',\n",
       " 'General Industrials',\n",
       " 'Chemicals']"
      ]
     },
     "execution_count": 207,
     "metadata": {},
     "output_type": "execute_result"
    }
   ],
   "source": [
    "# top 5 industries with highest patent count:\n",
    "dfg.sort_values(by=\"count\", ascending=False)[:5].index.to_list()"
   ]
  },
  {
   "cell_type": "markdown",
   "metadata": {},
   "source": [
    "We see from this sorting, that overall, the industry where most companies register patent is similar to that analysed in the fastest innovating sector. i.e. ```Electrical machinery, apparatus, and energy``` industry, or as it is called in this dataset: ```Technology Hardware & Equipment```, and ```Electronic & Electrical Equipment```.\n",
    "\n",
    "It is interesting to see, however that relative to profit, the industies with highest investement in RnD are not the same as those with the highest number of patents. \n",
    "\n",
    "I will run a quick R2 test, a correlation, colinearity and a OLS and plot the two variables to see the realtionship between them. "
   ]
  },
  {
   "cell_type": "code",
   "execution_count": 208,
   "metadata": {},
   "outputs": [
    {
     "data": {
      "text/html": [
       "<div>\n",
       "<style scoped>\n",
       "    .dataframe tbody tr th:only-of-type {\n",
       "        vertical-align: middle;\n",
       "    }\n",
       "\n",
       "    .dataframe tbody tr th {\n",
       "        vertical-align: top;\n",
       "    }\n",
       "\n",
       "    .dataframe thead th {\n",
       "        text-align: right;\n",
       "    }\n",
       "</style>\n",
       "<table border=\"1\" class=\"dataframe\">\n",
       "  <thead>\n",
       "    <tr style=\"text-align: right;\">\n",
       "      <th></th>\n",
       "      <th>count</th>\n",
       "      <th>RnD_relative</th>\n",
       "    </tr>\n",
       "  </thead>\n",
       "  <tbody>\n",
       "    <tr>\n",
       "      <th>count</th>\n",
       "      <td>1.00000</td>\n",
       "      <td>0.40155</td>\n",
       "    </tr>\n",
       "    <tr>\n",
       "      <th>RnD_relative</th>\n",
       "      <td>0.40155</td>\n",
       "      <td>1.00000</td>\n",
       "    </tr>\n",
       "  </tbody>\n",
       "</table>\n",
       "</div>"
      ],
      "text/plain": [
       "                count  RnD_relative\n",
       "count         1.00000       0.40155\n",
       "RnD_relative  0.40155       1.00000"
      ]
     },
     "execution_count": 208,
     "metadata": {},
     "output_type": "execute_result"
    }
   ],
   "source": [
    "# correlation:\n",
    "dfg.corr()"
   ]
  },
  {
   "cell_type": "code",
   "execution_count": 220,
   "metadata": {},
   "outputs": [
    {
     "name": "stdout",
     "output_type": "stream",
     "text": [
      "1. slope =  2672.570319716577 2. intercept =  27205.41499617879 3. r_value =  0.4015497500065152 4. p_value =  0.0152067245315461 5, std_err =  1045.3665713563132\n"
     ]
    }
   ],
   "source": [
    "# linear regression - how well does one explain the other ?\n",
    "\n",
    "# define x and y\n",
    "\n",
    "x = dfg[\"RnD_relative\"]\n",
    "y = dfg[\"count\"]\n",
    "\n",
    "slope, intercept, r_value, p_value, std_err = stats.linregress(x, y)\n",
    "print(\"1. slope = \", slope, \"2. intercept = \", intercept, \"3. r_value = \", r_value, \"4. p_value = \", p_value, \"5, std_err = \", std_err)"
   ]
  },
  {
   "cell_type": "markdown",
   "metadata": {},
   "source": [
    "Relative RnD investement **doesn't** seem to be highly related with the number of patents registered in an industry (At least not when looking across all countries in the world and agglomerating all companies). \n",
    "\n",
    "However the results do mirror an expected positive trend: the more you invest, the more patents you will have.\n",
    "\n",
    ">We have obtained a **correlation = 0.4** and a **R*** **=0.4**\n",
    "\n",
    "_* The closer R is to either the of the two extremes, the better the fit of the data points to the line_\n"
   ]
  },
  {
   "cell_type": "code",
   "execution_count": 239,
   "metadata": {},
   "outputs": [
    {
     "data": {
      "text/plain": [
       "([<matplotlib.axis.YTick at 0x2d04fed0dd8>,\n",
       "  <matplotlib.axis.YTick at 0x2d04fed05c0>,\n",
       "  <matplotlib.axis.YTick at 0x2d04fec8128>,\n",
       "  <matplotlib.axis.YTick at 0x2d04fee3b00>,\n",
       "  <matplotlib.axis.YTick at 0x2d04fef2ef0>,\n",
       "  <matplotlib.axis.YTick at 0x2d04fee3e48>,\n",
       "  <matplotlib.axis.YTick at 0x2d04fef8080>],\n",
       " <a list of 7 Text yticklabel objects>)"
      ]
     },
     "execution_count": 239,
     "metadata": {},
     "output_type": "execute_result"
    },
    {
     "data": {
      "image/png": "[encoded data removed]",
      "text/plain": [
       "<Figure size 720x360 with 1 Axes>"
      ]
     },
     "metadata": {
      "needs_background": "light"
     },
     "output_type": "display_data"
    }
   ],
   "source": [
    "# plot:\n",
    "f, ax = plt.subplots(figsize=(10, 5))\n",
    "\n",
    "# plot function\n",
    "sns.regplot(data = dfg, x=\"RnD_relative\", y=\"count\", marker = \"+\")\n",
    "\n",
    "# style changes\n",
    "plt.grid(axis=\"both\")\n",
    "\n",
    "# labeling\n",
    "plt.title(\"Relationship between RnD investement and patent filing\", fontsize=18)\n",
    "plt.xlabel(\"Relative RnD investement\", fontsize=12)\n",
    "plt.ylabel(\"Number of patents\", fontsize=12)\n",
    "plt.yticks(np.arange(0, 1400000, 200000))"
   ]
  },
  {
   "cell_type": "markdown",
   "metadata": {},
   "source": [
    "#### overall analysis of %"
   ]
  },
  {
   "cell_type": "code",
   "execution_count": 248,
   "metadata": {},
   "outputs": [],
   "source": [
    "dfg_c = dfm.groupby([\"industry\"]).count()[[\"company\"]]"
   ]
  },
  {
   "cell_type": "code",
   "execution_count": 255,
   "metadata": {},
   "outputs": [
    {
     "data": {
      "application/vnd.plotly.v1+json": {
       "config": {
        "plotlyServerURL": "https://plot.ly"
       },
       "data": [
        {
         "domain": {
          "x": [
           0,
           0.4
          ],
          "y": [
           0,
           1
          ]
         },
         "labels": [
          "Aerospace & Defense",
          "Alternative Energy",
          "Automobiles & Parts",
          "Banks",
          "Chemicals",
          "Construction & Materials",
          "Electricity",
          "Electronic & Electrical Equipment",
          "Financial Services",
          "Fixed Line Telecommunications",
          "Food & Drug Retailers",
          "Food Producers",
          "Forestry & Paper",
          "Gas, Water & Multiutilities",
          "General Industrials",
          "General Retailers",
          "Health Care Equipment & Services",
          "Household Goods & Home Construction",
          "Industrial Metals & Mining",
          "Industrial Transportation",
          "Leisure Goods",
          "Media",
          "Mining",
          "Mobile Telecommunications",
          "Nonlife Insurance",
          "Oil & Gas Producers",
          "Oil Equipment, Services & Distribution",
          "Personal Goods",
          "Pharmaceuticals & Biotechnology",
          "Real Estate Investment Trusts",
          "Software & Computer Services",
          "Support Services",
          "Technology Hardware & Equipment",
          "Tobacco",
          "Travel & Leisure",
          " Industrial Engineering"
         ],
         "marker": {
          "colors": [
           [
            0.6196078431372549,
            0.00392156862745098,
            0.25882352941176473,
            1
           ],
           [
            0.8853517877739331,
            0.3190311418685121,
            0.29042675893886966,
            1
           ],
           [
            0.9873125720876587,
            0.6473663975394078,
            0.3642445213379469,
            1
           ],
           [
            0.9971549404075356,
            0.9118031526336025,
            0.6010765090349866,
            1
           ],
           [
            0.9288735101883892,
            0.9715494040753557,
            0.6380622837370243,
            1
           ],
           [
            0.6334486735870821,
            0.8521337946943485,
            0.6436755094194541,
            1
           ],
           [
            0.2800461361014994,
            0.6269896193771626,
            0.7024221453287197,
            1
           ],
           [
            0.3686274509803922,
            0.30980392156862746,
            0.6352941176470588,
            1
           ]
          ],
          "line": {
           "color": "#FFF",
           "width": 2
          }
         },
         "showlegend": true,
         "textinfo": "percent",
         "type": "pie",
         "values": [
          113540,
          2312,
          511728,
          5508,
          275864,
          26136,
          16388,
          860288,
          868,
          21028,
          8,
          19748,
          6300,
          4480,
          282812,
          6372,
          104720,
          49664,
          46900,
          624,
          181904,
          16916,
          3232,
          1800,
          28,
          34752,
          24984,
          35116,
          147548,
          54128,
          198536,
          8256,
          860852,
          6616,
          1732,
          206104
         ]
        },
        {
         "domain": {
          "x": [
           0.6,
           1
          ],
          "y": [
           0,
           1
          ]
         },
         "labels": [
          "Aerospace & Defense",
          "Alternative Energy",
          "Automobiles & Parts",
          "Banks",
          "Chemicals",
          "Construction & Materials",
          "Electricity",
          "Electronic & Electrical Equipment",
          "Financial Services",
          "Fixed Line Telecommunications",
          "Food & Drug Retailers",
          "Food Producers",
          "Forestry & Paper",
          "Gas, Water & Multiutilities",
          "General Industrials",
          "General Retailers",
          "Health Care Equipment & Services",
          "Household Goods & Home Construction",
          "Industrial Metals & Mining",
          "Industrial Transportation",
          "Leisure Goods",
          "Media",
          "Mining",
          "Mobile Telecommunications",
          "Nonlife Insurance",
          "Oil & Gas Producers",
          "Oil Equipment, Services & Distribution",
          "Personal Goods",
          "Pharmaceuticals & Biotechnology",
          "Real Estate Investment Trusts",
          "Software & Computer Services",
          "Support Services",
          "Technology Hardware & Equipment",
          "Tobacco",
          "Travel & Leisure",
          " Industrial Engineering"
         ],
         "marker": {
          "colors": [
           [
            0.6196078431372549,
            0.00392156862745098,
            0.25882352941176473,
            1
           ],
           [
            0.8853517877739331,
            0.3190311418685121,
            0.29042675893886966,
            1
           ],
           [
            0.9873125720876587,
            0.6473663975394078,
            0.3642445213379469,
            1
           ],
           [
            0.9971549404075356,
            0.9118031526336025,
            0.6010765090349866,
            1
           ],
           [
            0.9288735101883892,
            0.9715494040753557,
            0.6380622837370243,
            1
           ],
           [
            0.6334486735870821,
            0.8521337946943485,
            0.6436755094194541,
            1
           ],
           [
            0.2800461361014994,
            0.6269896193771626,
            0.7024221453287197,
            1
           ],
           [
            0.3686274509803922,
            0.30980392156862746,
            0.6352941176470588,
            1
           ]
          ],
          "line": {
           "color": "#FFF",
           "width": 2
          }
         },
         "showlegend": true,
         "textinfo": "percent",
         "type": "pie",
         "values": [
          744,
          88,
          1980,
          168,
          2084,
          644,
          284,
          2776,
          16,
          236,
          8,
          624,
          136,
          188,
          1216,
          136,
          1236,
          532,
          504,
          48,
          540,
          160,
          148,
          20,
          16,
          428,
          224,
          468,
          3864,
          84,
          1692,
          224,
          3892,
          120,
          120,
          2716
         ]
        }
       ],
       "layout": {
        "autosize": false,
        "height": 600,
        "template": {
         "data": {
          "bar": [
           {
            "error_x": {
             "color": "#2a3f5f"
            },
            "error_y": {
             "color": "#2a3f5f"
            },
            "marker": {
             "line": {
              "color": "#E5ECF6",
              "width": 0.5
             }
            },
            "type": "bar"
           }
          ],
          "barpolar": [
           {
            "marker": {
             "line": {
              "color": "#E5ECF6",
              "width": 0.5
             }
            },
            "type": "barpolar"
           }
          ],
          "carpet": [
           {
            "aaxis": {
             "endlinecolor": "#2a3f5f",
             "gridcolor": "white",
             "linecolor": "white",
             "minorgridcolor": "white",
             "startlinecolor": "#2a3f5f"
            },
            "baxis": {
             "endlinecolor": "#2a3f5f",
             "gridcolor": "white",
             "linecolor": "white",
             "minorgridcolor": "white",
             "startlinecolor": "#2a3f5f"
            },
            "type": "carpet"
           }
          ],
          "choropleth": [
           {
            "colorbar": {
             "outlinewidth": 0,
             "ticks": ""
            },
            "type": "choropleth"
           }
          ],
          "contour": [
           {
            "colorbar": {
             "outlinewidth": 0,
             "ticks": ""
            },
            "colorscale": [
             [
              0,
              "#0d0887"
             ],
             [
              0.1111111111111111,
              "#46039f"
             ],
             [
              0.2222222222222222,
              "#7201a8"
             ],
             [
              0.3333333333333333,
              "#9c179e"
             ],
             [
              0.4444444444444444,
              "#bd3786"
             ],
             [
              0.5555555555555556,
              "#d8576b"
             ],
             [
              0.6666666666666666,
              "#ed7953"
             ],
             [
              0.7777777777777778,
              "#fb9f3a"
             ],
             [
              0.8888888888888888,
              "#fdca26"
             ],
             [
              1,
              "#f0f921"
             ]
            ],
            "type": "contour"
           }
          ],
          "contourcarpet": [
           {
            "colorbar": {
             "outlinewidth": 0,
             "ticks": ""
            },
            "type": "contourcarpet"
           }
          ],
          "heatmap": [
           {
            "colorbar": {
             "outlinewidth": 0,
             "ticks": ""
            },
            "colorscale": [
             [
              0,
              "#0d0887"
             ],
             [
              0.1111111111111111,
              "#46039f"
             ],
             [
              0.2222222222222222,
              "#7201a8"
             ],
             [
              0.3333333333333333,
              "#9c179e"
             ],
             [
              0.4444444444444444,
              "#bd3786"
             ],
             [
              0.5555555555555556,
              "#d8576b"
             ],
             [
              0.6666666666666666,
              "#ed7953"
             ],
             [
              0.7777777777777778,
              "#fb9f3a"
             ],
             [
              0.8888888888888888,
              "#fdca26"
             ],
             [
              1,
              "#f0f921"
             ]
            ],
            "type": "heatmap"
           }
          ],
          "heatmapgl": [
           {
            "colorbar": {
             "outlinewidth": 0,
             "ticks": ""
            },
            "colorscale": [
             [
              0,
              "#0d0887"
             ],
             [
              0.1111111111111111,
              "#46039f"
             ],
             [
              0.2222222222222222,
              "#7201a8"
             ],
             [
              0.3333333333333333,
              "#9c179e"
             ],
             [
              0.4444444444444444,
              "#bd3786"
             ],
             [
              0.5555555555555556,
              "#d8576b"
             ],
             [
              0.6666666666666666,
              "#ed7953"
             ],
             [
              0.7777777777777778,
              "#fb9f3a"
             ],
             [
              0.8888888888888888,
              "#fdca26"
             ],
             [
              1,
              "#f0f921"
             ]
            ],
            "type": "heatmapgl"
           }
          ],
          "histogram": [
           {
            "marker": {
             "colorbar": {
              "outlinewidth": 0,
              "ticks": ""
             }
            },
            "type": "histogram"
           }
          ],
          "histogram2d": [
           {
            "colorbar": {
             "outlinewidth": 0,
             "ticks": ""
            },
            "colorscale": [
             [
              0,
              "#0d0887"
             ],
             [
              0.1111111111111111,
              "#46039f"
             ],
             [
              0.2222222222222222,
              "#7201a8"
             ],
             [
              0.3333333333333333,
              "#9c179e"
             ],
             [
              0.4444444444444444,
              "#bd3786"
             ],
             [
              0.5555555555555556,
              "#d8576b"
             ],
             [
              0.6666666666666666,
              "#ed7953"
             ],
             [
              0.7777777777777778,
              "#fb9f3a"
             ],
             [
              0.8888888888888888,
              "#fdca26"
             ],
             [
              1,
              "#f0f921"
             ]
            ],
            "type": "histogram2d"
           }
          ],
          "histogram2dcontour": [
           {
            "colorbar": {
             "outlinewidth": 0,
             "ticks": ""
            },
            "colorscale": [
             [
              0,
              "#0d0887"
             ],
             [
              0.1111111111111111,
              "#46039f"
             ],
             [
              0.2222222222222222,
              "#7201a8"
             ],
             [
              0.3333333333333333,
              "#9c179e"
             ],
             [
              0.4444444444444444,
              "#bd3786"
             ],
             [
              0.5555555555555556,
              "#d8576b"
             ],
             [
              0.6666666666666666,
              "#ed7953"
             ],
             [
              0.7777777777777778,
              "#fb9f3a"
             ],
             [
              0.8888888888888888,
              "#fdca26"
             ],
             [
              1,
              "#f0f921"
             ]
            ],
            "type": "histogram2dcontour"
           }
          ],
          "mesh3d": [
           {
            "colorbar": {
             "outlinewidth": 0,
             "ticks": ""
            },
            "type": "mesh3d"
           }
          ],
          "parcoords": [
           {
            "line": {
             "colorbar": {
              "outlinewidth": 0,
              "ticks": ""
             }
            },
            "type": "parcoords"
           }
          ],
          "scatter": [
           {
            "marker": {
             "colorbar": {
              "outlinewidth": 0,
              "ticks": ""
             }
            },
            "type": "scatter"
           }
          ],
          "scatter3d": [
           {
            "line": {
             "colorbar": {
              "outlinewidth": 0,
              "ticks": ""
             }
            },
            "marker": {
             "colorbar": {
              "outlinewidth": 0,
              "ticks": ""
             }
            },
            "type": "scatter3d"
           }
          ],
          "scattercarpet": [
           {
            "marker": {
             "colorbar": {
              "outlinewidth": 0,
              "ticks": ""
             }
            },
            "type": "scattercarpet"
           }
          ],
          "scattergeo": [
           {
            "marker": {
             "colorbar": {
              "outlinewidth": 0,
              "ticks": ""
             }
            },
            "type": "scattergeo"
           }
          ],
          "scattergl": [
           {
            "marker": {
             "colorbar": {
              "outlinewidth": 0,
              "ticks": ""
             }
            },
            "type": "scattergl"
           }
          ],
          "scattermapbox": [
           {
            "marker": {
             "colorbar": {
              "outlinewidth": 0,
              "ticks": ""
             }
            },
            "type": "scattermapbox"
           }
          ],
          "scatterpolar": [
           {
            "marker": {
             "colorbar": {
              "outlinewidth": 0,
              "ticks": ""
             }
            },
            "type": "scatterpolar"
           }
          ],
          "scatterpolargl": [
           {
            "marker": {
             "colorbar": {
              "outlinewidth": 0,
              "ticks": ""
             }
            },
            "type": "scatterpolargl"
           }
          ],
          "scatterternary": [
           {
            "marker": {
             "colorbar": {
              "outlinewidth": 0,
              "ticks": ""
             }
            },
            "type": "scatterternary"
           }
          ],
          "surface": [
           {
            "colorbar": {
             "outlinewidth": 0,
             "ticks": ""
            },
            "colorscale": [
             [
              0,
              "#0d0887"
             ],
             [
              0.1111111111111111,
              "#46039f"
             ],
             [
              0.2222222222222222,
              "#7201a8"
             ],
             [
              0.3333333333333333,
              "#9c179e"
             ],
             [
              0.4444444444444444,
              "#bd3786"
             ],
             [
              0.5555555555555556,
              "#d8576b"
             ],
             [
              0.6666666666666666,
              "#ed7953"
             ],
             [
              0.7777777777777778,
              "#fb9f3a"
             ],
             [
              0.8888888888888888,
              "#fdca26"
             ],
             [
              1,
              "#f0f921"
             ]
            ],
            "type": "surface"
           }
          ],
          "table": [
           {
            "cells": {
             "fill": {
              "color": "#EBF0F8"
             },
             "line": {
              "color": "white"
             }
            },
            "header": {
             "fill": {
              "color": "#C8D4E3"
             },
             "line": {
              "color": "white"
             }
            },
            "type": "table"
           }
          ]
         },
         "layout": {
          "annotationdefaults": {
           "arrowcolor": "#2a3f5f",
           "arrowhead": 0,
           "arrowwidth": 1
          },
          "colorscale": {
           "diverging": [
            [
             0,
             "#8e0152"
            ],
            [
             0.1,
             "#c51b7d"
            ],
            [
             0.2,
             "#de77ae"
            ],
            [
             0.3,
             "#f1b6da"
            ],
            [
             0.4,
             "#fde0ef"
            ],
            [
             0.5,
             "#f7f7f7"
            ],
            [
             0.6,
             "#e6f5d0"
            ],
            [
             0.7,
             "#b8e186"
            ],
            [
             0.8,
             "#7fbc41"
            ],
            [
             0.9,
             "#4d9221"
            ],
            [
             1,
             "#276419"
            ]
           ],
           "sequential": [
            [
             0,
             "#0d0887"
            ],
            [
             0.1111111111111111,
             "#46039f"
            ],
            [
             0.2222222222222222,
             "#7201a8"
            ],
            [
             0.3333333333333333,
             "#9c179e"
            ],
            [
             0.4444444444444444,
             "#bd3786"
            ],
            [
             0.5555555555555556,
             "#d8576b"
            ],
            [
             0.6666666666666666,
             "#ed7953"
            ],
            [
             0.7777777777777778,
             "#fb9f3a"
            ],
            [
             0.8888888888888888,
             "#fdca26"
            ],
            [
             1,
             "#f0f921"
            ]
           ],
           "sequentialminus": [
            [
             0,
             "#0d0887"
            ],
            [
             0.1111111111111111,
             "#46039f"
            ],
            [
             0.2222222222222222,
             "#7201a8"
            ],
            [
             0.3333333333333333,
             "#9c179e"
            ],
            [
             0.4444444444444444,
             "#bd3786"
            ],
            [
             0.5555555555555556,
             "#d8576b"
            ],
            [
             0.6666666666666666,
             "#ed7953"
            ],
            [
             0.7777777777777778,
             "#fb9f3a"
            ],
            [
             0.8888888888888888,
             "#fdca26"
            ],
            [
             1,
             "#f0f921"
            ]
           ]
          },
          "colorway": [
           "#636efa",
           "#EF553B",
           "#00cc96",
           "#ab63fa",
           "#FFA15A",
           "#19d3f3",
           "#FF6692",
           "#B6E880",
           "#FF97FF",
           "#FECB52"
          ],
          "font": {
           "color": "#2a3f5f"
          },
          "geo": {
           "bgcolor": "white",
           "lakecolor": "white",
           "landcolor": "#E5ECF6",
           "showlakes": true,
           "showland": true,
           "subunitcolor": "white"
          },
          "hoverlabel": {
           "align": "left"
          },
          "hovermode": "closest",
          "mapbox": {
           "style": "light"
          },
          "paper_bgcolor": "white",
          "plot_bgcolor": "#E5ECF6",
          "polar": {
           "angularaxis": {
            "gridcolor": "white",
            "linecolor": "white",
            "ticks": ""
           },
           "bgcolor": "#E5ECF6",
           "radialaxis": {
            "gridcolor": "white",
            "linecolor": "white",
            "ticks": ""
           }
          },
          "scene": {
           "xaxis": {
            "backgroundcolor": "#E5ECF6",
            "gridcolor": "white",
            "gridwidth": 2,
            "linecolor": "white",
            "showbackground": true,
            "ticks": "",
            "zerolinecolor": "white"
           },
           "yaxis": {
            "backgroundcolor": "#E5ECF6",
            "gridcolor": "white",
            "gridwidth": 2,
            "linecolor": "white",
            "showbackground": true,
            "ticks": "",
            "zerolinecolor": "white"
           },
           "zaxis": {
            "backgroundcolor": "#E5ECF6",
            "gridcolor": "white",
            "gridwidth": 2,
            "linecolor": "white",
            "showbackground": true,
            "ticks": "",
            "zerolinecolor": "white"
           }
          },
          "shapedefaults": {
           "line": {
            "color": "#2a3f5f"
           }
          },
          "ternary": {
           "aaxis": {
            "gridcolor": "white",
            "linecolor": "white",
            "ticks": ""
           },
           "baxis": {
            "gridcolor": "white",
            "linecolor": "white",
            "ticks": ""
           },
           "bgcolor": "#E5ECF6",
           "caxis": {
            "gridcolor": "white",
            "linecolor": "white",
            "ticks": ""
           }
          },
          "title": {
           "x": 0.05
          },
          "xaxis": {
           "automargin": true,
           "gridcolor": "white",
           "linecolor": "white",
           "ticks": "",
           "zerolinecolor": "white",
           "zerolinewidth": 2
          },
          "yaxis": {
           "automargin": true,
           "gridcolor": "white",
           "linecolor": "white",
           "ticks": "",
           "zerolinecolor": "white",
           "zerolinewidth": 2
          }
         }
        },
        "title": {
         "text": "Trends in the markets"
        },
        "width": 1000
       }
      },
      "text/html": [
       "<div>\n",
       "        \n",
       "        \n",
       "            <div id=\"9a1a7808-398d-44d3-927a-b081b82d24db\" class=\"plotly-graph-div\" style=\"height:600px; width:1000px;\"></div>\n",
       "            <script type=\"text/javascript\">\n",
       "                require([\"plotly\"], function(Plotly) {\n",
       "                    window.PLOTLYENV=window.PLOTLYENV || {};\n",
       "                    \n",
       "                if (document.getElementById(\"9a1a7808-398d-44d3-927a-b081b82d24db\")) {\n",
       "                    Plotly.newPlot(\n",
       "                        '9a1a7808-398d-44d3-927a-b081b82d24db',\n",
       "                        [{\"domain\": {\"x\": [0.0, 0.4], \"y\": [0.0, 1]}, \"labels\": [\"Aerospace & Defense\", \"Alternative Energy\", \"Automobiles & Parts\", \"Banks\", \"Chemicals\", \"Construction & Materials\", \"Electricity\", \"Electronic & Electrical Equipment\", \"Financial Services\", \"Fixed Line Telecommunications\", \"Food & Drug Retailers\", \"Food Producers\", \"Forestry & Paper\", \"Gas, Water & Multiutilities\", \"General Industrials\", \"General Retailers\", \"Health Care Equipment & Services\", \"Household Goods & Home Construction\", \"Industrial Metals & Mining\", \"Industrial Transportation\", \"Leisure Goods\", \"Media\", \"Mining\", \"Mobile Telecommunications\", \"Nonlife Insurance\", \"Oil & Gas Producers\", \"Oil Equipment, Services & Distribution\", \"Personal Goods\", \"Pharmaceuticals & Biotechnology\", \"Real Estate Investment Trusts\", \"Software & Computer Services\", \"Support Services\", \"Technology Hardware & Equipment\", \"Tobacco\", \"Travel & Leisure\", \"\\u00a0Industrial Engineering\"], \"marker\": {\"colors\": [[0.6196078431372549, 0.00392156862745098, 0.25882352941176473, 1.0], [0.8853517877739331, 0.3190311418685121, 0.29042675893886966, 1.0], [0.9873125720876587, 0.6473663975394078, 0.3642445213379469, 1.0], [0.9971549404075356, 0.9118031526336025, 0.6010765090349866, 1.0], [0.9288735101883892, 0.9715494040753557, 0.6380622837370243, 1.0], [0.6334486735870821, 0.8521337946943485, 0.6436755094194541, 1.0], [0.2800461361014994, 0.6269896193771626, 0.7024221453287197, 1.0], [0.3686274509803922, 0.30980392156862746, 0.6352941176470588, 1.0]], \"line\": {\"color\": \"#FFF\", \"width\": 2}}, \"showlegend\": true, \"textinfo\": \"percent\", \"type\": \"pie\", \"values\": [113540, 2312, 511728, 5508, 275864, 26136, 16388, 860288, 868, 21028, 8, 19748, 6300, 4480, 282812, 6372, 104720, 49664, 46900, 624, 181904, 16916, 3232, 1800, 28, 34752, 24984, 35116, 147548, 54128, 198536, 8256, 860852, 6616, 1732, 206104]}, {\"domain\": {\"x\": [0.6, 1], \"y\": [0.0, 1]}, \"labels\": [\"Aerospace & Defense\", \"Alternative Energy\", \"Automobiles & Parts\", \"Banks\", \"Chemicals\", \"Construction & Materials\", \"Electricity\", \"Electronic & Electrical Equipment\", \"Financial Services\", \"Fixed Line Telecommunications\", \"Food & Drug Retailers\", \"Food Producers\", \"Forestry & Paper\", \"Gas, Water & Multiutilities\", \"General Industrials\", \"General Retailers\", \"Health Care Equipment & Services\", \"Household Goods & Home Construction\", \"Industrial Metals & Mining\", \"Industrial Transportation\", \"Leisure Goods\", \"Media\", \"Mining\", \"Mobile Telecommunications\", \"Nonlife Insurance\", \"Oil & Gas Producers\", \"Oil Equipment, Services & Distribution\", \"Personal Goods\", \"Pharmaceuticals & Biotechnology\", \"Real Estate Investment Trusts\", \"Software & Computer Services\", \"Support Services\", \"Technology Hardware & Equipment\", \"Tobacco\", \"Travel & Leisure\", \"\\u00a0Industrial Engineering\"], \"marker\": {\"colors\": [[0.6196078431372549, 0.00392156862745098, 0.25882352941176473, 1.0], [0.8853517877739331, 0.3190311418685121, 0.29042675893886966, 1.0], [0.9873125720876587, 0.6473663975394078, 0.3642445213379469, 1.0], [0.9971549404075356, 0.9118031526336025, 0.6010765090349866, 1.0], [0.9288735101883892, 0.9715494040753557, 0.6380622837370243, 1.0], [0.6334486735870821, 0.8521337946943485, 0.6436755094194541, 1.0], [0.2800461361014994, 0.6269896193771626, 0.7024221453287197, 1.0], [0.3686274509803922, 0.30980392156862746, 0.6352941176470588, 1.0]], \"line\": {\"color\": \"#FFF\", \"width\": 2}}, \"showlegend\": true, \"textinfo\": \"percent\", \"type\": \"pie\", \"values\": [744, 88, 1980, 168, 2084, 644, 284, 2776, 16, 236, 8, 624, 136, 188, 1216, 136, 1236, 532, 504, 48, 540, 160, 148, 20, 16, 428, 224, 468, 3864, 84, 1692, 224, 3892, 120, 120, 2716]}],\n",
       "                        {\"autosize\": false, \"height\": 600, \"template\": {\"data\": {\"bar\": [{\"error_x\": {\"color\": \"#2a3f5f\"}, \"error_y\": {\"color\": \"#2a3f5f\"}, \"marker\": {\"line\": {\"color\": \"#E5ECF6\", \"width\": 0.5}}, \"type\": \"bar\"}], \"barpolar\": [{\"marker\": {\"line\": {\"color\": \"#E5ECF6\", \"width\": 0.5}}, \"type\": \"barpolar\"}], \"carpet\": [{\"aaxis\": {\"endlinecolor\": \"#2a3f5f\", \"gridcolor\": \"white\", \"linecolor\": \"white\", \"minorgridcolor\": \"white\", \"startlinecolor\": \"#2a3f5f\"}, \"baxis\": {\"endlinecolor\": \"#2a3f5f\", \"gridcolor\": \"white\", \"linecolor\": \"white\", \"minorgridcolor\": \"white\", \"startlinecolor\": \"#2a3f5f\"}, \"type\": \"carpet\"}], \"choropleth\": [{\"colorbar\": {\"outlinewidth\": 0, \"ticks\": \"\"}, \"type\": \"choropleth\"}], \"contour\": [{\"colorbar\": {\"outlinewidth\": 0, \"ticks\": \"\"}, \"colorscale\": [[0.0, \"#0d0887\"], [0.1111111111111111, \"#46039f\"], [0.2222222222222222, \"#7201a8\"], [0.3333333333333333, \"#9c179e\"], [0.4444444444444444, \"#bd3786\"], [0.5555555555555556, \"#d8576b\"], [0.6666666666666666, \"#ed7953\"], [0.7777777777777778, \"#fb9f3a\"], [0.8888888888888888, \"#fdca26\"], [1.0, \"#f0f921\"]], \"type\": \"contour\"}], \"contourcarpet\": [{\"colorbar\": {\"outlinewidth\": 0, \"ticks\": \"\"}, \"type\": \"contourcarpet\"}], \"heatmap\": [{\"colorbar\": {\"outlinewidth\": 0, \"ticks\": \"\"}, \"colorscale\": [[0.0, \"#0d0887\"], [0.1111111111111111, \"#46039f\"], [0.2222222222222222, \"#7201a8\"], [0.3333333333333333, \"#9c179e\"], [0.4444444444444444, \"#bd3786\"], [0.5555555555555556, \"#d8576b\"], [0.6666666666666666, \"#ed7953\"], [0.7777777777777778, \"#fb9f3a\"], [0.8888888888888888, \"#fdca26\"], [1.0, \"#f0f921\"]], \"type\": \"heatmap\"}], \"heatmapgl\": [{\"colorbar\": {\"outlinewidth\": 0, \"ticks\": \"\"}, \"colorscale\": [[0.0, \"#0d0887\"], [0.1111111111111111, \"#46039f\"], [0.2222222222222222, \"#7201a8\"], [0.3333333333333333, \"#9c179e\"], [0.4444444444444444, \"#bd3786\"], [0.5555555555555556, \"#d8576b\"], [0.6666666666666666, \"#ed7953\"], [0.7777777777777778, \"#fb9f3a\"], [0.8888888888888888, \"#fdca26\"], [1.0, \"#f0f921\"]], \"type\": \"heatmapgl\"}], \"histogram\": [{\"marker\": {\"colorbar\": {\"outlinewidth\": 0, \"ticks\": \"\"}}, \"type\": \"histogram\"}], \"histogram2d\": [{\"colorbar\": {\"outlinewidth\": 0, \"ticks\": \"\"}, \"colorscale\": [[0.0, \"#0d0887\"], [0.1111111111111111, \"#46039f\"], [0.2222222222222222, \"#7201a8\"], [0.3333333333333333, \"#9c179e\"], [0.4444444444444444, \"#bd3786\"], [0.5555555555555556, \"#d8576b\"], [0.6666666666666666, \"#ed7953\"], [0.7777777777777778, \"#fb9f3a\"], [0.8888888888888888, \"#fdca26\"], [1.0, \"#f0f921\"]], \"type\": \"histogram2d\"}], \"histogram2dcontour\": [{\"colorbar\": {\"outlinewidth\": 0, \"ticks\": \"\"}, \"colorscale\": [[0.0, \"#0d0887\"], [0.1111111111111111, \"#46039f\"], [0.2222222222222222, \"#7201a8\"], [0.3333333333333333, \"#9c179e\"], [0.4444444444444444, \"#bd3786\"], [0.5555555555555556, \"#d8576b\"], [0.6666666666666666, \"#ed7953\"], [0.7777777777777778, \"#fb9f3a\"], [0.8888888888888888, \"#fdca26\"], [1.0, \"#f0f921\"]], \"type\": \"histogram2dcontour\"}], \"mesh3d\": [{\"colorbar\": {\"outlinewidth\": 0, \"ticks\": \"\"}, \"type\": \"mesh3d\"}], \"parcoords\": [{\"line\": {\"colorbar\": {\"outlinewidth\": 0, \"ticks\": \"\"}}, \"type\": \"parcoords\"}], \"scatter\": [{\"marker\": {\"colorbar\": {\"outlinewidth\": 0, \"ticks\": \"\"}}, \"type\": \"scatter\"}], \"scatter3d\": [{\"line\": {\"colorbar\": {\"outlinewidth\": 0, \"ticks\": \"\"}}, \"marker\": {\"colorbar\": {\"outlinewidth\": 0, \"ticks\": \"\"}}, \"type\": \"scatter3d\"}], \"scattercarpet\": [{\"marker\": {\"colorbar\": {\"outlinewidth\": 0, \"ticks\": \"\"}}, \"type\": \"scattercarpet\"}], \"scattergeo\": [{\"marker\": {\"colorbar\": {\"outlinewidth\": 0, \"ticks\": \"\"}}, \"type\": \"scattergeo\"}], \"scattergl\": [{\"marker\": {\"colorbar\": {\"outlinewidth\": 0, \"ticks\": \"\"}}, \"type\": \"scattergl\"}], \"scattermapbox\": [{\"marker\": {\"colorbar\": {\"outlinewidth\": 0, \"ticks\": \"\"}}, \"type\": \"scattermapbox\"}], \"scatterpolar\": [{\"marker\": {\"colorbar\": {\"outlinewidth\": 0, \"ticks\": \"\"}}, \"type\": \"scatterpolar\"}], \"scatterpolargl\": [{\"marker\": {\"colorbar\": {\"outlinewidth\": 0, \"ticks\": \"\"}}, \"type\": \"scatterpolargl\"}], \"scatterternary\": [{\"marker\": {\"colorbar\": {\"outlinewidth\": 0, \"ticks\": \"\"}}, \"type\": \"scatterternary\"}], \"surface\": [{\"colorbar\": {\"outlinewidth\": 0, \"ticks\": \"\"}, \"colorscale\": [[0.0, \"#0d0887\"], [0.1111111111111111, \"#46039f\"], [0.2222222222222222, \"#7201a8\"], [0.3333333333333333, \"#9c179e\"], [0.4444444444444444, \"#bd3786\"], [0.5555555555555556, \"#d8576b\"], [0.6666666666666666, \"#ed7953\"], [0.7777777777777778, \"#fb9f3a\"], [0.8888888888888888, \"#fdca26\"], [1.0, \"#f0f921\"]], \"type\": \"surface\"}], \"table\": [{\"cells\": {\"fill\": {\"color\": \"#EBF0F8\"}, \"line\": {\"color\": \"white\"}}, \"header\": {\"fill\": {\"color\": \"#C8D4E3\"}, \"line\": {\"color\": \"white\"}}, \"type\": \"table\"}]}, \"layout\": {\"annotationdefaults\": {\"arrowcolor\": \"#2a3f5f\", \"arrowhead\": 0, \"arrowwidth\": 1}, \"colorscale\": {\"diverging\": [[0, \"#8e0152\"], [0.1, \"#c51b7d\"], [0.2, \"#de77ae\"], [0.3, \"#f1b6da\"], [0.4, \"#fde0ef\"], [0.5, \"#f7f7f7\"], [0.6, \"#e6f5d0\"], [0.7, \"#b8e186\"], [0.8, \"#7fbc41\"], [0.9, \"#4d9221\"], [1, \"#276419\"]], \"sequential\": [[0.0, \"#0d0887\"], [0.1111111111111111, \"#46039f\"], [0.2222222222222222, \"#7201a8\"], [0.3333333333333333, \"#9c179e\"], [0.4444444444444444, \"#bd3786\"], [0.5555555555555556, \"#d8576b\"], [0.6666666666666666, \"#ed7953\"], [0.7777777777777778, \"#fb9f3a\"], [0.8888888888888888, \"#fdca26\"], [1.0, \"#f0f921\"]], \"sequentialminus\": [[0.0, \"#0d0887\"], [0.1111111111111111, \"#46039f\"], [0.2222222222222222, \"#7201a8\"], [0.3333333333333333, \"#9c179e\"], [0.4444444444444444, \"#bd3786\"], [0.5555555555555556, \"#d8576b\"], [0.6666666666666666, \"#ed7953\"], [0.7777777777777778, \"#fb9f3a\"], [0.8888888888888888, \"#fdca26\"], [1.0, \"#f0f921\"]]}, \"colorway\": [\"#636efa\", \"#EF553B\", \"#00cc96\", \"#ab63fa\", \"#FFA15A\", \"#19d3f3\", \"#FF6692\", \"#B6E880\", \"#FF97FF\", \"#FECB52\"], \"font\": {\"color\": \"#2a3f5f\"}, \"geo\": {\"bgcolor\": \"white\", \"lakecolor\": \"white\", \"landcolor\": \"#E5ECF6\", \"showlakes\": true, \"showland\": true, \"subunitcolor\": \"white\"}, \"hoverlabel\": {\"align\": \"left\"}, \"hovermode\": \"closest\", \"mapbox\": {\"style\": \"light\"}, \"paper_bgcolor\": \"white\", \"plot_bgcolor\": \"#E5ECF6\", \"polar\": {\"angularaxis\": {\"gridcolor\": \"white\", \"linecolor\": \"white\", \"ticks\": \"\"}, \"bgcolor\": \"#E5ECF6\", \"radialaxis\": {\"gridcolor\": \"white\", \"linecolor\": \"white\", \"ticks\": \"\"}}, \"scene\": {\"xaxis\": {\"backgroundcolor\": \"#E5ECF6\", \"gridcolor\": \"white\", \"gridwidth\": 2, \"linecolor\": \"white\", \"showbackground\": true, \"ticks\": \"\", \"zerolinecolor\": \"white\"}, \"yaxis\": {\"backgroundcolor\": \"#E5ECF6\", \"gridcolor\": \"white\", \"gridwidth\": 2, \"linecolor\": \"white\", \"showbackground\": true, \"ticks\": \"\", \"zerolinecolor\": \"white\"}, \"zaxis\": {\"backgroundcolor\": \"#E5ECF6\", \"gridcolor\": \"white\", \"gridwidth\": 2, \"linecolor\": \"white\", \"showbackground\": true, \"ticks\": \"\", \"zerolinecolor\": \"white\"}}, \"shapedefaults\": {\"line\": {\"color\": \"#2a3f5f\"}}, \"ternary\": {\"aaxis\": {\"gridcolor\": \"white\", \"linecolor\": \"white\", \"ticks\": \"\"}, \"baxis\": {\"gridcolor\": \"white\", \"linecolor\": \"white\", \"ticks\": \"\"}, \"bgcolor\": \"#E5ECF6\", \"caxis\": {\"gridcolor\": \"white\", \"linecolor\": \"white\", \"ticks\": \"\"}}, \"title\": {\"x\": 0.05}, \"xaxis\": {\"automargin\": true, \"gridcolor\": \"white\", \"linecolor\": \"white\", \"ticks\": \"\", \"zerolinecolor\": \"white\", \"zerolinewidth\": 2}, \"yaxis\": {\"automargin\": true, \"gridcolor\": \"white\", \"linecolor\": \"white\", \"ticks\": \"\", \"zerolinecolor\": \"white\", \"zerolinewidth\": 2}}}, \"title\": {\"text\": \"Trends in the markets\"}, \"width\": 1000},\n",
       "                        {\"responsive\": true}\n",
       "                    ).then(function(){\n",
       "                            \n",
       "var gd = document.getElementById('9a1a7808-398d-44d3-927a-b081b82d24db');\n",
       "var x = new MutationObserver(function (mutations, observer) {{\n",
       "        var display = window.getComputedStyle(gd).display;\n",
       "        if (!display || display === 'none') {{\n",
       "            console.log([gd, 'removed!']);\n",
       "            Plotly.purge(gd);\n",
       "            observer.disconnect();\n",
       "        }}\n",
       "}});\n",
       "\n",
       "// Listen for the removal of the full notebook cells\n",
       "var notebookContainer = gd.closest('#notebook-container');\n",
       "if (notebookContainer) {{\n",
       "    x.observe(notebookContainer, {childList: true});\n",
       "}}\n",
       "\n",
       "// Listen for the clearing of the current output cell\n",
       "var outputEl = gd.closest('.output');\n",
       "if (outputEl) {{\n",
       "    x.observe(outputEl, {childList: true});\n",
       "}}\n",
       "\n",
       "                        })\n",
       "                };\n",
       "                });\n",
       "            </script>\n",
       "        </div>"
      ]
     },
     "metadata": {},
     "output_type": "display_data"
    }
   ],
   "source": [
    "# patent count per industry\n",
    "\n",
    "cmap = plt.get_cmap('Spectral')\n",
    "colors = [cmap(i) for i in np.linspace(0, 1, 8)]\n",
    "\n",
    "patent_pie = go.Pie(labels=dfg.index, values=dfg[\"count\"], marker=dict(colors=colors\n",
    "                                                            , line=dict(color='#FFF', width=2)), \n",
    "                                                            domain={'x': [0.0, .4], 'y': [0.0, 1]}\n",
    "                                                            , showlegend=True, textinfo='percent')\n",
    "\n",
    "company_pie = go.Pie(labels=dfg_c.index, values=dfg_c[\"company\"], marker=dict(colors=colors\n",
    "                                                            , line=dict(color='#FFF', width=2)), \n",
    "                                                            domain={'x': [.6, 1], 'y': [0.0, 1]}\n",
    "                                                            , showlegend=True,  textinfo='percent')\n",
    "\n",
    "layout = go.Layout(height = 600,\n",
    "                   width = 1000,\n",
    "                   autosize = False,\n",
    "                   title = 'Trends in the markets')\n",
    "go.Figure(data = [patent_pie,company_pie ], layout = layout)\n"
   ]
  },
  {
   "cell_type": "markdown",
   "metadata": {},
   "source": [
    "### Q2.2: In that field, what companies do we have, how much do they invest into R&D compared to their profits?\n",
    "Fields of study: ```Technology Hardware & Equipment``` and ```Electronic & Electrical Equipment```"
   ]
  },
  {
   "cell_type": "code",
   "execution_count": 258,
   "metadata": {},
   "outputs": [
    {
     "ename": "ValueError",
     "evalue": "The truth value of a DataFrame is ambiguous. Use a.empty, a.bool(), a.item(), a.any() or a.all().",
     "output_type": "error",
     "traceback": [
      "\u001b[1;31m---------------------------------------------------------------------------\u001b[0m",
      "\u001b[1;31mValueError\u001b[0m                                Traceback (most recent call last)",
      "\u001b[1;32m<ipython-input-258-d55276155ecc>\u001b[0m in \u001b[0;36m<module>\u001b[1;34m\u001b[0m\n\u001b[1;32m----> 1\u001b[1;33m \u001b[0mdfm\u001b[0m \u001b[1;33m=\u001b[0m \u001b[0mdfm\u001b[0m\u001b[1;33m[\u001b[0m\u001b[0mdfm\u001b[0m\u001b[1;33m[\u001b[0m\u001b[1;34m\"industry\"\u001b[0m\u001b[1;33m]\u001b[0m \u001b[1;33m==\u001b[0m \u001b[1;34m\"Electronic & Electrical Equipment\"\u001b[0m\u001b[1;33m]\u001b[0m\u001b[1;32mor\u001b[0m\u001b[1;33m[\u001b[0m\u001b[0mdfm\u001b[0m\u001b[1;33m[\u001b[0m\u001b[1;34m\"industry\"\u001b[0m\u001b[1;33m]\u001b[0m \u001b[1;33m==\u001b[0m \u001b[1;34m\"Technology Hardware & Equipment\"\u001b[0m\u001b[1;33m]\u001b[0m\u001b[1;33m\u001b[0m\u001b[1;33m\u001b[0m\u001b[0m\n\u001b[0m",
      "\u001b[1;32m~\\AppData\\Roaming\\Python\\Python37\\site-packages\\pandas\\core\\generic.py\u001b[0m in \u001b[0;36m__nonzero__\u001b[1;34m(self)\u001b[0m\n\u001b[0;32m   1476\u001b[0m         raise ValueError(\"The truth value of a {0} is ambiguous. \"\n\u001b[0;32m   1477\u001b[0m                          \u001b[1;34m\"Use a.empty, a.bool(), a.item(), a.any() or a.all().\"\u001b[0m\u001b[1;33m\u001b[0m\u001b[1;33m\u001b[0m\u001b[0m\n\u001b[1;32m-> 1478\u001b[1;33m                          .format(self.__class__.__name__))\n\u001b[0m\u001b[0;32m   1479\u001b[0m \u001b[1;33m\u001b[0m\u001b[0m\n\u001b[0;32m   1480\u001b[0m     \u001b[0m__bool__\u001b[0m \u001b[1;33m=\u001b[0m \u001b[0m__nonzero__\u001b[0m\u001b[1;33m\u001b[0m\u001b[1;33m\u001b[0m\u001b[0m\n",
      "\u001b[1;31mValueError\u001b[0m: The truth value of a DataFrame is ambiguous. Use a.empty, a.bool(), a.item(), a.any() or a.all()."
     ]
    }
   ],
   "source": [
    "dfm = dfm[dfm[\"industry\"] == \"Electronic & Electrical Equipment\"]|[dfm[\"industry\"] == \"Technology Hardware & Equipment\"]"
   ]
  },
  {
   "cell_type": "code",
   "execution_count": null,
   "metadata": {},
   "outputs": [],
   "source": []
  }
 ],
 "metadata": {
  "kernelspec": {
   "display_name": "Python 3",
   "language": "python",
   "name": "python3"
  },
  "language_info": {
   "codemirror_mode": {
    "name": "ipython",
    "version": 3
   },
   "file_extension": ".py",
   "mimetype": "text/x-python",
   "name": "python",
   "nbconvert_exporter": "python",
   "pygments_lexer": "ipython3",
   "version": "3.7.3"
  }
 },
 "nbformat": 4,
 "nbformat_minor": 2
}
