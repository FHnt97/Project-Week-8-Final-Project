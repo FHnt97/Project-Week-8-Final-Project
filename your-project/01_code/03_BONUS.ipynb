{
 "cells": [
  {
   "cell_type": "markdown",
   "metadata": {},
   "source": [
    "# How are the technological hubs of manufacturing evolving in the world? An analysis on the rate of innovation. \n",
    "<h2 align=\"center\"> Part 2: The Analysis</h2>\n",
    "\n",
    "-----\n",
    "\n",
    "### Description of Section: Statistics, Predictions and Visualisations\n",
    "\n",
    "The goal of this project is to answer the following questions:\n",
    "\n",
    "#### What industries have a high innovation rate, and how is the market in that field?\n",
    "\n",
    "I will look into the fields of industry with the highest innovation/ patent number filing, and I will carry out a market analysis in this field, looking into which companies are the strongest and invest the most in R&D in given field. I will try answering the following questions: \n",
    "    - Are more companies appearing?\n",
    "    - How much funding do they get?\n",
    "    - What is the drop rate of companies appearing in the field?\n",
    "\n",
    "\n",
    "\n",
    "### This section will be structured as follows:\n",
    "    \n",
    "#### BONUS:\n",
    "- Q2.1: A market analysis: what field/industry has the biggest R&D investment/ highest growth in patents?\n",
    "- Q2.2: In that field, what companies do we have, how much do they invest into R&D compared to their profits?\n",
    "\n",
    "\n",
    "- Q3: Taking a start-up database, what is the drop rate of companies in that field (if last funding longer than 5 years ago = inactive)?"
   ]
  },
  {
   "cell_type": "code",
   "execution_count": 1,
   "metadata": {},
   "outputs": [],
   "source": [
    "# importing basic libraries needed: \n",
    "\n",
    "# for database manipulation\n",
    "import pandas as pd\n",
    "import numpy as np\n",
    "import os\n",
    "import datetime as dt\n",
    "\n",
    "# for visualisations:\n",
    "import seaborn as sns\n",
    "import matplotlib as mpl\n",
    "import matplotlib.pyplot as plt\n",
    "import plotly_express as px\n",
    "\n",
    "# for statistics\n",
    "from scipy import stats\n",
    "from sklearn import preprocessing\n",
    "\n",
    "# libraries for machine learning will be imported throught the process to clarify what tools are being used at each step"
   ]
  },
  {
   "cell_type": "markdown",
   "metadata": {},
   "source": [
    "###  Q2.1: A market analysis: what field/industry has the biggest R&D investment/ highest growth in patents?"
   ]
  },
  {
   "cell_type": "code",
   "execution_count": null,
   "metadata": {},
   "outputs": [],
   "source": []
  },
  {
   "cell_type": "code",
   "execution_count": null,
   "metadata": {},
   "outputs": [],
   "source": []
  },
  {
   "cell_type": "code",
   "execution_count": null,
   "metadata": {},
   "outputs": [],
   "source": []
  },
  {
   "cell_type": "code",
   "execution_count": null,
   "metadata": {},
   "outputs": [],
   "source": []
  },
  {
   "cell_type": "code",
   "execution_count": null,
   "metadata": {},
   "outputs": [],
   "source": []
  },
  {
   "cell_type": "code",
   "execution_count": null,
   "metadata": {},
   "outputs": [],
   "source": []
  }
 ],
 "metadata": {
  "kernelspec": {
   "display_name": "Python 3",
   "language": "python",
   "name": "python3"
  },
  "language_info": {
   "codemirror_mode": {
    "name": "ipython",
    "version": 3
   },
   "file_extension": ".py",
   "mimetype": "text/x-python",
   "name": "python",
   "nbconvert_exporter": "python",
   "pygments_lexer": "ipython3",
   "version": "3.7.3"
  }
 },
 "nbformat": 4,
 "nbformat_minor": 2
}
