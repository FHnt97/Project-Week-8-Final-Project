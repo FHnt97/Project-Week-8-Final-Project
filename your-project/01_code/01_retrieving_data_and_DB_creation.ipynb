{
 "cells": [
  {
   "cell_type": "markdown",
   "metadata": {},
   "source": [
    "# How are the technological hubs of manufacturing evolving in the world? An analysis on the rate of innovation. \n",
    "<h2 align=\"center\"> Pre-Work</h2>\n",
    "\n",
    "----\n",
    "### Description of section: \n",
    "- Importing Datasets\n",
    "- Organising Database\n",
    "- Creating Database connection and exporting Datasets to cloud\n",
    "\n",
    "\n",
    "The prework of the Project consists basically on the organisation of the data storage and the creation of the tables that I will be using through this Analysis. \n",
    "Goal of this part is to describe the Database, upload the credentials needed to access it as a guest, and uploading the Data to the cloud. \n",
    "\n",
    "### The Data:\n",
    "\n",
    "I will be using a number of different data sources for the two different questions asked in the project description. \n",
    "\n",
    "##### 1. Innovation analysis \n",
    "For the first part of my project, **the innovation analysis**, I will be using information of patent registration, as well as using a number of indicators provided by the World Bank Dataset.\n",
    "\n",
    "##### 2. Market analysis\n",
    "In the second part of the project,  I will attempt a **market analysis**, I will be using data from Crunchbase, as well as the database on patent regrstration from JRC-OECD COR&DIP database v.1, 2017  to do this. \n",
    "\n",
    "\n",
    "----\n"
   ]
  },
  {
   "cell_type": "code",
   "execution_count": 1,
   "metadata": {},
   "outputs": [],
   "source": [
    "# importing libraries\n",
    "# for dataframe:\n",
    "import numpy as np\n",
    "import pandas as pd\n",
    "\n",
    "# for sql and dataabse:\n",
    "from sqlalchemy import create_engine"
   ]
  },
  {
   "cell_type": "markdown",
   "metadata": {},
   "source": [
    "## 1. Opening raw data"
   ]
  },
  {
   "cell_type": "markdown",
   "metadata": {},
   "source": [
    "##### Patent creation (for innovation analysis)"
   ]
  },
  {
   "cell_type": "code",
   "execution_count": null,
   "metadata": {},
   "outputs": [],
   "source": []
  },
  {
   "cell_type": "markdown",
   "metadata": {},
   "source": [
    "##### Organisations, name and descriptions  (from 2019) (for market reasearch)"
   ]
  },
  {
   "cell_type": "code",
   "execution_count": 4,
   "metadata": {},
   "outputs": [],
   "source": [
    "df = pd.read_csv(\"../00_data/odm.csv/organizations.csv\")"
   ]
  },
  {
   "cell_type": "code",
   "execution_count": 5,
   "metadata": {},
   "outputs": [
    {
     "data": {
      "text/html": [
       "<div>\n",
       "<style scoped>\n",
       "    .dataframe tbody tr th:only-of-type {\n",
       "        vertical-align: middle;\n",
       "    }\n",
       "\n",
       "    .dataframe tbody tr th {\n",
       "        vertical-align: top;\n",
       "    }\n",
       "\n",
       "    .dataframe thead th {\n",
       "        text-align: right;\n",
       "    }\n",
       "</style>\n",
       "<table border=\"1\" class=\"dataframe\">\n",
       "  <thead>\n",
       "    <tr style=\"text-align: right;\">\n",
       "      <th></th>\n",
       "      <th>crunchbase_uuid</th>\n",
       "      <th>name</th>\n",
       "      <th>type</th>\n",
       "      <th>primary_role</th>\n",
       "      <th>crunchbase_url</th>\n",
       "      <th>homepage_domain</th>\n",
       "      <th>homepage_url</th>\n",
       "      <th>profile_image_url</th>\n",
       "      <th>facebook_url</th>\n",
       "      <th>twitter_url</th>\n",
       "      <th>linkedin_url</th>\n",
       "      <th>stock_symbol</th>\n",
       "      <th>location_city</th>\n",
       "      <th>location_region</th>\n",
       "      <th>location_country_code</th>\n",
       "      <th>short_description</th>\n",
       "    </tr>\n",
       "  </thead>\n",
       "  <tbody>\n",
       "    <tr>\n",
       "      <th>0</th>\n",
       "      <td>e1393508-30ea-8a36-3f96-dd3226033abd</td>\n",
       "      <td>Wetpaint</td>\n",
       "      <td>organization</td>\n",
       "      <td>company</td>\n",
       "      <td>https://www.crunchbase.com/organization/wetpai...</td>\n",
       "      <td>wetpaint.com</td>\n",
       "      <td>http://www.wetpaint.com/</td>\n",
       "      <td>https://crunchbase-production-res.cloudinary.c...</td>\n",
       "      <td>https://www.facebook.com/Wetpaint</td>\n",
       "      <td>https://twitter.com/wetpainttv</td>\n",
       "      <td>https://www.linkedin.com/company/wetpaint</td>\n",
       "      <td>:</td>\n",
       "      <td>New York</td>\n",
       "      <td>New York</td>\n",
       "      <td>US</td>\n",
       "      <td>Wetpaint offers an online social publishing pl...</td>\n",
       "    </tr>\n",
       "    <tr>\n",
       "      <th>1</th>\n",
       "      <td>bf4d7b0e-b34d-2fd8-d292-6049c4f7efc7</td>\n",
       "      <td>Zoho</td>\n",
       "      <td>organization</td>\n",
       "      <td>company</td>\n",
       "      <td>https://www.crunchbase.com/organization/zoho?u...</td>\n",
       "      <td>zoho.com</td>\n",
       "      <td>https://www.zoho.com/</td>\n",
       "      <td>https://crunchbase-production-res.cloudinary.c...</td>\n",
       "      <td>http://www.facebook.com/zoho</td>\n",
       "      <td>http://twitter.com/zoho</td>\n",
       "      <td>http://www.linkedin.com/company/zoho-corporati...</td>\n",
       "      <td>:</td>\n",
       "      <td>Pleasanton</td>\n",
       "      <td>California</td>\n",
       "      <td>US</td>\n",
       "      <td>Zoho offers a suite of business, collaboration...</td>\n",
       "    </tr>\n",
       "    <tr>\n",
       "      <th>2</th>\n",
       "      <td>5f2b40b8-d1b3-d323-d81a-b7a8e89553d0</td>\n",
       "      <td>Digg</td>\n",
       "      <td>organization</td>\n",
       "      <td>company</td>\n",
       "      <td>https://www.crunchbase.com/organization/digg?u...</td>\n",
       "      <td>digg.com</td>\n",
       "      <td>http://www.digg.com</td>\n",
       "      <td>https://crunchbase-production-res.cloudinary.c...</td>\n",
       "      <td>http://www.facebook.com/digg</td>\n",
       "      <td>http://twitter.com/digg</td>\n",
       "      <td>http://www.linkedin.com/company/digg</td>\n",
       "      <td>:</td>\n",
       "      <td>New York</td>\n",
       "      <td>New York</td>\n",
       "      <td>US</td>\n",
       "      <td>Digg Inc. operates a website that enables its ...</td>\n",
       "    </tr>\n",
       "    <tr>\n",
       "      <th>3</th>\n",
       "      <td>df662812-7f97-0b43-9d3e-12f64f504fbb</td>\n",
       "      <td>Facebook</td>\n",
       "      <td>organization</td>\n",
       "      <td>company</td>\n",
       "      <td>https://www.crunchbase.com/organization/facebo...</td>\n",
       "      <td>facebook.com</td>\n",
       "      <td>http://www.facebook.com</td>\n",
       "      <td>https://crunchbase-production-res.cloudinary.c...</td>\n",
       "      <td>https://www.facebook.com/facebook/</td>\n",
       "      <td>https://twitter.com/facebook</td>\n",
       "      <td>http://www.linkedin.com/company/facebook</td>\n",
       "      <td>nasdaq:FB</td>\n",
       "      <td>Menlo Park</td>\n",
       "      <td>California</td>\n",
       "      <td>US</td>\n",
       "      <td>Facebook is an online social networking servic...</td>\n",
       "    </tr>\n",
       "    <tr>\n",
       "      <th>4</th>\n",
       "      <td>b08efc27-da40-505a-6f9d-c9e14247bf36</td>\n",
       "      <td>Accel</td>\n",
       "      <td>organization</td>\n",
       "      <td>investor</td>\n",
       "      <td>https://www.crunchbase.com/organization/accel-...</td>\n",
       "      <td>accel.com</td>\n",
       "      <td>http://www.accel.com</td>\n",
       "      <td>https://crunchbase-production-res.cloudinary.c...</td>\n",
       "      <td>http://www.facebook.com/accel</td>\n",
       "      <td>http://twitter.com/accel</td>\n",
       "      <td>https://www.linkedin.com/company/accel-vc/</td>\n",
       "      <td>:</td>\n",
       "      <td>Palo Alto</td>\n",
       "      <td>California</td>\n",
       "      <td>US</td>\n",
       "      <td>Accel is an early and growth-stage venture cap...</td>\n",
       "    </tr>\n",
       "  </tbody>\n",
       "</table>\n",
       "</div>"
      ],
      "text/plain": [
       "                        crunchbase_uuid      name          type primary_role  \\\n",
       "0  e1393508-30ea-8a36-3f96-dd3226033abd  Wetpaint  organization      company   \n",
       "1  bf4d7b0e-b34d-2fd8-d292-6049c4f7efc7      Zoho  organization      company   \n",
       "2  5f2b40b8-d1b3-d323-d81a-b7a8e89553d0      Digg  organization      company   \n",
       "3  df662812-7f97-0b43-9d3e-12f64f504fbb  Facebook  organization      company   \n",
       "4  b08efc27-da40-505a-6f9d-c9e14247bf36     Accel  organization     investor   \n",
       "\n",
       "                                      crunchbase_url homepage_domain  \\\n",
       "0  https://www.crunchbase.com/organization/wetpai...    wetpaint.com   \n",
       "1  https://www.crunchbase.com/organization/zoho?u...        zoho.com   \n",
       "2  https://www.crunchbase.com/organization/digg?u...        digg.com   \n",
       "3  https://www.crunchbase.com/organization/facebo...    facebook.com   \n",
       "4  https://www.crunchbase.com/organization/accel-...       accel.com   \n",
       "\n",
       "               homepage_url  \\\n",
       "0  http://www.wetpaint.com/   \n",
       "1     https://www.zoho.com/   \n",
       "2       http://www.digg.com   \n",
       "3   http://www.facebook.com   \n",
       "4      http://www.accel.com   \n",
       "\n",
       "                                   profile_image_url  \\\n",
       "0  https://crunchbase-production-res.cloudinary.c...   \n",
       "1  https://crunchbase-production-res.cloudinary.c...   \n",
       "2  https://crunchbase-production-res.cloudinary.c...   \n",
       "3  https://crunchbase-production-res.cloudinary.c...   \n",
       "4  https://crunchbase-production-res.cloudinary.c...   \n",
       "\n",
       "                         facebook_url                     twitter_url  \\\n",
       "0   https://www.facebook.com/Wetpaint  https://twitter.com/wetpainttv   \n",
       "1        http://www.facebook.com/zoho         http://twitter.com/zoho   \n",
       "2        http://www.facebook.com/digg         http://twitter.com/digg   \n",
       "3  https://www.facebook.com/facebook/    https://twitter.com/facebook   \n",
       "4       http://www.facebook.com/accel        http://twitter.com/accel   \n",
       "\n",
       "                                        linkedin_url stock_symbol  \\\n",
       "0          https://www.linkedin.com/company/wetpaint            :   \n",
       "1  http://www.linkedin.com/company/zoho-corporati...            :   \n",
       "2               http://www.linkedin.com/company/digg            :   \n",
       "3           http://www.linkedin.com/company/facebook    nasdaq:FB   \n",
       "4         https://www.linkedin.com/company/accel-vc/            :   \n",
       "\n",
       "  location_city location_region location_country_code  \\\n",
       "0      New York        New York                    US   \n",
       "1    Pleasanton      California                    US   \n",
       "2      New York        New York                    US   \n",
       "3    Menlo Park      California                    US   \n",
       "4     Palo Alto      California                    US   \n",
       "\n",
       "                                   short_description  \n",
       "0  Wetpaint offers an online social publishing pl...  \n",
       "1  Zoho offers a suite of business, collaboration...  \n",
       "2  Digg Inc. operates a website that enables its ...  \n",
       "3  Facebook is an online social networking servic...  \n",
       "4  Accel is an early and growth-stage venture cap...  "
      ]
     },
     "execution_count": 5,
     "metadata": {},
     "output_type": "execute_result"
    }
   ],
   "source": [
    "df.head()"
   ]
  },
  {
   "cell_type": "markdown",
   "metadata": {},
   "source": [
    "##### Organisations extended (up to 2015) (for market research)"
   ]
  },
  {
   "cell_type": "code",
   "execution_count": null,
   "metadata": {},
   "outputs": [],
   "source": []
  },
  {
   "cell_type": "markdown",
   "metadata": {},
   "source": [
    "## 2. Organising Database"
   ]
  },
  {
   "cell_type": "markdown",
   "metadata": {},
   "source": [
    "I will be using a number of different datasets for the analysis of the project.\n",
    "\n",
    "The links and organisation between these can be seen below: \n",
    "\n",
    "![DB_diagram](../02_visualisations/Database_org.PNG)\n",
    "\n",
    "> Note that the tables country and industry are only used as key-holders for extra information. I will not be analysing the informaiton in them directly. "
   ]
  },
  {
   "cell_type": "markdown",
   "metadata": {},
   "source": [
    "## 3. Exporing Data into cloud"
   ]
  },
  {
   "cell_type": "code",
   "execution_count": null,
   "metadata": {},
   "outputs": [],
   "source": []
  },
  {
   "cell_type": "markdown",
   "metadata": {},
   "source": [
    "##### DataBase guest credentials:"
   ]
  },
  {
   "cell_type": "markdown",
   "metadata": {},
   "source": [
    "<div class=\"alert alert-block alert-info\">\n",
    "<b>Credentials for DB:</b> \n",
    "\n",
    "##### To access the database, see the details below:\n",
    "Note that this database has an IP restriction, and can therefore only be viewed in the IRONHACK campus. If the DB needs to be accessed from a different  IP address, please contact me. \n",
    "\n",
    ">**Connection information:** <br>\n",
    ">**User name**: ironhack <br> \n",
    ">**Passowrd**: Ironhack1 <br>\n",
    ">**Host name**: 35.240.116.117 <br>\n",
    "</div>"
   ]
  },
  {
   "cell_type": "code",
   "execution_count": null,
   "metadata": {},
   "outputs": [],
   "source": []
  }
 ],
 "metadata": {
  "kernelspec": {
   "display_name": "Python 3",
   "language": "python",
   "name": "python3"
  },
  "language_info": {
   "codemirror_mode": {
    "name": "ipython",
    "version": 3
   },
   "file_extension": ".py",
   "mimetype": "text/x-python",
   "name": "python",
   "nbconvert_exporter": "python",
   "pygments_lexer": "ipython3",
   "version": "3.7.3"
  }
 },
 "nbformat": 4,
 "nbformat_minor": 2
}
