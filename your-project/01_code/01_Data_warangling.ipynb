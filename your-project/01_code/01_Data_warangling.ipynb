{
 "cells": [
  {
   "cell_type": "markdown",
   "metadata": {},
   "source": [
    "# How are the technological hubs of manufacturing evolving in the world? An analysis on the rate of innovation. \n",
    "<h2 align=\"center\"> Pre-Work</h2>\n",
    "\n",
    "----\n",
    "\n",
    "### Description of Section: Data cleaning and initial analysis\n",
    "\n",
    "In this first part of the projects, I am aiming to analyse the quality of the data retrieved and saved in the [prework section](./01_retrieving_data_and_DB_creation.ipynb) to be able to carry out further analysis on it. \n",
    "This jupyter notebook includes the following steps:\n",
    "1. Reading the files\n",
    "2. Basic analysis techniques from the Pandas library to analyse the quality of the data\n",
    "3. Exporting the data into csv. formats. \n",
    "\n",
    "### The Data:\n",
    "\n",
    "I will be using a number of different data sources for the two different questions asked in the project description. \n",
    "\n",
    "##### 1. Innovation analysis \n",
    "For the first part of my project, **the innovation analysis**, I will be using information of patent registration, as well as using a number of indicators provided by the World Bank Dataset.\n",
    "\n",
    "##### 2. Market analysis\n",
    "In the second part of the project,  I will attempt a **market analysis**, I will be using data from Crunchbase, as well as the database on patent regrstration from JRC-OECD COR&DIP database v.1, 2017  to do this. \n",
    "\n",
    "\n",
    "----\n"
   ]
  },
  {
   "cell_type": "code",
   "execution_count": 129,
   "metadata": {},
   "outputs": [],
   "source": [
    "# importing basic libraries needed: \n",
    "\n",
    "# for database manipulation\n",
    "import pandas as pd\n",
    "import pandas_profiling as pp\n",
    "import numpy as np\n",
    "import os\n",
    "from datetime import  datetime\n",
    "\n",
    "# for visualisations:\n",
    "import seaborn as sns\n",
    "import matplotlib as mpl\n",
    "import matplotlib.pyplot as plt\n",
    "\n",
    "# for statistics\n",
    "from scipy import stats"
   ]
  },
  {
   "cell_type": "markdown",
   "metadata": {},
   "source": [
    "## 1. Innovation analysis"
   ]
  },
  {
   "cell_type": "code",
   "execution_count": null,
   "metadata": {},
   "outputs": [],
   "source": []
  },
  {
   "cell_type": "code",
   "execution_count": null,
   "metadata": {},
   "outputs": [],
   "source": []
  },
  {
   "cell_type": "markdown",
   "metadata": {},
   "source": [
    "## 2. Company analysis - market research"
   ]
  },
  {
   "cell_type": "markdown",
   "metadata": {},
   "source": [
    "### Patents per company\n",
    "Database documentation can be found in pdf format in the data folder"
   ]
  },
  {
   "cell_type": "markdown",
   "metadata": {},
   "source": [
    "##### company lst"
   ]
  },
  {
   "cell_type": "code",
   "execution_count": 23,
   "metadata": {},
   "outputs": [],
   "source": [
    "company_lst = pd.read_csv(\"../00_data/01_raw/patent_data/2017-COR&DIP_Company_list.txt\", sep=\"|\", index_col=0)"
   ]
  },
  {
   "cell_type": "code",
   "execution_count": 24,
   "metadata": {},
   "outputs": [
    {
     "data": {
      "text/html": [
       "<div>\n",
       "<style scoped>\n",
       "    .dataframe tbody tr th:only-of-type {\n",
       "        vertical-align: middle;\n",
       "    }\n",
       "\n",
       "    .dataframe tbody tr th {\n",
       "        vertical-align: top;\n",
       "    }\n",
       "\n",
       "    .dataframe thead th {\n",
       "        text-align: right;\n",
       "    }\n",
       "</style>\n",
       "<table border=\"1\" class=\"dataframe\">\n",
       "  <thead>\n",
       "    <tr style=\"text-align: right;\">\n",
       "      <th></th>\n",
       "      <th>Company_name</th>\n",
       "      <th>Ctry_Code</th>\n",
       "      <th>Worldrank</th>\n",
       "      <th>ICB3</th>\n",
       "      <th>NACE2</th>\n",
       "      <th>ISIC4_STAN38</th>\n",
       "    </tr>\n",
       "    <tr>\n",
       "      <th>Company_id</th>\n",
       "      <th></th>\n",
       "      <th></th>\n",
       "      <th></th>\n",
       "      <th></th>\n",
       "      <th></th>\n",
       "      <th></th>\n",
       "    </tr>\n",
       "  </thead>\n",
       "  <tbody>\n",
       "    <tr>\n",
       "      <th>1</th>\n",
       "      <td>ZUMTOBEL</td>\n",
       "      <td>AT</td>\n",
       "      <td>851</td>\n",
       "      <td>2730</td>\n",
       "      <td>2740</td>\n",
       "      <td>27</td>\n",
       "    </tr>\n",
       "    <tr>\n",
       "      <th>2</th>\n",
       "      <td>ANDRITZ</td>\n",
       "      <td>AT</td>\n",
       "      <td>892</td>\n",
       "      <td>2750</td>\n",
       "      <td>2895</td>\n",
       "      <td>28</td>\n",
       "    </tr>\n",
       "    <tr>\n",
       "      <th>3</th>\n",
       "      <td>AUSTRIAMICROSYSTEMS</td>\n",
       "      <td>AT</td>\n",
       "      <td>1023</td>\n",
       "      <td>9570</td>\n",
       "      <td>2611</td>\n",
       "      <td>26</td>\n",
       "    </tr>\n",
       "    <tr>\n",
       "      <th>4</th>\n",
       "      <td>AUSTRIA TECHNOLOGIE &amp; SYSTEMTECHNIK</td>\n",
       "      <td>AT</td>\n",
       "      <td>1173</td>\n",
       "      <td>2730</td>\n",
       "      <td>2612</td>\n",
       "      <td>26</td>\n",
       "    </tr>\n",
       "    <tr>\n",
       "      <th>5</th>\n",
       "      <td>VOESTALPINE</td>\n",
       "      <td>AT</td>\n",
       "      <td>596</td>\n",
       "      <td>1750</td>\n",
       "      <td>2452</td>\n",
       "      <td>24-25</td>\n",
       "    </tr>\n",
       "  </tbody>\n",
       "</table>\n",
       "</div>"
      ],
      "text/plain": [
       "                                   Company_name Ctry_Code  Worldrank  ICB3  \\\n",
       "Company_id                                                                   \n",
       "1                                      ZUMTOBEL        AT        851  2730   \n",
       "2                                       ANDRITZ        AT        892  2750   \n",
       "3                           AUSTRIAMICROSYSTEMS        AT       1023  9570   \n",
       "4           AUSTRIA TECHNOLOGIE & SYSTEMTECHNIK        AT       1173  2730   \n",
       "5                                   VOESTALPINE        AT        596  1750   \n",
       "\n",
       "            NACE2 ISIC4_STAN38  \n",
       "Company_id                      \n",
       "1            2740           27  \n",
       "2            2895           28  \n",
       "3            2611           26  \n",
       "4            2612           26  \n",
       "5            2452        24-25  "
      ]
     },
     "execution_count": 24,
     "metadata": {},
     "output_type": "execute_result"
    }
   ],
   "source": [
    "company_lst.head()"
   ]
  },
  {
   "cell_type": "markdown",
   "metadata": {},
   "source": [
    "Company_id*: Unique company identifier (from 1 to 2000)*\n",
    "\n",
    "Company_name: Company name, as listed in the 2015 Scoreboard\n",
    "\n",
    "Ctry_code: ISO2 country code\n",
    "\n",
    "Worldrank: From 1 to 2000, as ranked in the 2015 Scoreboard\n",
    "\n",
    "ICB-3D: Industry sector, as listed in the 2015 Scoreboard\n"
   ]
  },
  {
   "cell_type": "code",
   "execution_count": 130,
   "metadata": {},
   "outputs": [],
   "source": [
    "# drop unecessary columns\n",
    "company_lst.drop([\"NACE2\", \"ISIC4_STAN38\"], axis=1, inplace=True)"
   ]
  },
  {
   "cell_type": "code",
   "execution_count": 141,
   "metadata": {},
   "outputs": [],
   "source": [
    "# make column names more understandable \n",
    "company_lst = company_lst.rename(columns = {\"Company_name\":\"company\", \"Ctry_Code\":\"country\", \"ICB3\":\"industry\"})"
   ]
  },
  {
   "cell_type": "code",
   "execution_count": 142,
   "metadata": {},
   "outputs": [
    {
     "data": {
      "text/html": [
       "<div>\n",
       "<style scoped>\n",
       "    .dataframe tbody tr th:only-of-type {\n",
       "        vertical-align: middle;\n",
       "    }\n",
       "\n",
       "    .dataframe tbody tr th {\n",
       "        vertical-align: top;\n",
       "    }\n",
       "\n",
       "    .dataframe thead th {\n",
       "        text-align: right;\n",
       "    }\n",
       "</style>\n",
       "<table border=\"1\" class=\"dataframe\">\n",
       "  <thead>\n",
       "    <tr style=\"text-align: right;\">\n",
       "      <th></th>\n",
       "      <th>company</th>\n",
       "      <th>country</th>\n",
       "      <th>Worldrank</th>\n",
       "      <th>industry</th>\n",
       "    </tr>\n",
       "    <tr>\n",
       "      <th>Company_id</th>\n",
       "      <th></th>\n",
       "      <th></th>\n",
       "      <th></th>\n",
       "      <th></th>\n",
       "    </tr>\n",
       "  </thead>\n",
       "  <tbody>\n",
       "    <tr>\n",
       "      <th>1</th>\n",
       "      <td>ZUMTOBEL</td>\n",
       "      <td>AT</td>\n",
       "      <td>851</td>\n",
       "      <td>2730</td>\n",
       "    </tr>\n",
       "    <tr>\n",
       "      <th>2</th>\n",
       "      <td>ANDRITZ</td>\n",
       "      <td>AT</td>\n",
       "      <td>892</td>\n",
       "      <td>2750</td>\n",
       "    </tr>\n",
       "    <tr>\n",
       "      <th>3</th>\n",
       "      <td>AUSTRIAMICROSYSTEMS</td>\n",
       "      <td>AT</td>\n",
       "      <td>1023</td>\n",
       "      <td>9570</td>\n",
       "    </tr>\n",
       "    <tr>\n",
       "      <th>4</th>\n",
       "      <td>AUSTRIA TECHNOLOGIE &amp; SYSTEMTECHNIK</td>\n",
       "      <td>AT</td>\n",
       "      <td>1173</td>\n",
       "      <td>2730</td>\n",
       "    </tr>\n",
       "    <tr>\n",
       "      <th>5</th>\n",
       "      <td>VOESTALPINE</td>\n",
       "      <td>AT</td>\n",
       "      <td>596</td>\n",
       "      <td>1750</td>\n",
       "    </tr>\n",
       "  </tbody>\n",
       "</table>\n",
       "</div>"
      ],
      "text/plain": [
       "                                        company country  Worldrank  industry\n",
       "Company_id                                                                  \n",
       "1                                      ZUMTOBEL      AT        851      2730\n",
       "2                                       ANDRITZ      AT        892      2750\n",
       "3                           AUSTRIAMICROSYSTEMS      AT       1023      9570\n",
       "4           AUSTRIA TECHNOLOGIE & SYSTEMTECHNIK      AT       1173      2730\n",
       "5                                   VOESTALPINE      AT        596      1750"
      ]
     },
     "execution_count": 142,
     "metadata": {},
     "output_type": "execute_result"
    }
   ],
   "source": [
    "company_lst.head()"
   ]
  },
  {
   "cell_type": "markdown",
   "metadata": {},
   "source": [
    "##### company patents"
   ]
  },
  {
   "cell_type": "code",
   "execution_count": 147,
   "metadata": {},
   "outputs": [
    {
     "name": "stderr",
     "output_type": "stream",
     "text": [
      "C:\\Users\\fabia hnt\\AppData\\Roaming\\Python\\Python37\\site-packages\\IPython\\core\\interactiveshell.py:3057: DtypeWarning: Columns (3) have mixed types. Specify dtype option on import or set low_memory=False.\n",
      "  interactivity=interactivity, compiler=compiler, result=result)\n",
      "C:\\Users\\fabia hnt\\AppData\\Roaming\\Python\\Python37\\site-packages\\numpy\\lib\\arraysetops.py:569: FutureWarning: elementwise comparison failed; returning scalar instead, but in the future will perform elementwise comparison\n",
      "  mask |= (ar1 == a)\n"
     ]
    }
   ],
   "source": [
    "company_patents = pd.read_csv(\"../00_data/01_raw/patent_data/2017-COR&DIP_Patent_Portfolio.txt\", sep=\"|\", index_col=0)"
   ]
  },
  {
   "cell_type": "code",
   "execution_count": 162,
   "metadata": {},
   "outputs": [
    {
     "data": {
      "text/html": [
       "<div>\n",
       "<style scoped>\n",
       "    .dataframe tbody tr th:only-of-type {\n",
       "        vertical-align: middle;\n",
       "    }\n",
       "\n",
       "    .dataframe tbody tr th {\n",
       "        vertical-align: top;\n",
       "    }\n",
       "\n",
       "    .dataframe thead th {\n",
       "        text-align: right;\n",
       "    }\n",
       "</style>\n",
       "<table border=\"1\" class=\"dataframe\">\n",
       "  <thead>\n",
       "    <tr style=\"text-align: right;\">\n",
       "      <th></th>\n",
       "      <th>Patent_appln_id</th>\n",
       "      <th>office</th>\n",
       "      <th>date</th>\n",
       "    </tr>\n",
       "    <tr>\n",
       "      <th>Company_id</th>\n",
       "      <th></th>\n",
       "      <th></th>\n",
       "      <th></th>\n",
       "    </tr>\n",
       "  </thead>\n",
       "  <tbody>\n",
       "    <tr>\n",
       "      <th>1</th>\n",
       "      <td>380646999</td>\n",
       "      <td>EP</td>\n",
       "      <td>2013-01-14</td>\n",
       "    </tr>\n",
       "    <tr>\n",
       "      <th>1</th>\n",
       "      <td>380718081</td>\n",
       "      <td>EP</td>\n",
       "      <td>2013-01-22</td>\n",
       "    </tr>\n",
       "    <tr>\n",
       "      <th>1</th>\n",
       "      <td>380385005</td>\n",
       "      <td>EP</td>\n",
       "      <td>2013-01-22</td>\n",
       "    </tr>\n",
       "    <tr>\n",
       "      <th>1</th>\n",
       "      <td>380385015</td>\n",
       "      <td>EP</td>\n",
       "      <td>2013-01-22</td>\n",
       "    </tr>\n",
       "    <tr>\n",
       "      <th>1</th>\n",
       "      <td>380889366</td>\n",
       "      <td>EP</td>\n",
       "      <td>2013-02-01</td>\n",
       "    </tr>\n",
       "  </tbody>\n",
       "</table>\n",
       "</div>"
      ],
      "text/plain": [
       "            Patent_appln_id office        date\n",
       "Company_id                                    \n",
       "1                 380646999     EP  2013-01-14\n",
       "1                 380718081     EP  2013-01-22\n",
       "1                 380385005     EP  2013-01-22\n",
       "1                 380385015     EP  2013-01-22\n",
       "1                 380889366     EP  2013-02-01"
      ]
     },
     "execution_count": 162,
     "metadata": {},
     "output_type": "execute_result"
    }
   ],
   "source": [
    "company_patents.head()"
   ]
  },
  {
   "cell_type": "code",
   "execution_count": 151,
   "metadata": {},
   "outputs": [],
   "source": [
    "# remove unecessary columns\n",
    "lst = [\"Patent_publn_nr\", \"Family_filing_date\", \"IP5_2_offices\", \"Inpadoc_family_id\"]\n",
    "company_patents.drop(lst, axis=1, inplace=True)"
   ]
  },
  {
   "cell_type": "markdown",
   "metadata": {},
   "source": [
    "Company_id*: Unique company identifier*\n",
    "\n",
    "Patent_appln_id: Patent application identifier (Appln_id from PATSTAT, Autumn 2016)\n",
    "\n",
    "Publn_auth: IP5 Offices (EP, JP, KR, US, CN)\n",
    "\n",
    "\n",
    "Patent_filing_date: Application date\n",
    "\n",
    "Inpadoc_family_id: Patent family identifier (from PATSTAT, Autumn 2016)"
   ]
  },
  {
   "cell_type": "code",
   "execution_count": 152,
   "metadata": {},
   "outputs": [],
   "source": [
    "# make column names more understandable\n",
    "company_patents = company_patents.rename(columns = {\"Publn_auth\":\"office\", \"Patent_filing_date\":\"date\"})"
   ]
  },
  {
   "cell_type": "code",
   "execution_count": 158,
   "metadata": {},
   "outputs": [],
   "source": [
    "counts = company_patents.groupby([\"Company_id\", \"office\"]).count()"
   ]
  },
  {
   "cell_type": "code",
   "execution_count": 160,
   "metadata": {},
   "outputs": [
    {
     "data": {
      "text/html": [
       "<div>\n",
       "<style scoped>\n",
       "    .dataframe tbody tr th:only-of-type {\n",
       "        vertical-align: middle;\n",
       "    }\n",
       "\n",
       "    .dataframe tbody tr th {\n",
       "        vertical-align: top;\n",
       "    }\n",
       "\n",
       "    .dataframe thead th {\n",
       "        text-align: right;\n",
       "    }\n",
       "</style>\n",
       "<table border=\"1\" class=\"dataframe\">\n",
       "  <thead>\n",
       "    <tr style=\"text-align: right;\">\n",
       "      <th></th>\n",
       "      <th></th>\n",
       "      <th>Patent_appln_id</th>\n",
       "      <th>date</th>\n",
       "    </tr>\n",
       "    <tr>\n",
       "      <th>Company_id</th>\n",
       "      <th>office</th>\n",
       "      <th></th>\n",
       "      <th></th>\n",
       "    </tr>\n",
       "  </thead>\n",
       "  <tbody>\n",
       "    <tr>\n",
       "      <th rowspan=\"4\" valign=\"top\">1</th>\n",
       "      <th>CN</th>\n",
       "      <td>84</td>\n",
       "      <td>84</td>\n",
       "    </tr>\n",
       "    <tr>\n",
       "      <th>EP</th>\n",
       "      <td>263</td>\n",
       "      <td>263</td>\n",
       "    </tr>\n",
       "    <tr>\n",
       "      <th>JP</th>\n",
       "      <td>1</td>\n",
       "      <td>1</td>\n",
       "    </tr>\n",
       "    <tr>\n",
       "      <th>US</th>\n",
       "      <td>86</td>\n",
       "      <td>86</td>\n",
       "    </tr>\n",
       "    <tr>\n",
       "      <th>2</th>\n",
       "      <th>CN</th>\n",
       "      <td>74</td>\n",
       "      <td>74</td>\n",
       "    </tr>\n",
       "  </tbody>\n",
       "</table>\n",
       "</div>"
      ],
      "text/plain": [
       "                   Patent_appln_id  date\n",
       "Company_id office                       \n",
       "1          CN                   84    84\n",
       "           EP                  263   263\n",
       "           JP                    1     1\n",
       "           US                   86    86\n",
       "2          CN                   74    74"
      ]
     },
     "execution_count": 160,
     "metadata": {},
     "output_type": "execute_result"
    }
   ],
   "source": [
    "counts.head()"
   ]
  },
  {
   "cell_type": "markdown",
   "metadata": {},
   "source": [
    "##### company finance"
   ]
  },
  {
   "cell_type": "code",
   "execution_count": 25,
   "metadata": {},
   "outputs": [],
   "source": [
    "company_info = pd.read_csv(\"../00_data/01_raw/patent_data/2017-COR&DIP_Company_financial.txt\", sep=\"|\", index_col=0)"
   ]
  },
  {
   "cell_type": "code",
   "execution_count": 26,
   "metadata": {},
   "outputs": [
    {
     "data": {
      "text/html": [
       "<div>\n",
       "<style scoped>\n",
       "    .dataframe tbody tr th:only-of-type {\n",
       "        vertical-align: middle;\n",
       "    }\n",
       "\n",
       "    .dataframe tbody tr th {\n",
       "        vertical-align: top;\n",
       "    }\n",
       "\n",
       "    .dataframe thead th {\n",
       "        text-align: right;\n",
       "    }\n",
       "</style>\n",
       "<table border=\"1\" class=\"dataframe\">\n",
       "  <thead>\n",
       "    <tr style=\"text-align: right;\">\n",
       "      <th></th>\n",
       "      <th>Year</th>\n",
       "      <th>RD</th>\n",
       "      <th>NS</th>\n",
       "      <th>CAPEX</th>\n",
       "      <th>OP</th>\n",
       "      <th>EMP</th>\n",
       "    </tr>\n",
       "    <tr>\n",
       "      <th>Company_id</th>\n",
       "      <th></th>\n",
       "      <th></th>\n",
       "      <th></th>\n",
       "      <th></th>\n",
       "      <th></th>\n",
       "      <th></th>\n",
       "    </tr>\n",
       "  </thead>\n",
       "  <tbody>\n",
       "    <tr>\n",
       "      <th>1</th>\n",
       "      <td>2011</td>\n",
       "      <td>55.071</td>\n",
       "      <td>1280.312</td>\n",
       "      <td>57.159</td>\n",
       "      <td>34.591</td>\n",
       "      <td>7456.0</td>\n",
       "    </tr>\n",
       "    <tr>\n",
       "      <th>1</th>\n",
       "      <td>2012</td>\n",
       "      <td>66.926</td>\n",
       "      <td>1243.616</td>\n",
       "      <td>59.509</td>\n",
       "      <td>21.659</td>\n",
       "      <td>7162.0</td>\n",
       "    </tr>\n",
       "    <tr>\n",
       "      <th>1</th>\n",
       "      <td>2013</td>\n",
       "      <td>71.800</td>\n",
       "      <td>1246.831</td>\n",
       "      <td>65.553</td>\n",
       "      <td>12.144</td>\n",
       "      <td>7291.0</td>\n",
       "    </tr>\n",
       "    <tr>\n",
       "      <th>1</th>\n",
       "      <td>2014</td>\n",
       "      <td>89.739</td>\n",
       "      <td>1312.620</td>\n",
       "      <td>76.576</td>\n",
       "      <td>41.091</td>\n",
       "      <td>7234.0</td>\n",
       "    </tr>\n",
       "    <tr>\n",
       "      <th>2</th>\n",
       "      <td>2011</td>\n",
       "      <td>65.641</td>\n",
       "      <td>4595.993</td>\n",
       "      <td>76.974</td>\n",
       "      <td>263.445</td>\n",
       "      <td>16750.0</td>\n",
       "    </tr>\n",
       "  </tbody>\n",
       "</table>\n",
       "</div>"
      ],
      "text/plain": [
       "            Year      RD        NS   CAPEX       OP      EMP\n",
       "Company_id                                                  \n",
       "1           2011  55.071  1280.312  57.159   34.591   7456.0\n",
       "1           2012  66.926  1243.616  59.509   21.659   7162.0\n",
       "1           2013  71.800  1246.831  65.553   12.144   7291.0\n",
       "1           2014  89.739  1312.620  76.576   41.091   7234.0\n",
       "2           2011  65.641  4595.993  76.974  263.445  16750.0"
      ]
     },
     "execution_count": 26,
     "metadata": {},
     "output_type": "execute_result"
    }
   ],
   "source": [
    "company_info.head()"
   ]
  },
  {
   "cell_type": "markdown",
   "metadata": {},
   "source": [
    "Year: 2011-2014\n",
    "\n",
    "RD: Research and Development investment (million €)\n",
    "\n",
    "NS: Net sales (million €)\n",
    "\n",
    "CAPEX: Capital expenditure (million €)\n",
    "\n",
    "OP: Operating profits (million €)\n",
    "\n",
    "EMP: Number of employees"
   ]
  },
  {
   "cell_type": "markdown",
   "metadata": {},
   "source": [
    "### BONUS: Organizations, financing and descriptions  (from 2015) "
   ]
  },
  {
   "cell_type": "code",
   "execution_count": 93,
   "metadata": {},
   "outputs": [],
   "source": [
    "organizations = pd.read_csv(\"../00_data/01_raw/crunchbase15/companies_15.csv\")"
   ]
  },
  {
   "cell_type": "code",
   "execution_count": 94,
   "metadata": {},
   "outputs": [
    {
     "data": {
      "text/html": [
       "<div>\n",
       "<style scoped>\n",
       "    .dataframe tbody tr th:only-of-type {\n",
       "        vertical-align: middle;\n",
       "    }\n",
       "\n",
       "    .dataframe tbody tr th {\n",
       "        vertical-align: top;\n",
       "    }\n",
       "\n",
       "    .dataframe thead th {\n",
       "        text-align: right;\n",
       "    }\n",
       "</style>\n",
       "<table border=\"1\" class=\"dataframe\">\n",
       "  <thead>\n",
       "    <tr style=\"text-align: right;\">\n",
       "      <th></th>\n",
       "      <th>name</th>\n",
       "      <th>category_list</th>\n",
       "      <th>status</th>\n",
       "      <th>country_code</th>\n",
       "      <th>city</th>\n",
       "      <th>founded_at</th>\n",
       "      <th>last_funding_at</th>\n",
       "    </tr>\n",
       "  </thead>\n",
       "  <tbody>\n",
       "    <tr>\n",
       "      <th>0</th>\n",
       "      <td>#fame</td>\n",
       "      <td>Media</td>\n",
       "      <td>operating</td>\n",
       "      <td>IND</td>\n",
       "      <td>Mumbai</td>\n",
       "      <td>NaN</td>\n",
       "      <td>05/01/2015</td>\n",
       "    </tr>\n",
       "    <tr>\n",
       "      <th>1</th>\n",
       "      <td>:Qounter</td>\n",
       "      <td>Application Platforms|Real Time|Social Network...</td>\n",
       "      <td>operating</td>\n",
       "      <td>USA</td>\n",
       "      <td>Delaware City</td>\n",
       "      <td>04/09/2014</td>\n",
       "      <td>14/10/2014</td>\n",
       "    </tr>\n",
       "    <tr>\n",
       "      <th>2</th>\n",
       "      <td>(THE) ONE of THEM,Inc.</td>\n",
       "      <td>Apps|Games|Mobile</td>\n",
       "      <td>operating</td>\n",
       "      <td>NaN</td>\n",
       "      <td>NaN</td>\n",
       "      <td>NaN</td>\n",
       "      <td>30/01/2014</td>\n",
       "    </tr>\n",
       "    <tr>\n",
       "      <th>3</th>\n",
       "      <td>0-6.com</td>\n",
       "      <td>Curated Web</td>\n",
       "      <td>operating</td>\n",
       "      <td>CHN</td>\n",
       "      <td>Beijing</td>\n",
       "      <td>01/01/2007</td>\n",
       "      <td>19/03/2008</td>\n",
       "    </tr>\n",
       "    <tr>\n",
       "      <th>4</th>\n",
       "      <td>004 Technologies</td>\n",
       "      <td>Software</td>\n",
       "      <td>operating</td>\n",
       "      <td>USA</td>\n",
       "      <td>Champaign</td>\n",
       "      <td>01/01/2010</td>\n",
       "      <td>24/07/2014</td>\n",
       "    </tr>\n",
       "  </tbody>\n",
       "</table>\n",
       "</div>"
      ],
      "text/plain": [
       "                     name                                      category_list  \\\n",
       "0                   #fame                                              Media   \n",
       "1                :Qounter  Application Platforms|Real Time|Social Network...   \n",
       "2  (THE) ONE of THEM,Inc.                                  Apps|Games|Mobile   \n",
       "3                 0-6.com                                        Curated Web   \n",
       "4        004 Technologies                                           Software   \n",
       "\n",
       "      status country_code           city  founded_at last_funding_at  \n",
       "0  operating          IND         Mumbai         NaN      05/01/2015  \n",
       "1  operating          USA  Delaware City  04/09/2014      14/10/2014  \n",
       "2  operating          NaN            NaN         NaN      30/01/2014  \n",
       "3  operating          CHN        Beijing  01/01/2007      19/03/2008  \n",
       "4  operating          USA      Champaign  01/01/2010      24/07/2014  "
      ]
     },
     "execution_count": 94,
     "metadata": {},
     "output_type": "execute_result"
    }
   ],
   "source": [
    "organizations.head()"
   ]
  },
  {
   "cell_type": "markdown",
   "metadata": {},
   "source": [
    "###### Checking for NaNs"
   ]
  },
  {
   "cell_type": "code",
   "execution_count": 95,
   "metadata": {},
   "outputs": [
    {
     "data": {
      "text/plain": [
       "name                0.001507\n",
       "category_list       4.743250\n",
       "status              0.000000\n",
       "country_code       10.483968\n",
       "city               12.096191\n",
       "founded_at         22.934245\n",
       "last_funding_at     0.000000\n",
       "dtype: float64"
      ]
     },
     "execution_count": 95,
     "metadata": {},
     "output_type": "execute_result"
    }
   ],
   "source": [
    "# removing compnaies with NANs, no matter what fraction of the data we loose\n",
    "# we need all attributes but location to be filled for the data to be of use. \n",
    "# (we will be sorting by category and founding date) \n",
    "organizations.isna().sum()/len(organizations)*100"
   ]
  },
  {
   "cell_type": "code",
   "execution_count": 96,
   "metadata": {},
   "outputs": [],
   "source": [
    "# we wil drop all NaNs but those in the location attribute\n",
    "# we will drop city as we do not need it, coutnry is enough\n",
    "\n",
    "organizations.drop(\"city\", axis=1, inplace=True)\n",
    "\n",
    "# create df for location to merge back in after drop nan\n",
    "location = organizations[[\"country_code\"]]\n",
    "\n",
    "# drop country form original\n",
    "organizations.drop(\"country_code\", axis=1, inplace=True)\n",
    "\n",
    "# drop nans \n",
    "organizations.dropna(inplace=True)\n",
    "\n",
    "# merge countries back in\n",
    "organizations = organizations.merge(location, how=\"left\", left_index=True, right_index=True)"
   ]
  },
  {
   "cell_type": "code",
   "execution_count": 97,
   "metadata": {},
   "outputs": [
    {
     "data": {
      "text/plain": [
       "name                  0\n",
       "category_list         0\n",
       "status                0\n",
       "founded_at            0\n",
       "last_funding_at       0\n",
       "country_code       3183\n",
       "dtype: int64"
      ]
     },
     "execution_count": 97,
     "metadata": {},
     "output_type": "execute_result"
    }
   ],
   "source": [
    "organizations.isna().sum()"
   ]
  },
  {
   "cell_type": "code",
   "execution_count": 107,
   "metadata": {},
   "outputs": [
    {
     "name": "stdout",
     "output_type": "stream",
     "text": [
      "(49710, 6)\n"
     ]
    }
   ],
   "source": [
    "# checking DF attributes\n",
    "print(organizations.shape)"
   ]
  },
  {
   "cell_type": "code",
   "execution_count": 99,
   "metadata": {},
   "outputs": [
    {
     "data": {
      "text/html": [
       "<div>\n",
       "<style scoped>\n",
       "    .dataframe tbody tr th:only-of-type {\n",
       "        vertical-align: middle;\n",
       "    }\n",
       "\n",
       "    .dataframe tbody tr th {\n",
       "        vertical-align: top;\n",
       "    }\n",
       "\n",
       "    .dataframe thead th {\n",
       "        text-align: right;\n",
       "    }\n",
       "</style>\n",
       "<table border=\"1\" class=\"dataframe\">\n",
       "  <thead>\n",
       "    <tr style=\"text-align: right;\">\n",
       "      <th></th>\n",
       "      <th>name</th>\n",
       "      <th>category_list</th>\n",
       "      <th>status</th>\n",
       "      <th>founded_at</th>\n",
       "      <th>last_funding_at</th>\n",
       "      <th>country_code</th>\n",
       "    </tr>\n",
       "  </thead>\n",
       "  <tbody>\n",
       "    <tr>\n",
       "      <th>1</th>\n",
       "      <td>:Qounter</td>\n",
       "      <td>Application Platforms|Real Time|Social Network...</td>\n",
       "      <td>operating</td>\n",
       "      <td>04/09/2014</td>\n",
       "      <td>14/10/2014</td>\n",
       "      <td>USA</td>\n",
       "    </tr>\n",
       "    <tr>\n",
       "      <th>3</th>\n",
       "      <td>0-6.com</td>\n",
       "      <td>Curated Web</td>\n",
       "      <td>operating</td>\n",
       "      <td>01/01/2007</td>\n",
       "      <td>19/03/2008</td>\n",
       "      <td>CHN</td>\n",
       "    </tr>\n",
       "    <tr>\n",
       "      <th>4</th>\n",
       "      <td>004 Technologies</td>\n",
       "      <td>Software</td>\n",
       "      <td>operating</td>\n",
       "      <td>01/01/2010</td>\n",
       "      <td>24/07/2014</td>\n",
       "      <td>USA</td>\n",
       "    </tr>\n",
       "    <tr>\n",
       "      <th>6</th>\n",
       "      <td>Ondine Biomedical Inc.</td>\n",
       "      <td>Biotechnology</td>\n",
       "      <td>operating</td>\n",
       "      <td>01/01/1997</td>\n",
       "      <td>21/12/2009</td>\n",
       "      <td>CAN</td>\n",
       "    </tr>\n",
       "    <tr>\n",
       "      <th>7</th>\n",
       "      <td>H2O.ai</td>\n",
       "      <td>Analytics</td>\n",
       "      <td>operating</td>\n",
       "      <td>01/01/2011</td>\n",
       "      <td>09/11/2015</td>\n",
       "      <td>USA</td>\n",
       "    </tr>\n",
       "  </tbody>\n",
       "</table>\n",
       "</div>"
      ],
      "text/plain": [
       "                     name                                      category_list  \\\n",
       "1                :Qounter  Application Platforms|Real Time|Social Network...   \n",
       "3                 0-6.com                                        Curated Web   \n",
       "4        004 Technologies                                           Software   \n",
       "6  Ondine Biomedical Inc.                                      Biotechnology   \n",
       "7                  H2O.ai                                          Analytics   \n",
       "\n",
       "      status  founded_at last_funding_at country_code  \n",
       "1  operating  04/09/2014      14/10/2014          USA  \n",
       "3  operating  01/01/2007      19/03/2008          CHN  \n",
       "4  operating  01/01/2010      24/07/2014          USA  \n",
       "6  operating  01/01/1997      21/12/2009          CAN  \n",
       "7  operating  01/01/2011      09/11/2015          USA  "
      ]
     },
     "execution_count": 99,
     "metadata": {},
     "output_type": "execute_result"
    }
   ],
   "source": [
    "organizations.head()"
   ]
  },
  {
   "cell_type": "code",
   "execution_count": 112,
   "metadata": {},
   "outputs": [
    {
     "data": {
      "text/plain": [
       "Software                                                                                                                                         3137\n",
       "Biotechnology                                                                                                                                    2431\n",
       "E-Commerce                                                                                                                                        999\n",
       "Mobile                                                                                                                                            883\n",
       "Curated Web                                                                                                                                       794\n",
       "Clean Technology                                                                                                                                  731\n",
       "Hardware + Software                                                                                                                               699\n",
       "Enterprise Software                                                                                                                               663\n",
       "Health Care                                                                                                                                       634\n",
       "Games                                                                                                                                             625\n",
       "Advertising                                                                                                                                       557\n",
       "Health and Wellness                                                                                                                               536\n",
       "Manufacturing                                                                                                                                     533\n",
       "Education                                                                                                                                         471\n",
       "Semiconductors                                                                                                                                    368\n",
       "Real Estate                                                                                                                                       366\n",
       "Consulting                                                                                                                                        331\n",
       "Finance                                                                                                                                           325\n",
       "Security                                                                                                                                          308\n",
       "Social Media                                                                                                                                      301\n",
       "Hospitality                                                                                                                                       284\n",
       "Web Hosting                                                                                                                                       259\n",
       "Fashion                                                                                                                                           259\n",
       "Analytics                                                                                                                                         252\n",
       "Medical                                                                                                                                           218\n",
       "Travel                                                                                                                                            185\n",
       "Internet                                                                                                                                          169\n",
       "Biotechnology|Health Diagnostics                                                                                                                  163\n",
       "Entertainment|Games                                                                                                                               147\n",
       "Sports                                                                                                                                            141\n",
       "                                                                                                                                                 ... \n",
       "Automotive|Logistics|Robotics                                                                                                                       1\n",
       "Advertising|Design|Film|Graphics|Journalism                                                                                                         1\n",
       "Concerts|Consumer Goods|Software|Sports                                                                                                             1\n",
       "B2B|Collaboration|Enterprise Software|Predictive Analytics|Productivity|SaaS                                                                        1\n",
       "Health and Wellness|Health Care|Medical Devices|Mobile Games                                                                                        1\n",
       "Collaboration|Recycling|Waste Management                                                                                                            1\n",
       "Events|Journalism|Marketplaces|Video Streaming                                                                                                      1\n",
       "Consulting|Recruiting|Service Providers|Staffing Firms                                                                                              1\n",
       "Enterprise Software|File Sharing|Project Management                                                                                                 1\n",
       "Analytics|Big Data|Enterprise Software|Predictive Analytics                                                                                         1\n",
       "Advertising Platforms|Marketing Automation|Payments|Social Commerce|Social Media Marketing                                                          1\n",
       "Digital Media|Health Care Information Technology|Predictive Analytics                                                                               1\n",
       "Internet|Music|Nightclubs|Video Streaming                                                                                                           1\n",
       "Advertising|Entertainment|Media                                                                                                                     1\n",
       "Innovation Engineering|Mobile|Social Network Media|Sports                                                                                           1\n",
       "Employment|Identity|Identity Management|Security                                                                                                    1\n",
       "Local|News                                                                                                                                          1\n",
       "Consumer Internet|Mobile|Mobile Social                                                                                                              1\n",
       "Education|Educational Games|K-12 Education|Language Learning                                                                                        1\n",
       "Enterprise Software|IT Management|Networking|Web Development                                                                                        1\n",
       "Broadcasting|News|Sports                                                                                                                            1\n",
       "Alternative Medicine|Cannabis|Content Delivery|Mobile                                                                                               1\n",
       "Entertainment Industry|Mobile|Nightlife|Social Media                                                                                                1\n",
       "Business Services|Curated Web|Local|Local Based Services|Local Search|Reviews and Recommendations|Search|Social Commerce|Social Network Media       1\n",
       "Algorithms|Blogging Platforms|Coupons|E-Commerce|Finance|Incentives|SEO|Shopping|Technology                                                         1\n",
       "Celebrity|Entertainment|Games|Interest Graph|Media|Politics|Social Media|Social Network Media|Sports|Virtual Currency                               1\n",
       "Computers|Design|Services                                                                                                                           1\n",
       "Advertising|Business Services|Promotional                                                                                                           1\n",
       "B2B|Education|SaaS                                                                                                                                  1\n",
       "Clean Technology|Collaborative Consumption|Energy|Hardware|Hardware + Software|Internet of Things|Transportation                                    1\n",
       "Name: category_list, Length: 23385, dtype: int64"
      ]
     },
     "execution_count": 112,
     "metadata": {},
     "output_type": "execute_result"
    }
   ],
   "source": [
    "#cheking df attributes\n",
    "organizations[\"status\"].value_counts()\n",
    "organizations[\"category_list\"].value_counts()"
   ]
  },
  {
   "cell_type": "code",
   "execution_count": 116,
   "metadata": {},
   "outputs": [
    {
     "data": {
      "text/plain": [
       "name               object\n",
       "category_list      object\n",
       "status             object\n",
       "founded_at         object\n",
       "last_funding_at    object\n",
       "country_code       object\n",
       "dtype: object"
      ]
     },
     "execution_count": 116,
     "metadata": {},
     "output_type": "execute_result"
    }
   ],
   "source": [
    "organizations.dtypes"
   ]
  },
  {
   "cell_type": "code",
   "execution_count": 124,
   "metadata": {},
   "outputs": [
    {
     "data": {
      "text/html": [
       "<div>\n",
       "<style scoped>\n",
       "    .dataframe tbody tr th:only-of-type {\n",
       "        vertical-align: middle;\n",
       "    }\n",
       "\n",
       "    .dataframe tbody tr th {\n",
       "        vertical-align: top;\n",
       "    }\n",
       "\n",
       "    .dataframe thead th {\n",
       "        text-align: right;\n",
       "    }\n",
       "</style>\n",
       "<table border=\"1\" class=\"dataframe\">\n",
       "  <thead>\n",
       "    <tr style=\"text-align: right;\">\n",
       "      <th></th>\n",
       "      <th>name</th>\n",
       "      <th>category_list</th>\n",
       "      <th>status</th>\n",
       "      <th>founded_at</th>\n",
       "      <th>last_funding_at</th>\n",
       "      <th>country_code</th>\n",
       "    </tr>\n",
       "  </thead>\n",
       "  <tbody>\n",
       "    <tr>\n",
       "      <th>1879</th>\n",
       "      <td>AG&amp;P</td>\n",
       "      <td>Clean Technology</td>\n",
       "      <td>operating</td>\n",
       "      <td>1899-12-31</td>\n",
       "      <td>02/07/2013</td>\n",
       "      <td>PHL</td>\n",
       "    </tr>\n",
       "    <tr>\n",
       "      <th>6153</th>\n",
       "      <td>Becker College</td>\n",
       "      <td>Education</td>\n",
       "      <td>operating</td>\n",
       "      <td>1899-12-31</td>\n",
       "      <td>13/09/2013</td>\n",
       "      <td>USA</td>\n",
       "    </tr>\n",
       "    <tr>\n",
       "      <th>9898</th>\n",
       "      <td>Carnegie Mellon University</td>\n",
       "      <td>Education</td>\n",
       "      <td>operating</td>\n",
       "      <td>1899-12-31</td>\n",
       "      <td>02/09/2014</td>\n",
       "      <td>USA</td>\n",
       "    </tr>\n",
       "    <tr>\n",
       "      <th>60561</th>\n",
       "      <td>University of Chicago</td>\n",
       "      <td>Education</td>\n",
       "      <td>operating</td>\n",
       "      <td>1899-12-31</td>\n",
       "      <td>06/01/2014</td>\n",
       "      <td>USA</td>\n",
       "    </tr>\n",
       "  </tbody>\n",
       "</table>\n",
       "</div>"
      ],
      "text/plain": [
       "                             name     category_list     status  founded_at  \\\n",
       "1879                         AG&P  Clean Technology  operating  1899-12-31   \n",
       "6153               Becker College         Education  operating  1899-12-31   \n",
       "9898   Carnegie Mellon University         Education  operating  1899-12-31   \n",
       "60561       University of Chicago         Education  operating  1899-12-31   \n",
       "\n",
       "      last_funding_at country_code  \n",
       "1879       02/07/2013          PHL  \n",
       "6153       13/09/2013          USA  \n",
       "9898       02/09/2014          USA  \n",
       "60561      06/01/2014          USA  "
      ]
     },
     "execution_count": 124,
     "metadata": {},
     "output_type": "execute_result"
    }
   ],
   "source": [
    "organizations[organizations[\"founded_at\"]==\"1899-12-31\"]"
   ]
  },
  {
   "cell_type": "code",
   "execution_count": 119,
   "metadata": {},
   "outputs": [
    {
     "ename": "ValueError",
     "evalue": "time data '1899-12-31' does not match format '%d/%m/%Y' (match)",
     "output_type": "error",
     "traceback": [
      "\u001b[1;31m---------------------------------------------------------------------------\u001b[0m",
      "\u001b[1;31mTypeError\u001b[0m                                 Traceback (most recent call last)",
      "\u001b[1;32m~\\AppData\\Roaming\\Python\\Python37\\site-packages\\pandas\\core\\tools\\datetimes.py\u001b[0m in \u001b[0;36m_convert_listlike_datetimes\u001b[1;34m(arg, box, format, name, tz, unit, errors, infer_datetime_format, dayfirst, yearfirst, exact)\u001b[0m\n\u001b[0;32m    290\u001b[0m             \u001b[1;32mtry\u001b[0m\u001b[1;33m:\u001b[0m\u001b[1;33m\u001b[0m\u001b[1;33m\u001b[0m\u001b[0m\n\u001b[1;32m--> 291\u001b[1;33m                 \u001b[0mvalues\u001b[0m\u001b[1;33m,\u001b[0m \u001b[0mtz\u001b[0m \u001b[1;33m=\u001b[0m \u001b[0mconversion\u001b[0m\u001b[1;33m.\u001b[0m\u001b[0mdatetime_to_datetime64\u001b[0m\u001b[1;33m(\u001b[0m\u001b[0marg\u001b[0m\u001b[1;33m)\u001b[0m\u001b[1;33m\u001b[0m\u001b[1;33m\u001b[0m\u001b[0m\n\u001b[0m\u001b[0;32m    292\u001b[0m                 \u001b[1;32mreturn\u001b[0m \u001b[0mDatetimeIndex\u001b[0m\u001b[1;33m.\u001b[0m\u001b[0m_simple_new\u001b[0m\u001b[1;33m(\u001b[0m\u001b[0mvalues\u001b[0m\u001b[1;33m,\u001b[0m \u001b[0mname\u001b[0m\u001b[1;33m=\u001b[0m\u001b[0mname\u001b[0m\u001b[1;33m,\u001b[0m \u001b[0mtz\u001b[0m\u001b[1;33m=\u001b[0m\u001b[0mtz\u001b[0m\u001b[1;33m)\u001b[0m\u001b[1;33m\u001b[0m\u001b[1;33m\u001b[0m\u001b[0m\n",
      "\u001b[1;32mpandas\\_libs\\tslibs\\conversion.pyx\u001b[0m in \u001b[0;36mpandas._libs.tslibs.conversion.datetime_to_datetime64\u001b[1;34m()\u001b[0m\n",
      "\u001b[1;31mTypeError\u001b[0m: Unrecognized value type: <class 'str'>",
      "\nDuring handling of the above exception, another exception occurred:\n",
      "\u001b[1;31mValueError\u001b[0m                                Traceback (most recent call last)",
      "\u001b[1;32m<ipython-input-119-6dec50f47226>\u001b[0m in \u001b[0;36m<module>\u001b[1;34m\u001b[0m\n\u001b[1;32m----> 1\u001b[1;33m \u001b[0mpd\u001b[0m\u001b[1;33m.\u001b[0m\u001b[0mto_datetime\u001b[0m\u001b[1;33m(\u001b[0m\u001b[0morganizations\u001b[0m\u001b[1;33m[\u001b[0m\u001b[1;34m\"founded_at\"\u001b[0m\u001b[1;33m]\u001b[0m\u001b[1;33m,\u001b[0m \u001b[0mformat\u001b[0m\u001b[1;33m=\u001b[0m\u001b[1;34m\"%d/%m/%Y\"\u001b[0m\u001b[1;33m)\u001b[0m\u001b[1;33m\u001b[0m\u001b[1;33m\u001b[0m\u001b[0m\n\u001b[0m",
      "\u001b[1;32m~\\AppData\\Roaming\\Python\\Python37\\site-packages\\pandas\\core\\tools\\datetimes.py\u001b[0m in \u001b[0;36mto_datetime\u001b[1;34m(arg, errors, dayfirst, yearfirst, utc, box, format, exact, unit, infer_datetime_format, origin, cache)\u001b[0m\n\u001b[0;32m    590\u001b[0m         \u001b[1;32melse\u001b[0m\u001b[1;33m:\u001b[0m\u001b[1;33m\u001b[0m\u001b[1;33m\u001b[0m\u001b[0m\n\u001b[0;32m    591\u001b[0m             \u001b[1;32mfrom\u001b[0m \u001b[0mpandas\u001b[0m \u001b[1;32mimport\u001b[0m \u001b[0mSeries\u001b[0m\u001b[1;33m\u001b[0m\u001b[1;33m\u001b[0m\u001b[0m\n\u001b[1;32m--> 592\u001b[1;33m             \u001b[0mvalues\u001b[0m \u001b[1;33m=\u001b[0m \u001b[0mconvert_listlike\u001b[0m\u001b[1;33m(\u001b[0m\u001b[0marg\u001b[0m\u001b[1;33m.\u001b[0m\u001b[0m_values\u001b[0m\u001b[1;33m,\u001b[0m \u001b[1;32mTrue\u001b[0m\u001b[1;33m,\u001b[0m \u001b[0mformat\u001b[0m\u001b[1;33m)\u001b[0m\u001b[1;33m\u001b[0m\u001b[1;33m\u001b[0m\u001b[0m\n\u001b[0m\u001b[0;32m    593\u001b[0m             \u001b[0mresult\u001b[0m \u001b[1;33m=\u001b[0m \u001b[0mSeries\u001b[0m\u001b[1;33m(\u001b[0m\u001b[0mvalues\u001b[0m\u001b[1;33m,\u001b[0m \u001b[0mindex\u001b[0m\u001b[1;33m=\u001b[0m\u001b[0marg\u001b[0m\u001b[1;33m.\u001b[0m\u001b[0mindex\u001b[0m\u001b[1;33m,\u001b[0m \u001b[0mname\u001b[0m\u001b[1;33m=\u001b[0m\u001b[0marg\u001b[0m\u001b[1;33m.\u001b[0m\u001b[0mname\u001b[0m\u001b[1;33m)\u001b[0m\u001b[1;33m\u001b[0m\u001b[1;33m\u001b[0m\u001b[0m\n\u001b[0;32m    594\u001b[0m     \u001b[1;32melif\u001b[0m \u001b[0misinstance\u001b[0m\u001b[1;33m(\u001b[0m\u001b[0marg\u001b[0m\u001b[1;33m,\u001b[0m \u001b[1;33m(\u001b[0m\u001b[0mABCDataFrame\u001b[0m\u001b[1;33m,\u001b[0m \u001b[0mcompat\u001b[0m\u001b[1;33m.\u001b[0m\u001b[0mMutableMapping\u001b[0m\u001b[1;33m)\u001b[0m\u001b[1;33m)\u001b[0m\u001b[1;33m:\u001b[0m\u001b[1;33m\u001b[0m\u001b[1;33m\u001b[0m\u001b[0m\n",
      "\u001b[1;32m~\\AppData\\Roaming\\Python\\Python37\\site-packages\\pandas\\core\\tools\\datetimes.py\u001b[0m in \u001b[0;36m_convert_listlike_datetimes\u001b[1;34m(arg, box, format, name, tz, unit, errors, infer_datetime_format, dayfirst, yearfirst, exact)\u001b[0m\n\u001b[0;32m    292\u001b[0m                 \u001b[1;32mreturn\u001b[0m \u001b[0mDatetimeIndex\u001b[0m\u001b[1;33m.\u001b[0m\u001b[0m_simple_new\u001b[0m\u001b[1;33m(\u001b[0m\u001b[0mvalues\u001b[0m\u001b[1;33m,\u001b[0m \u001b[0mname\u001b[0m\u001b[1;33m=\u001b[0m\u001b[0mname\u001b[0m\u001b[1;33m,\u001b[0m \u001b[0mtz\u001b[0m\u001b[1;33m=\u001b[0m\u001b[0mtz\u001b[0m\u001b[1;33m)\u001b[0m\u001b[1;33m\u001b[0m\u001b[1;33m\u001b[0m\u001b[0m\n\u001b[0;32m    293\u001b[0m             \u001b[1;32mexcept\u001b[0m \u001b[1;33m(\u001b[0m\u001b[0mValueError\u001b[0m\u001b[1;33m,\u001b[0m \u001b[0mTypeError\u001b[0m\u001b[1;33m)\u001b[0m\u001b[1;33m:\u001b[0m\u001b[1;33m\u001b[0m\u001b[1;33m\u001b[0m\u001b[0m\n\u001b[1;32m--> 294\u001b[1;33m                 \u001b[1;32mraise\u001b[0m \u001b[0me\u001b[0m\u001b[1;33m\u001b[0m\u001b[1;33m\u001b[0m\u001b[0m\n\u001b[0m\u001b[0;32m    295\u001b[0m \u001b[1;33m\u001b[0m\u001b[0m\n\u001b[0;32m    296\u001b[0m     \u001b[1;32mif\u001b[0m \u001b[0mresult\u001b[0m \u001b[1;32mis\u001b[0m \u001b[1;32mNone\u001b[0m\u001b[1;33m:\u001b[0m\u001b[1;33m\u001b[0m\u001b[1;33m\u001b[0m\u001b[0m\n",
      "\u001b[1;32m~\\AppData\\Roaming\\Python\\Python37\\site-packages\\pandas\\core\\tools\\datetimes.py\u001b[0m in \u001b[0;36m_convert_listlike_datetimes\u001b[1;34m(arg, box, format, name, tz, unit, errors, infer_datetime_format, dayfirst, yearfirst, exact)\u001b[0m\n\u001b[0;32m    259\u001b[0m                 \u001b[1;32mtry\u001b[0m\u001b[1;33m:\u001b[0m\u001b[1;33m\u001b[0m\u001b[1;33m\u001b[0m\u001b[0m\n\u001b[0;32m    260\u001b[0m                     result, timezones = array_strptime(\n\u001b[1;32m--> 261\u001b[1;33m                         arg, format, exact=exact, errors=errors)\n\u001b[0m\u001b[0;32m    262\u001b[0m                     \u001b[1;32mif\u001b[0m \u001b[1;34m'%Z'\u001b[0m \u001b[1;32min\u001b[0m \u001b[0mformat\u001b[0m \u001b[1;32mor\u001b[0m \u001b[1;34m'%z'\u001b[0m \u001b[1;32min\u001b[0m \u001b[0mformat\u001b[0m\u001b[1;33m:\u001b[0m\u001b[1;33m\u001b[0m\u001b[1;33m\u001b[0m\u001b[0m\n\u001b[0;32m    263\u001b[0m                         return _return_parsed_timezone_results(\n",
      "\u001b[1;32mpandas\\_libs\\tslibs\\strptime.pyx\u001b[0m in \u001b[0;36mpandas._libs.tslibs.strptime.array_strptime\u001b[1;34m()\u001b[0m\n",
      "\u001b[1;31mValueError\u001b[0m: time data '1899-12-31' does not match format '%d/%m/%Y' (match)"
     ]
    }
   ],
   "source": [
    "pd.to_datetime(organizations[\"founded_at\"], format=\"%d/%m/%Y\")"
   ]
  },
  {
   "cell_type": "markdown",
   "metadata": {},
   "source": [
    "##### Organisations extended (up to 2015) (for market research)"
   ]
  },
  {
   "cell_type": "code",
   "execution_count": null,
   "metadata": {},
   "outputs": [],
   "source": []
  },
  {
   "cell_type": "markdown",
   "metadata": {},
   "source": [
    "## 3. Organising Database"
   ]
  },
  {
   "cell_type": "markdown",
   "metadata": {},
   "source": [
    "\n",
    "### Description of section: \n",
    "- Importing Datasets\n",
    "- Organising Database\n",
    "- Creating Database connection and exporting Datasets to cloud\n",
    "\n",
    "\n",
    "The prework of the Project consists basically on the organisation of the data storage and the creation of the tables that I will be using through this Analysis. \n",
    "\n",
    "Goal of this part is to describe the Database, upload the credentials needed to access it as a guest, and uploading the Data to the cloud. \n",
    "\n",
    "I will be using a number of different datasets for the analysis of the project.\n",
    "\n",
    "The links and organisation between these can be seen below: \n",
    "\n",
    "![DB_diagram](../02_visualisations/Database_org.PNG)\n",
    "\n",
    "> Note that the tables country and industry are only used as key-holders for extra information. I will not be analysing the informaiton in them directly. "
   ]
  },
  {
   "cell_type": "markdown",
   "metadata": {},
   "source": [
    "## 3. Exporing Data into cloud"
   ]
  },
  {
   "cell_type": "code",
   "execution_count": null,
   "metadata": {},
   "outputs": [],
   "source": []
  },
  {
   "cell_type": "markdown",
   "metadata": {},
   "source": [
    "##### DataBase guest credentials:"
   ]
  },
  {
   "cell_type": "markdown",
   "metadata": {},
   "source": [
    "<div class=\"alert alert-block alert-info\">\n",
    "<b>Credentials for DB:</b> \n",
    "\n",
    "##### To access the database, see the details below:\n",
    "Note that this database has an IP restriction, and can therefore only be viewed in the IRONHACK campus. If the DB needs to be accessed from a different  IP address, please contact me. \n",
    "\n",
    ">**Connection information:** <br>\n",
    ">**User name**: ironhack <br> \n",
    ">**Passowrd**: Ironhack1 <br>\n",
    ">**Host name**: 35.240.116.117 <br>\n",
    "</div>"
   ]
  },
  {
   "cell_type": "code",
   "execution_count": null,
   "metadata": {},
   "outputs": [],
   "source": []
  }
 ],
 "metadata": {
  "kernelspec": {
   "display_name": "Python 3",
   "language": "python",
   "name": "python3"
  },
  "language_info": {
   "codemirror_mode": {
    "name": "ipython",
    "version": 3
   },
   "file_extension": ".py",
   "mimetype": "text/x-python",
   "name": "python",
   "nbconvert_exporter": "python",
   "pygments_lexer": "ipython3",
   "version": "3.7.3"
  }
 },
 "nbformat": 4,
 "nbformat_minor": 2
}
