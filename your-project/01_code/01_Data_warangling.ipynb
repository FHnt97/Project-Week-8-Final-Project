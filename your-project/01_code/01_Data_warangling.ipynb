{
 "cells": [
  {
   "cell_type": "markdown",
   "metadata": {},
   "source": [
    "# How are the technological hubs of manufacturing evolving in the world? An analysis on the rate of innovation. \n",
    "<h2 align=\"center\"> Pre-Work</h2>\n",
    "\n",
    "----\n",
    "\n",
    "### Description of Section: Data cleaning and initial analysis\n",
    "\n",
    "In this first part of the projects, I am aiming to analyse the quality of the data retrieved and saved in the [prework section](./01_retrieving_data_and_DB_creation.ipynb) to be able to carry out further analysis on it. \n",
    "This jupyter notebook includes the following steps:\n",
    "1. Reading the files\n",
    "2. Basic analysis techniques from the Pandas library to analyse the quality of the data\n",
    "3. Exporting the data into csv. formats. \n",
    "\n",
    "### The Data:\n",
    "\n",
    "I will be using a number of different data sources for the two different questions asked in the project description. \n",
    "\n",
    "##### 1. Innovation analysis \n",
    "For the first part of my project, **the innovation analysis**, I will be using information of patent registration, both [by country](https://www.wipo.int/ipstats/en/), as well as [by company](http://www.oecd.org/sti/intellectual-property-statistics-and-analysis.htm). Added to this I will also be using a number of indicators provided by the [World Bank Dataset](https://data.worldbank.org/topic/science-and-technology) to measure innovation. \n",
    "\n",
    "Specific datasets used, such as the Industry Classification Benchamark indices, where imported form a self made csv file. The information was extracted form [Wikipedia.](https://en.wikipedia.org/wiki/Industry_Classification_Benchmark)\n",
    "\n",
    "\n",
    "##### 2. Market analysis\n",
    "In the second part of the project,  I will attempt a **market analysis**, I will be using data from [Crunchbase](https://data.crunchbase.com/docs/open-data-map), as well as the database on patent regrstration from [JRC-OECD COR&DIP database v.1](http://www.oecd.org/sti/intellectual-property-statistics-and-analysis.htm), 2017  to do this. \n",
    "\n",
    "\n",
    "----\n"
   ]
  },
  {
   "cell_type": "code",
   "execution_count": 1,
   "metadata": {},
   "outputs": [],
   "source": [
    "# importing basic libraries needed: \n",
    "\n",
    "# for database manipulation\n",
    "import pandas as pd\n",
    "import pandas_profiling as pp\n",
    "import numpy as np\n",
    "import os\n",
    "from datetime import  datetime\n",
    "\n",
    "# for visualisations:\n",
    "import seaborn as sns\n",
    "import matplotlib as mpl\n",
    "import matplotlib.pyplot as plt\n",
    "\n",
    "# for statistics\n",
    "from scipy import stats"
   ]
  },
  {
   "cell_type": "markdown",
   "metadata": {},
   "source": [
    "## Basis:\n",
    "First the datasets that contain the primary keys will be created and modified accordingly to maintain a consistent nomeclature throught the project. \n",
    "\n",
    "This includes the country dataframe and the industry dataframe. \n",
    "\n",
    "The country dataframe is based on the World Bank report, and inlcudes:\n",
    "- Country Code\n",
    "- Country Name\n",
    "- Income Group\n",
    "\n",
    "The industry table, as mentioned above, provides from the  Industry Classification Benchamark indices. "
   ]
  },
  {
   "cell_type": "markdown",
   "metadata": {},
   "source": [
    "##### 1. Countries table:"
   ]
  },
  {
   "cell_type": "code",
   "execution_count": 233,
   "metadata": {},
   "outputs": [],
   "source": [
    "# open file\n",
    "country = pd.read_csv(\"../00_data/01_raw/patent_data/world_bank_countires.csv\", index_col=\"Country Code\")"
   ]
  },
  {
   "cell_type": "code",
   "execution_count": 234,
   "metadata": {},
   "outputs": [
    {
     "data": {
      "text/html": [
       "<div>\n",
       "<style scoped>\n",
       "    .dataframe tbody tr th:only-of-type {\n",
       "        vertical-align: middle;\n",
       "    }\n",
       "\n",
       "    .dataframe tbody tr th {\n",
       "        vertical-align: top;\n",
       "    }\n",
       "\n",
       "    .dataframe thead th {\n",
       "        text-align: right;\n",
       "    }\n",
       "</style>\n",
       "<table border=\"1\" class=\"dataframe\">\n",
       "  <thead>\n",
       "    <tr style=\"text-align: right;\">\n",
       "      <th></th>\n",
       "      <th>Country Name</th>\n",
       "      <th>Region</th>\n",
       "      <th>IncomeGroup</th>\n",
       "      <th>SpecialNotes</th>\n",
       "    </tr>\n",
       "    <tr>\n",
       "      <th>Country Code</th>\n",
       "      <th></th>\n",
       "      <th></th>\n",
       "      <th></th>\n",
       "      <th></th>\n",
       "    </tr>\n",
       "  </thead>\n",
       "  <tbody>\n",
       "    <tr>\n",
       "      <th>ABW</th>\n",
       "      <td>Aruba</td>\n",
       "      <td>Latin America &amp; Caribbean</td>\n",
       "      <td>High income</td>\n",
       "      <td>NaN</td>\n",
       "    </tr>\n",
       "    <tr>\n",
       "      <th>AFG</th>\n",
       "      <td>Afghanistan</td>\n",
       "      <td>South Asia</td>\n",
       "      <td>Low income</td>\n",
       "      <td>NaN</td>\n",
       "    </tr>\n",
       "    <tr>\n",
       "      <th>AGO</th>\n",
       "      <td>Angola</td>\n",
       "      <td>Sub-Saharan Africa</td>\n",
       "      <td>Lower middle income</td>\n",
       "      <td>NaN</td>\n",
       "    </tr>\n",
       "    <tr>\n",
       "      <th>ALB</th>\n",
       "      <td>Albania</td>\n",
       "      <td>Europe &amp; Central Asia</td>\n",
       "      <td>Upper middle income</td>\n",
       "      <td>NaN</td>\n",
       "    </tr>\n",
       "    <tr>\n",
       "      <th>AND</th>\n",
       "      <td>Andorra</td>\n",
       "      <td>Europe &amp; Central Asia</td>\n",
       "      <td>High income</td>\n",
       "      <td>NaN</td>\n",
       "    </tr>\n",
       "  </tbody>\n",
       "</table>\n",
       "</div>"
      ],
      "text/plain": [
       "             Country Name                     Region          IncomeGroup  \\\n",
       "Country Code                                                                \n",
       "ABW                 Aruba  Latin America & Caribbean          High income   \n",
       "AFG           Afghanistan                 South Asia           Low income   \n",
       "AGO                Angola         Sub-Saharan Africa  Lower middle income   \n",
       "ALB               Albania      Europe & Central Asia  Upper middle income   \n",
       "AND               Andorra      Europe & Central Asia          High income   \n",
       "\n",
       "             SpecialNotes  \n",
       "Country Code               \n",
       "ABW                   NaN  \n",
       "AFG                   NaN  \n",
       "AGO                   NaN  \n",
       "ALB                   NaN  \n",
       "AND                   NaN  "
      ]
     },
     "execution_count": 234,
     "metadata": {},
     "output_type": "execute_result"
    }
   ],
   "source": [
    "# read first rows\n",
    "country.head()"
   ]
  },
  {
   "cell_type": "code",
   "execution_count": 235,
   "metadata": {},
   "outputs": [],
   "source": [
    "# drop specialNotes as its not useful \n",
    "country.drop(\"SpecialNotes\", axis=1, inplace=True)"
   ]
  },
  {
   "cell_type": "code",
   "execution_count": 236,
   "metadata": {},
   "outputs": [
    {
     "data": {
      "text/html": [
       "<div>\n",
       "<style scoped>\n",
       "    .dataframe tbody tr th:only-of-type {\n",
       "        vertical-align: middle;\n",
       "    }\n",
       "\n",
       "    .dataframe tbody tr th {\n",
       "        vertical-align: top;\n",
       "    }\n",
       "\n",
       "    .dataframe thead th {\n",
       "        text-align: right;\n",
       "    }\n",
       "</style>\n",
       "<table border=\"1\" class=\"dataframe\">\n",
       "  <thead>\n",
       "    <tr style=\"text-align: right;\">\n",
       "      <th></th>\n",
       "      <th>country name</th>\n",
       "      <th>region</th>\n",
       "      <th>income_group</th>\n",
       "    </tr>\n",
       "    <tr>\n",
       "      <th>Country Code</th>\n",
       "      <th></th>\n",
       "      <th></th>\n",
       "      <th></th>\n",
       "    </tr>\n",
       "  </thead>\n",
       "  <tbody>\n",
       "    <tr>\n",
       "      <th>ABW</th>\n",
       "      <td>Aruba</td>\n",
       "      <td>Latin America &amp; Caribbean</td>\n",
       "      <td>High income</td>\n",
       "    </tr>\n",
       "    <tr>\n",
       "      <th>AFG</th>\n",
       "      <td>Afghanistan</td>\n",
       "      <td>South Asia</td>\n",
       "      <td>Low income</td>\n",
       "    </tr>\n",
       "    <tr>\n",
       "      <th>AGO</th>\n",
       "      <td>Angola</td>\n",
       "      <td>Sub-Saharan Africa</td>\n",
       "      <td>Lower middle income</td>\n",
       "    </tr>\n",
       "    <tr>\n",
       "      <th>ALB</th>\n",
       "      <td>Albania</td>\n",
       "      <td>Europe &amp; Central Asia</td>\n",
       "      <td>Upper middle income</td>\n",
       "    </tr>\n",
       "    <tr>\n",
       "      <th>AND</th>\n",
       "      <td>Andorra</td>\n",
       "      <td>Europe &amp; Central Asia</td>\n",
       "      <td>High income</td>\n",
       "    </tr>\n",
       "  </tbody>\n",
       "</table>\n",
       "</div>"
      ],
      "text/plain": [
       "             country name                     region         income_group\n",
       "Country Code                                                             \n",
       "ABW                 Aruba  Latin America & Caribbean          High income\n",
       "AFG           Afghanistan                 South Asia           Low income\n",
       "AGO                Angola         Sub-Saharan Africa  Lower middle income\n",
       "ALB               Albania      Europe & Central Asia  Upper middle income\n",
       "AND               Andorra      Europe & Central Asia          High income"
      ]
     },
     "execution_count": 236,
     "metadata": {},
     "output_type": "execute_result"
    }
   ],
   "source": [
    "# change names of columns for consistency:\n",
    "country = country.rename(columns = {\"Country Name\":\"country name\", \"Region\":\"region\", \"IncomeGroup\":\"income_group\"})\n",
    "country.head()"
   ]
  },
  {
   "cell_type": "code",
   "execution_count": 237,
   "metadata": {},
   "outputs": [],
   "source": [
    "# save for later use\n",
    "country.to_csv(\"../00_data/00_clean_datasets/country_pk.csv\") "
   ]
  },
  {
   "cell_type": "markdown",
   "metadata": {},
   "source": [
    "As we have to change some of the observations' country code, I will create a df with both types (2 letters, and 3 letters) of index to replace inconsistencies. \n",
    "\n",
    "For this I will take the code naming from one of the other tables, and match them to our ISO3 code."
   ]
  },
  {
   "cell_type": "code",
   "execution_count": 238,
   "metadata": {},
   "outputs": [],
   "source": [
    "# selecting and opening file with country names and 2 letter country code\n",
    "df = pd.read_csv(\"../00_data/01_raw/patent_data/patents_by_country_and_technology.csv\")"
   ]
  },
  {
   "cell_type": "code",
   "execution_count": 239,
   "metadata": {},
   "outputs": [],
   "source": [
    "# selecting unique country code\n",
    "code_lst = df[\"Origin (Code)\"].unique()"
   ]
  },
  {
   "cell_type": "code",
   "execution_count": 240,
   "metadata": {},
   "outputs": [],
   "source": [
    "# selecting unique country names\n",
    "country_lst = df[\"Origin\"].unique()"
   ]
  },
  {
   "cell_type": "code",
   "execution_count": 241,
   "metadata": {},
   "outputs": [
    {
     "data": {
      "text/html": [
       "<div>\n",
       "<style scoped>\n",
       "    .dataframe tbody tr th:only-of-type {\n",
       "        vertical-align: middle;\n",
       "    }\n",
       "\n",
       "    .dataframe tbody tr th {\n",
       "        vertical-align: top;\n",
       "    }\n",
       "\n",
       "    .dataframe thead th {\n",
       "        text-align: right;\n",
       "    }\n",
       "</style>\n",
       "<table border=\"1\" class=\"dataframe\">\n",
       "  <thead>\n",
       "    <tr style=\"text-align: right;\">\n",
       "      <th></th>\n",
       "      <th>country name</th>\n",
       "      <th>country code2</th>\n",
       "    </tr>\n",
       "  </thead>\n",
       "  <tbody>\n",
       "    <tr>\n",
       "      <th>0</th>\n",
       "      <td>Afghanistan</td>\n",
       "      <td>AF</td>\n",
       "    </tr>\n",
       "    <tr>\n",
       "      <th>1</th>\n",
       "      <td>Albania</td>\n",
       "      <td>AL</td>\n",
       "    </tr>\n",
       "    <tr>\n",
       "      <th>2</th>\n",
       "      <td>Algeria</td>\n",
       "      <td>DZ</td>\n",
       "    </tr>\n",
       "    <tr>\n",
       "      <th>3</th>\n",
       "      <td>Andorra</td>\n",
       "      <td>AD</td>\n",
       "    </tr>\n",
       "    <tr>\n",
       "      <th>4</th>\n",
       "      <td>Angola</td>\n",
       "      <td>AO</td>\n",
       "    </tr>\n",
       "  </tbody>\n",
       "</table>\n",
       "</div>"
      ],
      "text/plain": [
       "  country name country code2\n",
       "0  Afghanistan            AF\n",
       "1      Albania            AL\n",
       "2      Algeria            DZ\n",
       "3      Andorra            AD\n",
       "4       Angola            AO"
      ]
     },
     "execution_count": 241,
     "metadata": {},
     "output_type": "execute_result"
    }
   ],
   "source": [
    "# make into dataframe \n",
    "data_tuples = list(zip(country_lst,code_lst))\n",
    "df = pd.DataFrame(data_tuples, columns=['country name','country code2'])\n",
    "df.head()"
   ]
  },
  {
   "cell_type": "code",
   "execution_count": 242,
   "metadata": {},
   "outputs": [],
   "source": [
    "# merge into country table to be able to replace later:\n",
    "# need to reset index for country code to be recognised as new index\n",
    "country.reset_index(inplace=True)\n",
    "country.head()\n",
    "country_2c= country.merge(df, how=\"left\", on=\"country name\")"
   ]
  },
  {
   "cell_type": "code",
   "execution_count": 244,
   "metadata": {},
   "outputs": [],
   "source": [
    "country_2c.drop([\"region\", \"income_group\"], axis=1, inplace=True)"
   ]
  },
  {
   "cell_type": "code",
   "execution_count": 251,
   "metadata": {},
   "outputs": [],
   "source": [
    "country_2c = country_2c.rename(columns = {\"Country Code\":\"country code\"})"
   ]
  },
  {
   "cell_type": "code",
   "execution_count": 252,
   "metadata": {},
   "outputs": [
    {
     "data": {
      "text/html": [
       "<div>\n",
       "<style scoped>\n",
       "    .dataframe tbody tr th:only-of-type {\n",
       "        vertical-align: middle;\n",
       "    }\n",
       "\n",
       "    .dataframe tbody tr th {\n",
       "        vertical-align: top;\n",
       "    }\n",
       "\n",
       "    .dataframe thead th {\n",
       "        text-align: right;\n",
       "    }\n",
       "</style>\n",
       "<table border=\"1\" class=\"dataframe\">\n",
       "  <thead>\n",
       "    <tr style=\"text-align: right;\">\n",
       "      <th></th>\n",
       "      <th>country code</th>\n",
       "      <th>country name</th>\n",
       "      <th>country code2</th>\n",
       "    </tr>\n",
       "  </thead>\n",
       "  <tbody>\n",
       "    <tr>\n",
       "      <th>0</th>\n",
       "      <td>ABW</td>\n",
       "      <td>Aruba</td>\n",
       "      <td>AW</td>\n",
       "    </tr>\n",
       "    <tr>\n",
       "      <th>1</th>\n",
       "      <td>AFG</td>\n",
       "      <td>Afghanistan</td>\n",
       "      <td>AF</td>\n",
       "    </tr>\n",
       "    <tr>\n",
       "      <th>2</th>\n",
       "      <td>AGO</td>\n",
       "      <td>Angola</td>\n",
       "      <td>AO</td>\n",
       "    </tr>\n",
       "    <tr>\n",
       "      <th>3</th>\n",
       "      <td>ALB</td>\n",
       "      <td>Albania</td>\n",
       "      <td>AL</td>\n",
       "    </tr>\n",
       "    <tr>\n",
       "      <th>4</th>\n",
       "      <td>AND</td>\n",
       "      <td>Andorra</td>\n",
       "      <td>AD</td>\n",
       "    </tr>\n",
       "  </tbody>\n",
       "</table>\n",
       "</div>"
      ],
      "text/plain": [
       "  country code country name country code2\n",
       "0          ABW        Aruba            AW\n",
       "1          AFG  Afghanistan            AF\n",
       "2          AGO       Angola            AO\n",
       "3          ALB      Albania            AL\n",
       "4          AND      Andorra            AD"
      ]
     },
     "execution_count": 252,
     "metadata": {},
     "output_type": "execute_result"
    }
   ],
   "source": [
    "country_2c.head()"
   ]
  },
  {
   "cell_type": "markdown",
   "metadata": {},
   "source": [
    "country_2c can now be used to replace the country names, all columns but country code, country name, country code 2 can be dropped"
   ]
  },
  {
   "cell_type": "markdown",
   "metadata": {},
   "source": [
    "##### 2. Industries table:\n",
    "Industry in ICB (industry classification benchamerk) format, needs to be changed to better understand "
   ]
  },
  {
   "cell_type": "code",
   "execution_count": 155,
   "metadata": {},
   "outputs": [
    {
     "data": {
      "text/html": [
       "<div>\n",
       "<style scoped>\n",
       "    .dataframe tbody tr th:only-of-type {\n",
       "        vertical-align: middle;\n",
       "    }\n",
       "\n",
       "    .dataframe tbody tr th {\n",
       "        vertical-align: top;\n",
       "    }\n",
       "\n",
       "    .dataframe thead th {\n",
       "        text-align: right;\n",
       "    }\n",
       "</style>\n",
       "<table border=\"1\" class=\"dataframe\">\n",
       "  <thead>\n",
       "    <tr style=\"text-align: right;\">\n",
       "      <th></th>\n",
       "      <th>industry</th>\n",
       "    </tr>\n",
       "    <tr>\n",
       "      <th>ICB</th>\n",
       "      <th></th>\n",
       "    </tr>\n",
       "  </thead>\n",
       "  <tbody>\n",
       "    <tr>\n",
       "      <th>530</th>\n",
       "      <td>Oil &amp; Gas Producers</td>\n",
       "    </tr>\n",
       "    <tr>\n",
       "      <th>570</th>\n",
       "      <td>Oil Equipment, Services &amp; Distribution</td>\n",
       "    </tr>\n",
       "    <tr>\n",
       "      <th>580</th>\n",
       "      <td>Alternative Energy</td>\n",
       "    </tr>\n",
       "    <tr>\n",
       "      <th>1350</th>\n",
       "      <td>Chemicals</td>\n",
       "    </tr>\n",
       "    <tr>\n",
       "      <th>1730</th>\n",
       "      <td>Forestry &amp; Paper</td>\n",
       "    </tr>\n",
       "  </tbody>\n",
       "</table>\n",
       "</div>"
      ],
      "text/plain": [
       "                                    industry\n",
       "ICB                                         \n",
       "530                      Oil & Gas Producers\n",
       "570   Oil Equipment, Services & Distribution\n",
       "580                       Alternative Energy\n",
       "1350                               Chemicals\n",
       "1730                        Forestry & Paper"
      ]
     },
     "execution_count": 155,
     "metadata": {},
     "output_type": "execute_result"
    }
   ],
   "source": [
    "# open file and read\n",
    "industry = pd.read_csv(\"../00_data/01_raw/patent_data/ICBs.csv\", index_col=\"ICB\")\n",
    "industry.head()"
   ]
  },
  {
   "cell_type": "code",
   "execution_count": 156,
   "metadata": {},
   "outputs": [
    {
     "data": {
      "text/html": [
       "<div>\n",
       "<style scoped>\n",
       "    .dataframe tbody tr th:only-of-type {\n",
       "        vertical-align: middle;\n",
       "    }\n",
       "\n",
       "    .dataframe tbody tr th {\n",
       "        vertical-align: top;\n",
       "    }\n",
       "\n",
       "    .dataframe thead th {\n",
       "        text-align: right;\n",
       "    }\n",
       "</style>\n",
       "<table border=\"1\" class=\"dataframe\">\n",
       "  <thead>\n",
       "    <tr style=\"text-align: right;\">\n",
       "      <th></th>\n",
       "      <th>ICB</th>\n",
       "      <th>industry</th>\n",
       "    </tr>\n",
       "  </thead>\n",
       "  <tbody>\n",
       "    <tr>\n",
       "      <th>0</th>\n",
       "      <td>530</td>\n",
       "      <td>Oil &amp; Gas Producers</td>\n",
       "    </tr>\n",
       "    <tr>\n",
       "      <th>1</th>\n",
       "      <td>570</td>\n",
       "      <td>Oil Equipment, Services &amp; Distribution</td>\n",
       "    </tr>\n",
       "    <tr>\n",
       "      <th>2</th>\n",
       "      <td>580</td>\n",
       "      <td>Alternative Energy</td>\n",
       "    </tr>\n",
       "    <tr>\n",
       "      <th>3</th>\n",
       "      <td>1350</td>\n",
       "      <td>Chemicals</td>\n",
       "    </tr>\n",
       "    <tr>\n",
       "      <th>4</th>\n",
       "      <td>1730</td>\n",
       "      <td>Forestry &amp; Paper</td>\n",
       "    </tr>\n",
       "  </tbody>\n",
       "</table>\n",
       "</div>"
      ],
      "text/plain": [
       "    ICB                                industry\n",
       "0   530                     Oil & Gas Producers\n",
       "1   570  Oil Equipment, Services & Distribution\n",
       "2   580                      Alternative Energy\n",
       "3  1350                               Chemicals\n",
       "4  1730                        Forestry & Paper"
      ]
     },
     "execution_count": 156,
     "metadata": {},
     "output_type": "execute_result"
    }
   ],
   "source": [
    "# reset index for future merge on ICB column in later table\n",
    "industry_in = industry.reset_index()\n",
    "industry_in.head()"
   ]
  },
  {
   "cell_type": "code",
   "execution_count": 157,
   "metadata": {},
   "outputs": [],
   "source": [
    "# save to clean data Industry table:\n",
    "industry.to_csv(\"../00_data/00_clean_datasets/industry_pk.csv\") "
   ]
  },
  {
   "cell_type": "markdown",
   "metadata": {},
   "source": [
    "## 1. Innovation analysis"
   ]
  },
  {
   "cell_type": "markdown",
   "metadata": {},
   "source": [
    "##### Patents by country"
   ]
  },
  {
   "cell_type": "code",
   "execution_count": 253,
   "metadata": {},
   "outputs": [],
   "source": [
    "# open file\n",
    "patents_by_industry = pd.read_csv(\"../00_data/01_raw/patent_data/patents_by_country_and_technology.csv\")"
   ]
  },
  {
   "cell_type": "code",
   "execution_count": 254,
   "metadata": {},
   "outputs": [
    {
     "data": {
      "text/html": [
       "<div>\n",
       "<style scoped>\n",
       "    .dataframe tbody tr th:only-of-type {\n",
       "        vertical-align: middle;\n",
       "    }\n",
       "\n",
       "    .dataframe tbody tr th {\n",
       "        vertical-align: top;\n",
       "    }\n",
       "\n",
       "    .dataframe thead th {\n",
       "        text-align: right;\n",
       "    }\n",
       "</style>\n",
       "<table border=\"1\" class=\"dataframe\">\n",
       "  <thead>\n",
       "    <tr style=\"text-align: right;\">\n",
       "      <th></th>\n",
       "      <th>Origin</th>\n",
       "      <th>Origin (Code)</th>\n",
       "      <th>Field of technology</th>\n",
       "      <th>1980</th>\n",
       "      <th>1981</th>\n",
       "      <th>1982</th>\n",
       "      <th>1983</th>\n",
       "      <th>1984</th>\n",
       "      <th>1985</th>\n",
       "      <th>1986</th>\n",
       "      <th>...</th>\n",
       "      <th>2008</th>\n",
       "      <th>2009</th>\n",
       "      <th>2010</th>\n",
       "      <th>2011</th>\n",
       "      <th>2012</th>\n",
       "      <th>2013</th>\n",
       "      <th>2014</th>\n",
       "      <th>2015</th>\n",
       "      <th>2016</th>\n",
       "      <th>2017</th>\n",
       "    </tr>\n",
       "  </thead>\n",
       "  <tbody>\n",
       "    <tr>\n",
       "      <th>0</th>\n",
       "      <td>Afghanistan</td>\n",
       "      <td>AF</td>\n",
       "      <td>Unknown</td>\n",
       "      <td>NaN</td>\n",
       "      <td>NaN</td>\n",
       "      <td>NaN</td>\n",
       "      <td>NaN</td>\n",
       "      <td>NaN</td>\n",
       "      <td>NaN</td>\n",
       "      <td>NaN</td>\n",
       "      <td>...</td>\n",
       "      <td>NaN</td>\n",
       "      <td>NaN</td>\n",
       "      <td>NaN</td>\n",
       "      <td>NaN</td>\n",
       "      <td>NaN</td>\n",
       "      <td>NaN</td>\n",
       "      <td>NaN</td>\n",
       "      <td>NaN</td>\n",
       "      <td>NaN</td>\n",
       "      <td>1.0</td>\n",
       "    </tr>\n",
       "    <tr>\n",
       "      <th>1</th>\n",
       "      <td>Afghanistan</td>\n",
       "      <td>AF</td>\n",
       "      <td>1 - Electrical machinery, apparatus, energy</td>\n",
       "      <td>NaN</td>\n",
       "      <td>NaN</td>\n",
       "      <td>NaN</td>\n",
       "      <td>NaN</td>\n",
       "      <td>NaN</td>\n",
       "      <td>NaN</td>\n",
       "      <td>NaN</td>\n",
       "      <td>...</td>\n",
       "      <td>NaN</td>\n",
       "      <td>NaN</td>\n",
       "      <td>NaN</td>\n",
       "      <td>NaN</td>\n",
       "      <td>NaN</td>\n",
       "      <td>1.0</td>\n",
       "      <td>1.0</td>\n",
       "      <td>NaN</td>\n",
       "      <td>NaN</td>\n",
       "      <td>NaN</td>\n",
       "    </tr>\n",
       "    <tr>\n",
       "      <th>2</th>\n",
       "      <td>Afghanistan</td>\n",
       "      <td>AF</td>\n",
       "      <td>2 - Audio-visual technology</td>\n",
       "      <td>NaN</td>\n",
       "      <td>NaN</td>\n",
       "      <td>NaN</td>\n",
       "      <td>NaN</td>\n",
       "      <td>NaN</td>\n",
       "      <td>NaN</td>\n",
       "      <td>NaN</td>\n",
       "      <td>...</td>\n",
       "      <td>1.0</td>\n",
       "      <td>NaN</td>\n",
       "      <td>NaN</td>\n",
       "      <td>NaN</td>\n",
       "      <td>NaN</td>\n",
       "      <td>NaN</td>\n",
       "      <td>NaN</td>\n",
       "      <td>NaN</td>\n",
       "      <td>NaN</td>\n",
       "      <td>NaN</td>\n",
       "    </tr>\n",
       "    <tr>\n",
       "      <th>3</th>\n",
       "      <td>Afghanistan</td>\n",
       "      <td>AF</td>\n",
       "      <td>5 - Basic communication processes</td>\n",
       "      <td>NaN</td>\n",
       "      <td>NaN</td>\n",
       "      <td>NaN</td>\n",
       "      <td>NaN</td>\n",
       "      <td>NaN</td>\n",
       "      <td>NaN</td>\n",
       "      <td>NaN</td>\n",
       "      <td>...</td>\n",
       "      <td>NaN</td>\n",
       "      <td>NaN</td>\n",
       "      <td>NaN</td>\n",
       "      <td>NaN</td>\n",
       "      <td>NaN</td>\n",
       "      <td>NaN</td>\n",
       "      <td>NaN</td>\n",
       "      <td>1.0</td>\n",
       "      <td>NaN</td>\n",
       "      <td>NaN</td>\n",
       "    </tr>\n",
       "    <tr>\n",
       "      <th>4</th>\n",
       "      <td>Afghanistan</td>\n",
       "      <td>AF</td>\n",
       "      <td>6 - Computer technology</td>\n",
       "      <td>NaN</td>\n",
       "      <td>NaN</td>\n",
       "      <td>NaN</td>\n",
       "      <td>NaN</td>\n",
       "      <td>NaN</td>\n",
       "      <td>NaN</td>\n",
       "      <td>NaN</td>\n",
       "      <td>...</td>\n",
       "      <td>1.0</td>\n",
       "      <td>NaN</td>\n",
       "      <td>1.0</td>\n",
       "      <td>2.0</td>\n",
       "      <td>2.0</td>\n",
       "      <td>1.0</td>\n",
       "      <td>5.0</td>\n",
       "      <td>6.0</td>\n",
       "      <td>5.0</td>\n",
       "      <td>5.0</td>\n",
       "    </tr>\n",
       "  </tbody>\n",
       "</table>\n",
       "<p>5 rows × 41 columns</p>\n",
       "</div>"
      ],
      "text/plain": [
       "        Origin Origin (Code)                          Field of technology  \\\n",
       "0  Afghanistan            AF                                      Unknown   \n",
       "1  Afghanistan            AF  1 - Electrical machinery, apparatus, energy   \n",
       "2  Afghanistan            AF                  2 - Audio-visual technology   \n",
       "3  Afghanistan            AF            5 - Basic communication processes   \n",
       "4  Afghanistan            AF                      6 - Computer technology   \n",
       "\n",
       "   1980  1981  1982  1983  1984  1985  1986  ...  2008  2009  2010  2011  \\\n",
       "0   NaN   NaN   NaN   NaN   NaN   NaN   NaN  ...   NaN   NaN   NaN   NaN   \n",
       "1   NaN   NaN   NaN   NaN   NaN   NaN   NaN  ...   NaN   NaN   NaN   NaN   \n",
       "2   NaN   NaN   NaN   NaN   NaN   NaN   NaN  ...   1.0   NaN   NaN   NaN   \n",
       "3   NaN   NaN   NaN   NaN   NaN   NaN   NaN  ...   NaN   NaN   NaN   NaN   \n",
       "4   NaN   NaN   NaN   NaN   NaN   NaN   NaN  ...   1.0   NaN   1.0   2.0   \n",
       "\n",
       "   2012  2013  2014  2015  2016  2017  \n",
       "0   NaN   NaN   NaN   NaN   NaN   1.0  \n",
       "1   NaN   1.0   1.0   NaN   NaN   NaN  \n",
       "2   NaN   NaN   NaN   NaN   NaN   NaN  \n",
       "3   NaN   NaN   NaN   1.0   NaN   NaN  \n",
       "4   2.0   1.0   5.0   6.0   5.0   5.0  \n",
       "\n",
       "[5 rows x 41 columns]"
      ]
     },
     "execution_count": 254,
     "metadata": {},
     "output_type": "execute_result"
    }
   ],
   "source": [
    "# read\n",
    "patents_by_industry.head()"
   ]
  },
  {
   "cell_type": "code",
   "execution_count": 255,
   "metadata": {},
   "outputs": [],
   "source": [
    "# fill nans with 0 to complete table, the rest of the table will be left like this to use in further analysis\n",
    "patents_by_industry = patents_by_industry.fillna(0)"
   ]
  },
  {
   "cell_type": "code",
   "execution_count": 256,
   "metadata": {},
   "outputs": [],
   "source": [
    "# change names of columns for consistency \n",
    "patents_by_industry = patents_by_industry.rename(columns = {\"Origin\":\"country name\", \"Origin (Code)\":\"country\", \"Field of technology\":\"industry\"})"
   ]
  },
  {
   "cell_type": "markdown",
   "metadata": {},
   "source": [
    "I need to change the country codes to ISO 3 for consistency.\n",
    "\n",
    "Steps:"
   ]
  },
  {
   "cell_type": "code",
   "execution_count": 257,
   "metadata": {},
   "outputs": [],
   "source": [
    "# change country indexing to 3 letter naming for consistency:\n",
    "# merge in inofrmation\n",
    "patents_by_industry= patents_by_industry.merge(country_2c, how=\"left\", on=\"country name\")"
   ]
  },
  {
   "cell_type": "code",
   "execution_count": 260,
   "metadata": {},
   "outputs": [],
   "source": [
    "# drop all not needed cols \n",
    "patents_by_industry.drop([\"country\", \"country code2\"], axis=1, inplace=True)"
   ]
  },
  {
   "cell_type": "code",
   "execution_count": 267,
   "metadata": {},
   "outputs": [],
   "source": [
    "# change back order of columns:\n",
    "patents_by_industry = patents_by_industry[['country name', 'country code', 'industry', '1980', '1981', '1982', '1983', '1984', '1985', '1986', '1987', '1988', '1989', '1990', '1991', '1992', '1993', '1994', '1995', '1996', '1997', '1998', '1999', '2000', '2001', '2002', '2003', '2004', '2005', '2006', '2007', '2008', '2009', '2010', '2011', '2012', '2013', '2014', '2015', '2016', '2017']]"
   ]
  },
  {
   "cell_type": "code",
   "execution_count": 268,
   "metadata": {},
   "outputs": [
    {
     "data": {
      "text/plain": [
       "35 - Civil engineering                         161\n",
       "33 - Furniture, games                          159\n",
       "29 - Other special machines                    156\n",
       "32 - Transport                                 156\n",
       "27 - Engines, pumps, turbines                  154\n",
       "1 - Electrical machinery, apparatus, energy    153\n",
       "16 - Pharmaceuticals                           152\n",
       "19 - Basic materials chemistry                 151\n",
       "13 - Medical technology                        149\n",
       "23 - Chemical engineering                      149\n",
       "25 - Handling                                  144\n",
       "18 - Food chemistry                            143\n",
       "34 - Other consumer goods                      143\n",
       "10 - Measurement                               143\n",
       "6 - Computer technology                        143\n",
       "Unknown                                        141\n",
       "14 - Organic fine chemistry                    139\n",
       "26 - Machine tools                             139\n",
       "12 - Control                                   138\n",
       "30 - Thermal processes and apparatus           137\n",
       "31 - Mechanical elements                       135\n",
       "20 - Materials, metallurgy                     134\n",
       "3 - Telecommunications                         130\n",
       "15 - Biotechnology                             130\n",
       "24 - Environmental technology                  129\n",
       "2 - Audio-visual technology                    127\n",
       "28 - Textile and paper machines                124\n",
       "21 - Surface technology, coating               120\n",
       "4 - Digital communication                      115\n",
       "9 - Optics                                     115\n",
       "17 - Macromolecular chemistry, polymers        108\n",
       "7 - IT methods for management                  104\n",
       "5 - Basic communication processes              103\n",
       "8 - Semiconductors                             101\n",
       "11 - Analysis of biological materials           99\n",
       "22 - Micro-structural and nano-technology       71\n",
       "Name: industry, dtype: int64"
      ]
     },
     "execution_count": 268,
     "metadata": {},
     "output_type": "execute_result"
    }
   ],
   "source": [
    "# changing the industry label for consistency:\n",
    "patents_by_industry[\"industry\"].value_counts()"
   ]
  },
  {
   "cell_type": "markdown",
   "metadata": {},
   "source": [
    "The industry naming not consistent with current naming defined in the Primary Key table. However, the categories are too different for it to be directly translatable. \n",
    "\n",
    "For the moment we are going to leave it like this, in case I face problems with this in the analysis, I will retrace my cleaning steps. "
   ]
  },
  {
   "cell_type": "code",
   "execution_count": 269,
   "metadata": {},
   "outputs": [],
   "source": [
    "# save initial table to .csv or a table containing country patents per industry\n",
    "patents_by_industry.to_csv(\"../00_data/00_clean_datasets/Q1/patents_by_industry.csv\") "
   ]
  },
  {
   "cell_type": "code",
   "execution_count": 274,
   "metadata": {},
   "outputs": [
    {
     "data": {
      "text/html": [
       "<div>\n",
       "<style scoped>\n",
       "    .dataframe tbody tr th:only-of-type {\n",
       "        vertical-align: middle;\n",
       "    }\n",
       "\n",
       "    .dataframe tbody tr th {\n",
       "        vertical-align: top;\n",
       "    }\n",
       "\n",
       "    .dataframe thead th {\n",
       "        text-align: right;\n",
       "    }\n",
       "</style>\n",
       "<table border=\"1\" class=\"dataframe\">\n",
       "  <thead>\n",
       "    <tr style=\"text-align: right;\">\n",
       "      <th></th>\n",
       "      <th>1980</th>\n",
       "      <th>1981</th>\n",
       "      <th>1982</th>\n",
       "      <th>1983</th>\n",
       "      <th>1984</th>\n",
       "      <th>1985</th>\n",
       "      <th>1986</th>\n",
       "      <th>1987</th>\n",
       "      <th>1988</th>\n",
       "      <th>1989</th>\n",
       "      <th>...</th>\n",
       "      <th>2008</th>\n",
       "      <th>2009</th>\n",
       "      <th>2010</th>\n",
       "      <th>2011</th>\n",
       "      <th>2012</th>\n",
       "      <th>2013</th>\n",
       "      <th>2014</th>\n",
       "      <th>2015</th>\n",
       "      <th>2016</th>\n",
       "      <th>2017</th>\n",
       "    </tr>\n",
       "    <tr>\n",
       "      <th>country code</th>\n",
       "      <th></th>\n",
       "      <th></th>\n",
       "      <th></th>\n",
       "      <th></th>\n",
       "      <th></th>\n",
       "      <th></th>\n",
       "      <th></th>\n",
       "      <th></th>\n",
       "      <th></th>\n",
       "      <th></th>\n",
       "      <th></th>\n",
       "      <th></th>\n",
       "      <th></th>\n",
       "      <th></th>\n",
       "      <th></th>\n",
       "      <th></th>\n",
       "      <th></th>\n",
       "      <th></th>\n",
       "      <th></th>\n",
       "      <th></th>\n",
       "      <th></th>\n",
       "    </tr>\n",
       "  </thead>\n",
       "  <tbody>\n",
       "    <tr>\n",
       "      <th>ABW</th>\n",
       "      <td>0.0</td>\n",
       "      <td>0.0</td>\n",
       "      <td>0.0</td>\n",
       "      <td>0.0</td>\n",
       "      <td>0.0</td>\n",
       "      <td>0.0</td>\n",
       "      <td>0.0</td>\n",
       "      <td>0.0</td>\n",
       "      <td>0.0</td>\n",
       "      <td>0.0</td>\n",
       "      <td>...</td>\n",
       "      <td>3.0</td>\n",
       "      <td>2.0</td>\n",
       "      <td>4.0</td>\n",
       "      <td>2.0</td>\n",
       "      <td>3.0</td>\n",
       "      <td>7.0</td>\n",
       "      <td>0.0</td>\n",
       "      <td>2.0</td>\n",
       "      <td>5.0</td>\n",
       "      <td>0.0</td>\n",
       "    </tr>\n",
       "    <tr>\n",
       "      <th>AFG</th>\n",
       "      <td>0.0</td>\n",
       "      <td>0.0</td>\n",
       "      <td>1.0</td>\n",
       "      <td>2.0</td>\n",
       "      <td>3.0</td>\n",
       "      <td>0.0</td>\n",
       "      <td>1.0</td>\n",
       "      <td>2.0</td>\n",
       "      <td>1.0</td>\n",
       "      <td>7.0</td>\n",
       "      <td>...</td>\n",
       "      <td>73.0</td>\n",
       "      <td>37.0</td>\n",
       "      <td>29.0</td>\n",
       "      <td>17.0</td>\n",
       "      <td>22.0</td>\n",
       "      <td>49.0</td>\n",
       "      <td>54.0</td>\n",
       "      <td>84.0</td>\n",
       "      <td>79.0</td>\n",
       "      <td>100.0</td>\n",
       "    </tr>\n",
       "    <tr>\n",
       "      <th>AGO</th>\n",
       "      <td>0.0</td>\n",
       "      <td>0.0</td>\n",
       "      <td>0.0</td>\n",
       "      <td>0.0</td>\n",
       "      <td>0.0</td>\n",
       "      <td>0.0</td>\n",
       "      <td>0.0</td>\n",
       "      <td>0.0</td>\n",
       "      <td>0.0</td>\n",
       "      <td>0.0</td>\n",
       "      <td>...</td>\n",
       "      <td>0.0</td>\n",
       "      <td>0.0</td>\n",
       "      <td>0.0</td>\n",
       "      <td>0.0</td>\n",
       "      <td>3.0</td>\n",
       "      <td>0.0</td>\n",
       "      <td>2.0</td>\n",
       "      <td>0.0</td>\n",
       "      <td>0.0</td>\n",
       "      <td>0.0</td>\n",
       "    </tr>\n",
       "    <tr>\n",
       "      <th>ALB</th>\n",
       "      <td>6.0</td>\n",
       "      <td>0.0</td>\n",
       "      <td>0.0</td>\n",
       "      <td>0.0</td>\n",
       "      <td>0.0</td>\n",
       "      <td>0.0</td>\n",
       "      <td>1.0</td>\n",
       "      <td>3.0</td>\n",
       "      <td>13.0</td>\n",
       "      <td>0.0</td>\n",
       "      <td>...</td>\n",
       "      <td>0.0</td>\n",
       "      <td>0.0</td>\n",
       "      <td>0.0</td>\n",
       "      <td>0.0</td>\n",
       "      <td>0.0</td>\n",
       "      <td>4.0</td>\n",
       "      <td>0.0</td>\n",
       "      <td>0.0</td>\n",
       "      <td>1.0</td>\n",
       "      <td>1.0</td>\n",
       "    </tr>\n",
       "    <tr>\n",
       "      <th>AND</th>\n",
       "      <td>1.0</td>\n",
       "      <td>2.0</td>\n",
       "      <td>2.0</td>\n",
       "      <td>1.0</td>\n",
       "      <td>2.0</td>\n",
       "      <td>1.0</td>\n",
       "      <td>3.0</td>\n",
       "      <td>4.0</td>\n",
       "      <td>1.0</td>\n",
       "      <td>3.0</td>\n",
       "      <td>...</td>\n",
       "      <td>7.0</td>\n",
       "      <td>15.0</td>\n",
       "      <td>14.0</td>\n",
       "      <td>3.0</td>\n",
       "      <td>15.0</td>\n",
       "      <td>6.0</td>\n",
       "      <td>18.0</td>\n",
       "      <td>6.0</td>\n",
       "      <td>12.0</td>\n",
       "      <td>5.0</td>\n",
       "    </tr>\n",
       "  </tbody>\n",
       "</table>\n",
       "<p>5 rows × 38 columns</p>\n",
       "</div>"
      ],
      "text/plain": [
       "              1980  1981  1982  1983  1984  1985  1986  1987  1988  1989  ...  \\\n",
       "country code                                                              ...   \n",
       "ABW            0.0   0.0   0.0   0.0   0.0   0.0   0.0   0.0   0.0   0.0  ...   \n",
       "AFG            0.0   0.0   1.0   2.0   3.0   0.0   1.0   2.0   1.0   7.0  ...   \n",
       "AGO            0.0   0.0   0.0   0.0   0.0   0.0   0.0   0.0   0.0   0.0  ...   \n",
       "ALB            6.0   0.0   0.0   0.0   0.0   0.0   1.0   3.0  13.0   0.0  ...   \n",
       "AND            1.0   2.0   2.0   1.0   2.0   1.0   3.0   4.0   1.0   3.0  ...   \n",
       "\n",
       "              2008  2009  2010  2011  2012  2013  2014  2015  2016   2017  \n",
       "country code                                                               \n",
       "ABW            3.0   2.0   4.0   2.0   3.0   7.0   0.0   2.0   5.0    0.0  \n",
       "AFG           73.0  37.0  29.0  17.0  22.0  49.0  54.0  84.0  79.0  100.0  \n",
       "AGO            0.0   0.0   0.0   0.0   3.0   0.0   2.0   0.0   0.0    0.0  \n",
       "ALB            0.0   0.0   0.0   0.0   0.0   4.0   0.0   0.0   1.0    1.0  \n",
       "AND            7.0  15.0  14.0   3.0  15.0   6.0  18.0   6.0  12.0    5.0  \n",
       "\n",
       "[5 rows x 38 columns]"
      ]
     },
     "execution_count": 274,
     "metadata": {},
     "output_type": "execute_result"
    }
   ],
   "source": [
    "# grouping by country for sum of patents per country:\n",
    "patents_by_country = patents_by_industry.groupby(\"country code\").sum()\n",
    "patents_by_country.head()"
   ]
  },
  {
   "cell_type": "code",
   "execution_count": 275,
   "metadata": {},
   "outputs": [],
   "source": [
    "# save data for future use\n",
    "patents_by_country.to_csv(\"../00_data/00_clean_datasets/patents_by_country.csv\") "
   ]
  },
  {
   "cell_type": "markdown",
   "metadata": {},
   "source": [
    "#####  Innovation rate of countries"
   ]
  },
  {
   "cell_type": "code",
   "execution_count": 276,
   "metadata": {},
   "outputs": [],
   "source": [
    "innovation_markers = pd.read_csv(\"../00_data/01_raw/patent_data/world_bank_innovation_rate.csv\")"
   ]
  },
  {
   "cell_type": "code",
   "execution_count": 277,
   "metadata": {},
   "outputs": [
    {
     "data": {
      "text/html": [
       "<div>\n",
       "<style scoped>\n",
       "    .dataframe tbody tr th:only-of-type {\n",
       "        vertical-align: middle;\n",
       "    }\n",
       "\n",
       "    .dataframe tbody tr th {\n",
       "        vertical-align: top;\n",
       "    }\n",
       "\n",
       "    .dataframe thead th {\n",
       "        text-align: right;\n",
       "    }\n",
       "</style>\n",
       "<table border=\"1\" class=\"dataframe\">\n",
       "  <thead>\n",
       "    <tr style=\"text-align: right;\">\n",
       "      <th></th>\n",
       "      <th>Country Name</th>\n",
       "      <th>Country Code</th>\n",
       "      <th>Indicator Name</th>\n",
       "      <th>Indicator Code</th>\n",
       "      <th>1960</th>\n",
       "      <th>1961</th>\n",
       "      <th>1962</th>\n",
       "      <th>1963</th>\n",
       "      <th>1964</th>\n",
       "      <th>1965</th>\n",
       "      <th>...</th>\n",
       "      <th>2009</th>\n",
       "      <th>2010</th>\n",
       "      <th>2011</th>\n",
       "      <th>2012</th>\n",
       "      <th>2013</th>\n",
       "      <th>2014</th>\n",
       "      <th>2015</th>\n",
       "      <th>2016</th>\n",
       "      <th>2017</th>\n",
       "      <th>2018</th>\n",
       "    </tr>\n",
       "  </thead>\n",
       "  <tbody>\n",
       "    <tr>\n",
       "      <th>0</th>\n",
       "      <td>Aruba</td>\n",
       "      <td>ABW</td>\n",
       "      <td>High-technology exports (% of manufactured exp...</td>\n",
       "      <td>TX.VAL.TECH.MF.ZS</td>\n",
       "      <td>NaN</td>\n",
       "      <td>NaN</td>\n",
       "      <td>NaN</td>\n",
       "      <td>NaN</td>\n",
       "      <td>NaN</td>\n",
       "      <td>NaN</td>\n",
       "      <td>...</td>\n",
       "      <td>3.213858</td>\n",
       "      <td>3.292313</td>\n",
       "      <td>4.052655e+00</td>\n",
       "      <td>1.024010e+01</td>\n",
       "      <td>4.915729e+00</td>\n",
       "      <td>5.449211e+00</td>\n",
       "      <td>4.694768e+00</td>\n",
       "      <td>3.758736e+00</td>\n",
       "      <td>5.380172e+00</td>\n",
       "      <td>NaN</td>\n",
       "    </tr>\n",
       "    <tr>\n",
       "      <th>1</th>\n",
       "      <td>Aruba</td>\n",
       "      <td>ABW</td>\n",
       "      <td>High-technology exports (current US$)</td>\n",
       "      <td>TX.VAL.TECH.CD</td>\n",
       "      <td>NaN</td>\n",
       "      <td>NaN</td>\n",
       "      <td>NaN</td>\n",
       "      <td>NaN</td>\n",
       "      <td>NaN</td>\n",
       "      <td>NaN</td>\n",
       "      <td>...</td>\n",
       "      <td>866862.000000</td>\n",
       "      <td>560538.000000</td>\n",
       "      <td>1.073498e+06</td>\n",
       "      <td>3.325655e+06</td>\n",
       "      <td>1.627152e+06</td>\n",
       "      <td>1.663353e+06</td>\n",
       "      <td>1.194859e+06</td>\n",
       "      <td>1.158612e+06</td>\n",
       "      <td>1.654810e+06</td>\n",
       "      <td>NaN</td>\n",
       "    </tr>\n",
       "    <tr>\n",
       "      <th>2</th>\n",
       "      <td>Aruba</td>\n",
       "      <td>ABW</td>\n",
       "      <td>Technicians in R&amp;D (per million people)</td>\n",
       "      <td>SP.POP.TECH.RD.P6</td>\n",
       "      <td>NaN</td>\n",
       "      <td>NaN</td>\n",
       "      <td>NaN</td>\n",
       "      <td>NaN</td>\n",
       "      <td>NaN</td>\n",
       "      <td>NaN</td>\n",
       "      <td>...</td>\n",
       "      <td>NaN</td>\n",
       "      <td>NaN</td>\n",
       "      <td>NaN</td>\n",
       "      <td>NaN</td>\n",
       "      <td>NaN</td>\n",
       "      <td>NaN</td>\n",
       "      <td>NaN</td>\n",
       "      <td>NaN</td>\n",
       "      <td>NaN</td>\n",
       "      <td>NaN</td>\n",
       "    </tr>\n",
       "    <tr>\n",
       "      <th>3</th>\n",
       "      <td>Aruba</td>\n",
       "      <td>ABW</td>\n",
       "      <td>Researchers in R&amp;D (per million people)</td>\n",
       "      <td>SP.POP.SCIE.RD.P6</td>\n",
       "      <td>NaN</td>\n",
       "      <td>NaN</td>\n",
       "      <td>NaN</td>\n",
       "      <td>NaN</td>\n",
       "      <td>NaN</td>\n",
       "      <td>NaN</td>\n",
       "      <td>...</td>\n",
       "      <td>NaN</td>\n",
       "      <td>NaN</td>\n",
       "      <td>NaN</td>\n",
       "      <td>NaN</td>\n",
       "      <td>NaN</td>\n",
       "      <td>NaN</td>\n",
       "      <td>NaN</td>\n",
       "      <td>NaN</td>\n",
       "      <td>NaN</td>\n",
       "      <td>NaN</td>\n",
       "    </tr>\n",
       "    <tr>\n",
       "      <th>4</th>\n",
       "      <td>Aruba</td>\n",
       "      <td>ABW</td>\n",
       "      <td>Trademark applications, total</td>\n",
       "      <td>IP.TMK.TOTL</td>\n",
       "      <td>NaN</td>\n",
       "      <td>NaN</td>\n",
       "      <td>NaN</td>\n",
       "      <td>NaN</td>\n",
       "      <td>NaN</td>\n",
       "      <td>NaN</td>\n",
       "      <td>...</td>\n",
       "      <td>NaN</td>\n",
       "      <td>NaN</td>\n",
       "      <td>NaN</td>\n",
       "      <td>NaN</td>\n",
       "      <td>NaN</td>\n",
       "      <td>NaN</td>\n",
       "      <td>NaN</td>\n",
       "      <td>NaN</td>\n",
       "      <td>NaN</td>\n",
       "      <td>NaN</td>\n",
       "    </tr>\n",
       "  </tbody>\n",
       "</table>\n",
       "<p>5 rows × 63 columns</p>\n",
       "</div>"
      ],
      "text/plain": [
       "  Country Name Country Code  \\\n",
       "0        Aruba          ABW   \n",
       "1        Aruba          ABW   \n",
       "2        Aruba          ABW   \n",
       "3        Aruba          ABW   \n",
       "4        Aruba          ABW   \n",
       "\n",
       "                                      Indicator Name     Indicator Code  1960  \\\n",
       "0  High-technology exports (% of manufactured exp...  TX.VAL.TECH.MF.ZS   NaN   \n",
       "1              High-technology exports (current US$)     TX.VAL.TECH.CD   NaN   \n",
       "2            Technicians in R&D (per million people)  SP.POP.TECH.RD.P6   NaN   \n",
       "3            Researchers in R&D (per million people)  SP.POP.SCIE.RD.P6   NaN   \n",
       "4                      Trademark applications, total        IP.TMK.TOTL   NaN   \n",
       "\n",
       "   1961  1962  1963  1964  1965  ...           2009           2010  \\\n",
       "0   NaN   NaN   NaN   NaN   NaN  ...       3.213858       3.292313   \n",
       "1   NaN   NaN   NaN   NaN   NaN  ...  866862.000000  560538.000000   \n",
       "2   NaN   NaN   NaN   NaN   NaN  ...            NaN            NaN   \n",
       "3   NaN   NaN   NaN   NaN   NaN  ...            NaN            NaN   \n",
       "4   NaN   NaN   NaN   NaN   NaN  ...            NaN            NaN   \n",
       "\n",
       "           2011          2012          2013          2014          2015  \\\n",
       "0  4.052655e+00  1.024010e+01  4.915729e+00  5.449211e+00  4.694768e+00   \n",
       "1  1.073498e+06  3.325655e+06  1.627152e+06  1.663353e+06  1.194859e+06   \n",
       "2           NaN           NaN           NaN           NaN           NaN   \n",
       "3           NaN           NaN           NaN           NaN           NaN   \n",
       "4           NaN           NaN           NaN           NaN           NaN   \n",
       "\n",
       "           2016          2017  2018  \n",
       "0  3.758736e+00  5.380172e+00   NaN  \n",
       "1  1.158612e+06  1.654810e+06   NaN  \n",
       "2           NaN           NaN   NaN  \n",
       "3           NaN           NaN   NaN  \n",
       "4           NaN           NaN   NaN  \n",
       "\n",
       "[5 rows x 63 columns]"
      ]
     },
     "execution_count": 277,
     "metadata": {},
     "output_type": "execute_result"
    }
   ],
   "source": [
    "innovation_markers.head()"
   ]
  },
  {
   "cell_type": "code",
   "execution_count": 39,
   "metadata": {},
   "outputs": [],
   "source": [
    "# fill nans with 0 to complete table\n",
    "innovation_markers = innovation_markers.fillna(0)"
   ]
  },
  {
   "cell_type": "code",
   "execution_count": 40,
   "metadata": {},
   "outputs": [],
   "source": [
    "# remove unnecesary colum: indicator code\n",
    "innovation_markers.drop(\"Indicator Code\", axis=1, inplace=True)"
   ]
  },
  {
   "cell_type": "code",
   "execution_count": 41,
   "metadata": {},
   "outputs": [],
   "source": [
    "# change names of columns for consistency \n",
    "innovation_markers = innovation_markers.rename(columns = {\"Country Name\":\"country name\", \"Country Code\":\"country\", \"Indicator Name\":\"indicator\"})"
   ]
  },
  {
   "cell_type": "code",
   "execution_count": 80,
   "metadata": {},
   "outputs": [],
   "source": [
    "# save to .csv\n",
    "innovation_markers.to_csv(\"../00_data/00_clean_datasets/Q1/innovation_markers.csv\") "
   ]
  },
  {
   "cell_type": "markdown",
   "metadata": {},
   "source": [
    "For the moment, this concludes the cleaning of this set, if later I realise that I need more grouping, I will change the table again. "
   ]
  },
  {
   "cell_type": "markdown",
   "metadata": {},
   "source": [
    "### Patents per company\n",
    "Database documentation can be found in pdf format in the data folder"
   ]
  },
  {
   "cell_type": "markdown",
   "metadata": {},
   "source": [
    "##### Company lst"
   ]
  },
  {
   "cell_type": "code",
   "execution_count": 284,
   "metadata": {},
   "outputs": [],
   "source": [
    "# open file\n",
    "company_lst = pd.read_csv(\"../00_data/01_raw/patent_data/2017-COR&DIP_Company_list.txt\", sep=\"|\")"
   ]
  },
  {
   "cell_type": "code",
   "execution_count": 285,
   "metadata": {},
   "outputs": [
    {
     "data": {
      "text/html": [
       "<div>\n",
       "<style scoped>\n",
       "    .dataframe tbody tr th:only-of-type {\n",
       "        vertical-align: middle;\n",
       "    }\n",
       "\n",
       "    .dataframe tbody tr th {\n",
       "        vertical-align: top;\n",
       "    }\n",
       "\n",
       "    .dataframe thead th {\n",
       "        text-align: right;\n",
       "    }\n",
       "</style>\n",
       "<table border=\"1\" class=\"dataframe\">\n",
       "  <thead>\n",
       "    <tr style=\"text-align: right;\">\n",
       "      <th></th>\n",
       "      <th>Company_id</th>\n",
       "      <th>Company_name</th>\n",
       "      <th>Ctry_Code</th>\n",
       "      <th>Worldrank</th>\n",
       "      <th>ICB3</th>\n",
       "      <th>NACE2</th>\n",
       "      <th>ISIC4_STAN38</th>\n",
       "    </tr>\n",
       "  </thead>\n",
       "  <tbody>\n",
       "    <tr>\n",
       "      <th>0</th>\n",
       "      <td>1</td>\n",
       "      <td>ZUMTOBEL</td>\n",
       "      <td>AT</td>\n",
       "      <td>851</td>\n",
       "      <td>2730</td>\n",
       "      <td>2740</td>\n",
       "      <td>27</td>\n",
       "    </tr>\n",
       "    <tr>\n",
       "      <th>1</th>\n",
       "      <td>2</td>\n",
       "      <td>ANDRITZ</td>\n",
       "      <td>AT</td>\n",
       "      <td>892</td>\n",
       "      <td>2750</td>\n",
       "      <td>2895</td>\n",
       "      <td>28</td>\n",
       "    </tr>\n",
       "    <tr>\n",
       "      <th>2</th>\n",
       "      <td>3</td>\n",
       "      <td>AUSTRIAMICROSYSTEMS</td>\n",
       "      <td>AT</td>\n",
       "      <td>1023</td>\n",
       "      <td>9570</td>\n",
       "      <td>2611</td>\n",
       "      <td>26</td>\n",
       "    </tr>\n",
       "    <tr>\n",
       "      <th>3</th>\n",
       "      <td>4</td>\n",
       "      <td>AUSTRIA TECHNOLOGIE &amp; SYSTEMTECHNIK</td>\n",
       "      <td>AT</td>\n",
       "      <td>1173</td>\n",
       "      <td>2730</td>\n",
       "      <td>2612</td>\n",
       "      <td>26</td>\n",
       "    </tr>\n",
       "    <tr>\n",
       "      <th>4</th>\n",
       "      <td>5</td>\n",
       "      <td>VOESTALPINE</td>\n",
       "      <td>AT</td>\n",
       "      <td>596</td>\n",
       "      <td>1750</td>\n",
       "      <td>2452</td>\n",
       "      <td>24-25</td>\n",
       "    </tr>\n",
       "  </tbody>\n",
       "</table>\n",
       "</div>"
      ],
      "text/plain": [
       "   Company_id                         Company_name Ctry_Code  Worldrank  ICB3  \\\n",
       "0           1                             ZUMTOBEL        AT        851  2730   \n",
       "1           2                              ANDRITZ        AT        892  2750   \n",
       "2           3                  AUSTRIAMICROSYSTEMS        AT       1023  9570   \n",
       "3           4  AUSTRIA TECHNOLOGIE & SYSTEMTECHNIK        AT       1173  2730   \n",
       "4           5                          VOESTALPINE        AT        596  1750   \n",
       "\n",
       "   NACE2 ISIC4_STAN38  \n",
       "0   2740           27  \n",
       "1   2895           28  \n",
       "2   2611           26  \n",
       "3   2612           26  \n",
       "4   2452        24-25  "
      ]
     },
     "execution_count": 285,
     "metadata": {},
     "output_type": "execute_result"
    }
   ],
   "source": [
    "# read\n",
    "company_lst.head()"
   ]
  },
  {
   "cell_type": "markdown",
   "metadata": {},
   "source": [
    "The variables we need are: \n",
    "\n",
    "- Company_id*: Unique company identifier (from 1 to 2000)*\n",
    "- Company_name: Company name, as listed in the 2015 Scoreboard\n",
    "- Ctry_code: ISO2 country code\n",
    "- ICB-3D: Industry sector, as listed in the 2015 Scoreboard\n"
   ]
  },
  {
   "cell_type": "code",
   "execution_count": 286,
   "metadata": {},
   "outputs": [],
   "source": [
    "# drop unecessary columns\n",
    "company_lst.drop([\"NACE2\", \"ISIC4_STAN38\", \"Worldrank\"], axis=1, inplace=True)"
   ]
  },
  {
   "cell_type": "code",
   "execution_count": 287,
   "metadata": {},
   "outputs": [
    {
     "data": {
      "text/html": [
       "<div>\n",
       "<style scoped>\n",
       "    .dataframe tbody tr th:only-of-type {\n",
       "        vertical-align: middle;\n",
       "    }\n",
       "\n",
       "    .dataframe tbody tr th {\n",
       "        vertical-align: top;\n",
       "    }\n",
       "\n",
       "    .dataframe thead th {\n",
       "        text-align: right;\n",
       "    }\n",
       "</style>\n",
       "<table border=\"1\" class=\"dataframe\">\n",
       "  <thead>\n",
       "    <tr style=\"text-align: right;\">\n",
       "      <th></th>\n",
       "      <th>Company_id</th>\n",
       "      <th>company</th>\n",
       "      <th>country code2</th>\n",
       "      <th>ICB</th>\n",
       "    </tr>\n",
       "  </thead>\n",
       "  <tbody>\n",
       "    <tr>\n",
       "      <th>0</th>\n",
       "      <td>1</td>\n",
       "      <td>ZUMTOBEL</td>\n",
       "      <td>AT</td>\n",
       "      <td>2730</td>\n",
       "    </tr>\n",
       "    <tr>\n",
       "      <th>1</th>\n",
       "      <td>2</td>\n",
       "      <td>ANDRITZ</td>\n",
       "      <td>AT</td>\n",
       "      <td>2750</td>\n",
       "    </tr>\n",
       "    <tr>\n",
       "      <th>2</th>\n",
       "      <td>3</td>\n",
       "      <td>AUSTRIAMICROSYSTEMS</td>\n",
       "      <td>AT</td>\n",
       "      <td>9570</td>\n",
       "    </tr>\n",
       "    <tr>\n",
       "      <th>3</th>\n",
       "      <td>4</td>\n",
       "      <td>AUSTRIA TECHNOLOGIE &amp; SYSTEMTECHNIK</td>\n",
       "      <td>AT</td>\n",
       "      <td>2730</td>\n",
       "    </tr>\n",
       "    <tr>\n",
       "      <th>4</th>\n",
       "      <td>5</td>\n",
       "      <td>VOESTALPINE</td>\n",
       "      <td>AT</td>\n",
       "      <td>1750</td>\n",
       "    </tr>\n",
       "  </tbody>\n",
       "</table>\n",
       "</div>"
      ],
      "text/plain": [
       "   Company_id                              company country code2   ICB\n",
       "0           1                             ZUMTOBEL            AT  2730\n",
       "1           2                              ANDRITZ            AT  2750\n",
       "2           3                  AUSTRIAMICROSYSTEMS            AT  9570\n",
       "3           4  AUSTRIA TECHNOLOGIE & SYSTEMTECHNIK            AT  2730\n",
       "4           5                          VOESTALPINE            AT  1750"
      ]
     },
     "execution_count": 287,
     "metadata": {},
     "output_type": "execute_result"
    }
   ],
   "source": [
    "# make column names more understandable \n",
    "company_lst = company_lst.rename(columns = {\"Company_name\":\"company\", \"Ctry_Code\":\"country code2\", \"ICB3\":\"ICB\"})\n",
    "company_lst.head()"
   ]
  },
  {
   "cell_type": "code",
   "execution_count": 288,
   "metadata": {},
   "outputs": [],
   "source": [
    "# needs a change of country naming!!!\n",
    "\n",
    "# change country indexing to 3 letter naming for consistency:\n",
    "# merge in inofrmation\n",
    "company_lst= company_lst.merge(country_2c, how=\"left\", on=\"country code2\")"
   ]
  },
  {
   "cell_type": "code",
   "execution_count": 290,
   "metadata": {},
   "outputs": [],
   "source": [
    "# drop all not needed cols \n",
    "company_lst.drop([\"country name\", \"country code2\"], axis=1, inplace=True)"
   ]
  },
  {
   "cell_type": "code",
   "execution_count": 291,
   "metadata": {},
   "outputs": [
    {
     "data": {
      "text/html": [
       "<div>\n",
       "<style scoped>\n",
       "    .dataframe tbody tr th:only-of-type {\n",
       "        vertical-align: middle;\n",
       "    }\n",
       "\n",
       "    .dataframe tbody tr th {\n",
       "        vertical-align: top;\n",
       "    }\n",
       "\n",
       "    .dataframe thead th {\n",
       "        text-align: right;\n",
       "    }\n",
       "</style>\n",
       "<table border=\"1\" class=\"dataframe\">\n",
       "  <thead>\n",
       "    <tr style=\"text-align: right;\">\n",
       "      <th></th>\n",
       "      <th>Company_id</th>\n",
       "      <th>company</th>\n",
       "      <th>ICB</th>\n",
       "      <th>country code</th>\n",
       "    </tr>\n",
       "  </thead>\n",
       "  <tbody>\n",
       "    <tr>\n",
       "      <th>0</th>\n",
       "      <td>1</td>\n",
       "      <td>ZUMTOBEL</td>\n",
       "      <td>2730</td>\n",
       "      <td>AUT</td>\n",
       "    </tr>\n",
       "    <tr>\n",
       "      <th>1</th>\n",
       "      <td>2</td>\n",
       "      <td>ANDRITZ</td>\n",
       "      <td>2750</td>\n",
       "      <td>AUT</td>\n",
       "    </tr>\n",
       "    <tr>\n",
       "      <th>2</th>\n",
       "      <td>3</td>\n",
       "      <td>AUSTRIAMICROSYSTEMS</td>\n",
       "      <td>9570</td>\n",
       "      <td>AUT</td>\n",
       "    </tr>\n",
       "    <tr>\n",
       "      <th>3</th>\n",
       "      <td>4</td>\n",
       "      <td>AUSTRIA TECHNOLOGIE &amp; SYSTEMTECHNIK</td>\n",
       "      <td>2730</td>\n",
       "      <td>AUT</td>\n",
       "    </tr>\n",
       "    <tr>\n",
       "      <th>4</th>\n",
       "      <td>5</td>\n",
       "      <td>VOESTALPINE</td>\n",
       "      <td>1750</td>\n",
       "      <td>AUT</td>\n",
       "    </tr>\n",
       "  </tbody>\n",
       "</table>\n",
       "</div>"
      ],
      "text/plain": [
       "   Company_id                              company   ICB country code\n",
       "0           1                             ZUMTOBEL  2730          AUT\n",
       "1           2                              ANDRITZ  2750          AUT\n",
       "2           3                  AUSTRIAMICROSYSTEMS  9570          AUT\n",
       "3           4  AUSTRIA TECHNOLOGIE & SYSTEMTECHNIK  2730          AUT\n",
       "4           5                          VOESTALPINE  1750          AUT"
      ]
     },
     "execution_count": 291,
     "metadata": {},
     "output_type": "execute_result"
    }
   ],
   "source": [
    "company_lst.head()"
   ]
  },
  {
   "cell_type": "code",
   "execution_count": 292,
   "metadata": {},
   "outputs": [
    {
     "data": {
      "text/html": [
       "<div>\n",
       "<style scoped>\n",
       "    .dataframe tbody tr th:only-of-type {\n",
       "        vertical-align: middle;\n",
       "    }\n",
       "\n",
       "    .dataframe tbody tr th {\n",
       "        vertical-align: top;\n",
       "    }\n",
       "\n",
       "    .dataframe thead th {\n",
       "        text-align: right;\n",
       "    }\n",
       "</style>\n",
       "<table border=\"1\" class=\"dataframe\">\n",
       "  <thead>\n",
       "    <tr style=\"text-align: right;\">\n",
       "      <th></th>\n",
       "      <th>company</th>\n",
       "      <th>country code</th>\n",
       "      <th>industry</th>\n",
       "    </tr>\n",
       "    <tr>\n",
       "      <th>Company_id</th>\n",
       "      <th></th>\n",
       "      <th></th>\n",
       "      <th></th>\n",
       "    </tr>\n",
       "  </thead>\n",
       "  <tbody>\n",
       "    <tr>\n",
       "      <th>1</th>\n",
       "      <td>ZUMTOBEL</td>\n",
       "      <td>AUT</td>\n",
       "      <td>Electronic &amp; Electrical Equipment</td>\n",
       "    </tr>\n",
       "    <tr>\n",
       "      <th>2</th>\n",
       "      <td>ANDRITZ</td>\n",
       "      <td>AUT</td>\n",
       "      <td>Industrial Engineering</td>\n",
       "    </tr>\n",
       "    <tr>\n",
       "      <th>3</th>\n",
       "      <td>AUSTRIAMICROSYSTEMS</td>\n",
       "      <td>AUT</td>\n",
       "      <td>Technology Hardware &amp; Equipment</td>\n",
       "    </tr>\n",
       "    <tr>\n",
       "      <th>4</th>\n",
       "      <td>AUSTRIA TECHNOLOGIE &amp; SYSTEMTECHNIK</td>\n",
       "      <td>AUT</td>\n",
       "      <td>Electronic &amp; Electrical Equipment</td>\n",
       "    </tr>\n",
       "    <tr>\n",
       "      <th>5</th>\n",
       "      <td>VOESTALPINE</td>\n",
       "      <td>AUT</td>\n",
       "      <td>Industrial Metals &amp; Mining</td>\n",
       "    </tr>\n",
       "  </tbody>\n",
       "</table>\n",
       "</div>"
      ],
      "text/plain": [
       "                                        company country code  \\\n",
       "Company_id                                                     \n",
       "1                                      ZUMTOBEL          AUT   \n",
       "2                                       ANDRITZ          AUT   \n",
       "3                           AUSTRIAMICROSYSTEMS          AUT   \n",
       "4           AUSTRIA TECHNOLOGIE & SYSTEMTECHNIK          AUT   \n",
       "5                                   VOESTALPINE          AUT   \n",
       "\n",
       "                                     industry  \n",
       "Company_id                                     \n",
       "1           Electronic & Electrical Equipment  \n",
       "2                      Industrial Engineering  \n",
       "3             Technology Hardware & Equipment  \n",
       "4           Electronic & Electrical Equipment  \n",
       "5                  Industrial Metals & Mining  "
      ]
     },
     "execution_count": 292,
     "metadata": {},
     "output_type": "execute_result"
    }
   ],
   "source": [
    "# merge ICB industry name of index\n",
    "company_lst= company_lst.merge(industry_in, how=\"left\", on=\"ICB\").set_index(\"Company_id\")\n",
    "\n",
    "# drop ICB index column\n",
    "company_lst.drop(\"ICB\", axis=1, inplace=True)\n",
    "\n",
    "# view changes\n",
    "company_lst.head()"
   ]
  },
  {
   "cell_type": "markdown",
   "metadata": {},
   "source": [
    "As we will later on merge in the count of patents per company, we do not yet save to csv."
   ]
  },
  {
   "cell_type": "markdown",
   "metadata": {},
   "source": [
    "##### Company patents"
   ]
  },
  {
   "cell_type": "code",
   "execution_count": 58,
   "metadata": {},
   "outputs": [
    {
     "name": "stderr",
     "output_type": "stream",
     "text": [
      "C:\\Users\\fabia hnt\\AppData\\Roaming\\Python\\Python37\\site-packages\\IPython\\core\\interactiveshell.py:3057: DtypeWarning: Columns (3) have mixed types. Specify dtype option on import or set low_memory=False.\n",
      "  interactivity=interactivity, compiler=compiler, result=result)\n",
      "C:\\Users\\fabia hnt\\AppData\\Roaming\\Python\\Python37\\site-packages\\numpy\\lib\\arraysetops.py:569: FutureWarning: elementwise comparison failed; returning scalar instead, but in the future will perform elementwise comparison\n",
      "  mask |= (ar1 == a)\n"
     ]
    }
   ],
   "source": [
    "company_patents = pd.read_csv(\"../00_data/01_raw/patent_data/2017-COR&DIP_Patent_Portfolio.txt\", sep=\"|\", index_col=0)"
   ]
  },
  {
   "cell_type": "code",
   "execution_count": 59,
   "metadata": {},
   "outputs": [
    {
     "data": {
      "text/html": [
       "<div>\n",
       "<style scoped>\n",
       "    .dataframe tbody tr th:only-of-type {\n",
       "        vertical-align: middle;\n",
       "    }\n",
       "\n",
       "    .dataframe tbody tr th {\n",
       "        vertical-align: top;\n",
       "    }\n",
       "\n",
       "    .dataframe thead th {\n",
       "        text-align: right;\n",
       "    }\n",
       "</style>\n",
       "<table border=\"1\" class=\"dataframe\">\n",
       "  <thead>\n",
       "    <tr style=\"text-align: right;\">\n",
       "      <th></th>\n",
       "      <th>Patent_appln_id</th>\n",
       "      <th>Publn_auth</th>\n",
       "      <th>Patent_publn_nr</th>\n",
       "      <th>Patent_filing_date</th>\n",
       "      <th>Inpadoc_family_id</th>\n",
       "      <th>Family_filing_date</th>\n",
       "      <th>IP5_2_offices</th>\n",
       "    </tr>\n",
       "    <tr>\n",
       "      <th>Company_id</th>\n",
       "      <th></th>\n",
       "      <th></th>\n",
       "      <th></th>\n",
       "      <th></th>\n",
       "      <th></th>\n",
       "      <th></th>\n",
       "      <th></th>\n",
       "    </tr>\n",
       "  </thead>\n",
       "  <tbody>\n",
       "    <tr>\n",
       "      <th>1</th>\n",
       "      <td>380646999</td>\n",
       "      <td>EP</td>\n",
       "      <td>2805106</td>\n",
       "      <td>2013-01-14</td>\n",
       "      <td>9215041</td>\n",
       "      <td>2012-01-16</td>\n",
       "      <td>0</td>\n",
       "    </tr>\n",
       "    <tr>\n",
       "      <th>1</th>\n",
       "      <td>380718081</td>\n",
       "      <td>EP</td>\n",
       "      <td>2807419</td>\n",
       "      <td>2013-01-22</td>\n",
       "      <td>9222565</td>\n",
       "      <td>2012-01-26</td>\n",
       "      <td>0</td>\n",
       "    </tr>\n",
       "    <tr>\n",
       "      <th>1</th>\n",
       "      <td>380385005</td>\n",
       "      <td>EP</td>\n",
       "      <td>2620923</td>\n",
       "      <td>2013-01-22</td>\n",
       "      <td>9222808</td>\n",
       "      <td>2012-01-27</td>\n",
       "      <td>0</td>\n",
       "    </tr>\n",
       "    <tr>\n",
       "      <th>1</th>\n",
       "      <td>380385015</td>\n",
       "      <td>EP</td>\n",
       "      <td>2620936</td>\n",
       "      <td>2013-01-22</td>\n",
       "      <td>9222811</td>\n",
       "      <td>2012-01-24</td>\n",
       "      <td>0</td>\n",
       "    </tr>\n",
       "    <tr>\n",
       "      <th>1</th>\n",
       "      <td>380889366</td>\n",
       "      <td>EP</td>\n",
       "      <td>2810535</td>\n",
       "      <td>2013-02-01</td>\n",
       "      <td>9232760</td>\n",
       "      <td>2012-02-03</td>\n",
       "      <td>1</td>\n",
       "    </tr>\n",
       "  </tbody>\n",
       "</table>\n",
       "</div>"
      ],
      "text/plain": [
       "            Patent_appln_id Publn_auth Patent_publn_nr Patent_filing_date  \\\n",
       "Company_id                                                                  \n",
       "1                 380646999         EP         2805106         2013-01-14   \n",
       "1                 380718081         EP         2807419         2013-01-22   \n",
       "1                 380385005         EP         2620923         2013-01-22   \n",
       "1                 380385015         EP         2620936         2013-01-22   \n",
       "1                 380889366         EP         2810535         2013-02-01   \n",
       "\n",
       "            Inpadoc_family_id Family_filing_date  IP5_2_offices  \n",
       "Company_id                                                       \n",
       "1                     9215041         2012-01-16              0  \n",
       "1                     9222565         2012-01-26              0  \n",
       "1                     9222808         2012-01-27              0  \n",
       "1                     9222811         2012-01-24              0  \n",
       "1                     9232760         2012-02-03              1  "
      ]
     },
     "execution_count": 59,
     "metadata": {},
     "output_type": "execute_result"
    }
   ],
   "source": [
    "company_patents.head()"
   ]
  },
  {
   "cell_type": "code",
   "execution_count": 60,
   "metadata": {},
   "outputs": [],
   "source": [
    "# remove unecessary columns\n",
    "lst = [\"Patent_publn_nr\", \"Family_filing_date\", \"IP5_2_offices\", \"Inpadoc_family_id\"]\n",
    "company_patents.drop(lst, axis=1, inplace=True)"
   ]
  },
  {
   "cell_type": "markdown",
   "metadata": {},
   "source": [
    "The variables we need are: \n",
    "- Company_id*: Unique company identifier*\n",
    "- Patent_appln_id: Patent application identifier (Appln_id from PATSTAT, Autumn 2016)\n",
    "    - This will be used as a count \n",
    "- Publn_auth: IP5 Offices (EP, JP, KR, US, CN)\n",
    "- Patent_filing_date: Application date\n",
    "    - The date in not really necessary for the main question, I will hower leave it in the table in case we want to use it in the future"
   ]
  },
  {
   "cell_type": "code",
   "execution_count": 61,
   "metadata": {},
   "outputs": [],
   "source": [
    "# make column names more understandable\n",
    "company_patents = company_patents.rename(columns = {\"Publn_auth\":\"office\", \"Patent_filing_date\":\"date\"})"
   ]
  },
  {
   "cell_type": "code",
   "execution_count": 62,
   "metadata": {},
   "outputs": [
    {
     "data": {
      "text/html": [
       "<div>\n",
       "<style scoped>\n",
       "    .dataframe tbody tr th:only-of-type {\n",
       "        vertical-align: middle;\n",
       "    }\n",
       "\n",
       "    .dataframe tbody tr th {\n",
       "        vertical-align: top;\n",
       "    }\n",
       "\n",
       "    .dataframe thead th {\n",
       "        text-align: right;\n",
       "    }\n",
       "</style>\n",
       "<table border=\"1\" class=\"dataframe\">\n",
       "  <thead>\n",
       "    <tr style=\"text-align: right;\">\n",
       "      <th></th>\n",
       "      <th>Patent_appln_id</th>\n",
       "      <th>office</th>\n",
       "      <th>date</th>\n",
       "    </tr>\n",
       "    <tr>\n",
       "      <th>Company_id</th>\n",
       "      <th></th>\n",
       "      <th></th>\n",
       "      <th></th>\n",
       "    </tr>\n",
       "  </thead>\n",
       "  <tbody>\n",
       "    <tr>\n",
       "      <th>1</th>\n",
       "      <td>380646999</td>\n",
       "      <td>EP</td>\n",
       "      <td>2013-01-14</td>\n",
       "    </tr>\n",
       "    <tr>\n",
       "      <th>1</th>\n",
       "      <td>380718081</td>\n",
       "      <td>EP</td>\n",
       "      <td>2013-01-22</td>\n",
       "    </tr>\n",
       "    <tr>\n",
       "      <th>1</th>\n",
       "      <td>380385005</td>\n",
       "      <td>EP</td>\n",
       "      <td>2013-01-22</td>\n",
       "    </tr>\n",
       "    <tr>\n",
       "      <th>1</th>\n",
       "      <td>380385015</td>\n",
       "      <td>EP</td>\n",
       "      <td>2013-01-22</td>\n",
       "    </tr>\n",
       "    <tr>\n",
       "      <th>1</th>\n",
       "      <td>380889366</td>\n",
       "      <td>EP</td>\n",
       "      <td>2013-02-01</td>\n",
       "    </tr>\n",
       "  </tbody>\n",
       "</table>\n",
       "</div>"
      ],
      "text/plain": [
       "            Patent_appln_id office        date\n",
       "Company_id                                    \n",
       "1                 380646999     EP  2013-01-14\n",
       "1                 380718081     EP  2013-01-22\n",
       "1                 380385005     EP  2013-01-22\n",
       "1                 380385015     EP  2013-01-22\n",
       "1                 380889366     EP  2013-02-01"
      ]
     },
     "execution_count": 62,
     "metadata": {},
     "output_type": "execute_result"
    }
   ],
   "source": [
    "company_patents.head()"
   ]
  },
  {
   "cell_type": "code",
   "execution_count": 63,
   "metadata": {},
   "outputs": [
    {
     "data": {
      "text/plain": [
       "Patent_appln_id     int64\n",
       "office             object\n",
       "date               object\n",
       "dtype: object"
      ]
     },
     "execution_count": 63,
     "metadata": {},
     "output_type": "execute_result"
    }
   ],
   "source": [
    "#checkign attributes\n",
    "company_patents.dtypes"
   ]
  },
  {
   "cell_type": "code",
   "execution_count": 64,
   "metadata": {},
   "outputs": [],
   "source": [
    "# changing date into datetime \n",
    "company_patents[\"date\"] =  pd.to_datetime(company_patents[\"date\"], format=\"%Y/%m/%d\")"
   ]
  },
  {
   "cell_type": "code",
   "execution_count": 66,
   "metadata": {},
   "outputs": [],
   "source": [
    "# save as cleaned file for later use\n",
    "company_patents.to_csv(\"../00_data/00_clean_datasets/company_patents.csv\") "
   ]
  },
  {
   "cell_type": "markdown",
   "metadata": {},
   "source": [
    "To create a count, only one column with information is in needed, we will use the unique attribute Pattent applicaiton number.  The count is going to be mergerd into the company_lst table to have all data in one set"
   ]
  },
  {
   "cell_type": "code",
   "execution_count": 67,
   "metadata": {},
   "outputs": [],
   "source": [
    "# count function\n",
    "counts = company_patents.groupby([\"Company_id\", \"office\"]).count()[[\"Patent_appln_id\"]]\n",
    "counts = counts.rename(columns = {\"Patent_appln_id\":\"count\"})"
   ]
  },
  {
   "cell_type": "markdown",
   "metadata": {},
   "source": [
    "This will be merged into the company list dataframe to obtain one table with all the inofmration for further manipulaiton of the set. "
   ]
  },
  {
   "cell_type": "code",
   "execution_count": 68,
   "metadata": {},
   "outputs": [
    {
     "data": {
      "text/html": [
       "<div>\n",
       "<style scoped>\n",
       "    .dataframe tbody tr th:only-of-type {\n",
       "        vertical-align: middle;\n",
       "    }\n",
       "\n",
       "    .dataframe tbody tr th {\n",
       "        vertical-align: top;\n",
       "    }\n",
       "\n",
       "    .dataframe thead th {\n",
       "        text-align: right;\n",
       "    }\n",
       "</style>\n",
       "<table border=\"1\" class=\"dataframe\">\n",
       "  <thead>\n",
       "    <tr style=\"text-align: right;\">\n",
       "      <th></th>\n",
       "      <th></th>\n",
       "      <th>count</th>\n",
       "    </tr>\n",
       "    <tr>\n",
       "      <th>Company_id</th>\n",
       "      <th>office</th>\n",
       "      <th></th>\n",
       "    </tr>\n",
       "  </thead>\n",
       "  <tbody>\n",
       "    <tr>\n",
       "      <th rowspan=\"4\" valign=\"top\">1</th>\n",
       "      <th>CN</th>\n",
       "      <td>84</td>\n",
       "    </tr>\n",
       "    <tr>\n",
       "      <th>EP</th>\n",
       "      <td>263</td>\n",
       "    </tr>\n",
       "    <tr>\n",
       "      <th>JP</th>\n",
       "      <td>1</td>\n",
       "    </tr>\n",
       "    <tr>\n",
       "      <th>US</th>\n",
       "      <td>86</td>\n",
       "    </tr>\n",
       "    <tr>\n",
       "      <th>2</th>\n",
       "      <th>CN</th>\n",
       "      <td>74</td>\n",
       "    </tr>\n",
       "  </tbody>\n",
       "</table>\n",
       "</div>"
      ],
      "text/plain": [
       "                   count\n",
       "Company_id office       \n",
       "1          CN         84\n",
       "           EP        263\n",
       "           JP          1\n",
       "           US         86\n",
       "2          CN         74"
      ]
     },
     "execution_count": 68,
     "metadata": {},
     "output_type": "execute_result"
    }
   ],
   "source": [
    "counts.head()"
   ]
  },
  {
   "cell_type": "markdown",
   "metadata": {},
   "source": [
    "##### Merging into one dataset for next analysis"
   ]
  },
  {
   "cell_type": "code",
   "execution_count": 293,
   "metadata": {},
   "outputs": [],
   "source": [
    "# merge the count list of patents per office onto the company list. \n",
    "company_lst = company_lst.merge(counts, how=\"inner\", left_index=True, right_index=True)"
   ]
  },
  {
   "cell_type": "code",
   "execution_count": 294,
   "metadata": {},
   "outputs": [
    {
     "data": {
      "text/html": [
       "<div>\n",
       "<style scoped>\n",
       "    .dataframe tbody tr th:only-of-type {\n",
       "        vertical-align: middle;\n",
       "    }\n",
       "\n",
       "    .dataframe tbody tr th {\n",
       "        vertical-align: top;\n",
       "    }\n",
       "\n",
       "    .dataframe thead th {\n",
       "        text-align: right;\n",
       "    }\n",
       "</style>\n",
       "<table border=\"1\" class=\"dataframe\">\n",
       "  <thead>\n",
       "    <tr style=\"text-align: right;\">\n",
       "      <th></th>\n",
       "      <th></th>\n",
       "      <th>company</th>\n",
       "      <th>country code</th>\n",
       "      <th>industry</th>\n",
       "      <th>count</th>\n",
       "    </tr>\n",
       "    <tr>\n",
       "      <th>Company_id</th>\n",
       "      <th>office</th>\n",
       "      <th></th>\n",
       "      <th></th>\n",
       "      <th></th>\n",
       "      <th></th>\n",
       "    </tr>\n",
       "  </thead>\n",
       "  <tbody>\n",
       "    <tr>\n",
       "      <th rowspan=\"4\" valign=\"top\">1</th>\n",
       "      <th>CN</th>\n",
       "      <td>ZUMTOBEL</td>\n",
       "      <td>AUT</td>\n",
       "      <td>Electronic &amp; Electrical Equipment</td>\n",
       "      <td>84</td>\n",
       "    </tr>\n",
       "    <tr>\n",
       "      <th>EP</th>\n",
       "      <td>ZUMTOBEL</td>\n",
       "      <td>AUT</td>\n",
       "      <td>Electronic &amp; Electrical Equipment</td>\n",
       "      <td>263</td>\n",
       "    </tr>\n",
       "    <tr>\n",
       "      <th>JP</th>\n",
       "      <td>ZUMTOBEL</td>\n",
       "      <td>AUT</td>\n",
       "      <td>Electronic &amp; Electrical Equipment</td>\n",
       "      <td>1</td>\n",
       "    </tr>\n",
       "    <tr>\n",
       "      <th>US</th>\n",
       "      <td>ZUMTOBEL</td>\n",
       "      <td>AUT</td>\n",
       "      <td>Electronic &amp; Electrical Equipment</td>\n",
       "      <td>86</td>\n",
       "    </tr>\n",
       "    <tr>\n",
       "      <th>2</th>\n",
       "      <th>CN</th>\n",
       "      <td>ANDRITZ</td>\n",
       "      <td>AUT</td>\n",
       "      <td>Industrial Engineering</td>\n",
       "      <td>74</td>\n",
       "    </tr>\n",
       "  </tbody>\n",
       "</table>\n",
       "</div>"
      ],
      "text/plain": [
       "                    company country code                           industry  \\\n",
       "Company_id office                                                             \n",
       "1          CN      ZUMTOBEL          AUT  Electronic & Electrical Equipment   \n",
       "           EP      ZUMTOBEL          AUT  Electronic & Electrical Equipment   \n",
       "           JP      ZUMTOBEL          AUT  Electronic & Electrical Equipment   \n",
       "           US      ZUMTOBEL          AUT  Electronic & Electrical Equipment   \n",
       "2          CN       ANDRITZ          AUT             Industrial Engineering   \n",
       "\n",
       "                   count  \n",
       "Company_id office         \n",
       "1          CN         84  \n",
       "           EP        263  \n",
       "           JP          1  \n",
       "           US         86  \n",
       "2          CN         74  "
      ]
     },
     "execution_count": 294,
     "metadata": {},
     "output_type": "execute_result"
    }
   ],
   "source": [
    "company_lst.head()"
   ]
  },
  {
   "cell_type": "code",
   "execution_count": 295,
   "metadata": {},
   "outputs": [],
   "source": [
    "# saving cleaned table for later\n",
    "company_lst.to_csv(\"../00_data/00_clean_datasets/Q1/company_lst.csv\") "
   ]
  },
  {
   "cell_type": "markdown",
   "metadata": {},
   "source": [
    "## 2. Company analysis - market research"
   ]
  },
  {
   "cell_type": "markdown",
   "metadata": {},
   "source": [
    "##### Company finance"
   ]
  },
  {
   "cell_type": "code",
   "execution_count": 83,
   "metadata": {},
   "outputs": [],
   "source": [
    "# open file\n",
    "company_info = pd.read_csv(\"../00_data/01_raw/patent_data/2017-COR&DIP_Company_financial.txt\", sep=\"|\", index_col=0)"
   ]
  },
  {
   "cell_type": "code",
   "execution_count": 84,
   "metadata": {},
   "outputs": [
    {
     "data": {
      "text/html": [
       "<div>\n",
       "<style scoped>\n",
       "    .dataframe tbody tr th:only-of-type {\n",
       "        vertical-align: middle;\n",
       "    }\n",
       "\n",
       "    .dataframe tbody tr th {\n",
       "        vertical-align: top;\n",
       "    }\n",
       "\n",
       "    .dataframe thead th {\n",
       "        text-align: right;\n",
       "    }\n",
       "</style>\n",
       "<table border=\"1\" class=\"dataframe\">\n",
       "  <thead>\n",
       "    <tr style=\"text-align: right;\">\n",
       "      <th></th>\n",
       "      <th>Year</th>\n",
       "      <th>RD</th>\n",
       "      <th>NS</th>\n",
       "      <th>CAPEX</th>\n",
       "      <th>OP</th>\n",
       "      <th>EMP</th>\n",
       "    </tr>\n",
       "    <tr>\n",
       "      <th>Company_id</th>\n",
       "      <th></th>\n",
       "      <th></th>\n",
       "      <th></th>\n",
       "      <th></th>\n",
       "      <th></th>\n",
       "      <th></th>\n",
       "    </tr>\n",
       "  </thead>\n",
       "  <tbody>\n",
       "    <tr>\n",
       "      <th>1</th>\n",
       "      <td>2011</td>\n",
       "      <td>55.071</td>\n",
       "      <td>1280.312</td>\n",
       "      <td>57.159</td>\n",
       "      <td>34.591</td>\n",
       "      <td>7456.0</td>\n",
       "    </tr>\n",
       "    <tr>\n",
       "      <th>1</th>\n",
       "      <td>2012</td>\n",
       "      <td>66.926</td>\n",
       "      <td>1243.616</td>\n",
       "      <td>59.509</td>\n",
       "      <td>21.659</td>\n",
       "      <td>7162.0</td>\n",
       "    </tr>\n",
       "    <tr>\n",
       "      <th>1</th>\n",
       "      <td>2013</td>\n",
       "      <td>71.800</td>\n",
       "      <td>1246.831</td>\n",
       "      <td>65.553</td>\n",
       "      <td>12.144</td>\n",
       "      <td>7291.0</td>\n",
       "    </tr>\n",
       "    <tr>\n",
       "      <th>1</th>\n",
       "      <td>2014</td>\n",
       "      <td>89.739</td>\n",
       "      <td>1312.620</td>\n",
       "      <td>76.576</td>\n",
       "      <td>41.091</td>\n",
       "      <td>7234.0</td>\n",
       "    </tr>\n",
       "    <tr>\n",
       "      <th>2</th>\n",
       "      <td>2011</td>\n",
       "      <td>65.641</td>\n",
       "      <td>4595.993</td>\n",
       "      <td>76.974</td>\n",
       "      <td>263.445</td>\n",
       "      <td>16750.0</td>\n",
       "    </tr>\n",
       "  </tbody>\n",
       "</table>\n",
       "</div>"
      ],
      "text/plain": [
       "            Year      RD        NS   CAPEX       OP      EMP\n",
       "Company_id                                                  \n",
       "1           2011  55.071  1280.312  57.159   34.591   7456.0\n",
       "1           2012  66.926  1243.616  59.509   21.659   7162.0\n",
       "1           2013  71.800  1246.831  65.553   12.144   7291.0\n",
       "1           2014  89.739  1312.620  76.576   41.091   7234.0\n",
       "2           2011  65.641  4595.993  76.974  263.445  16750.0"
      ]
     },
     "execution_count": 84,
     "metadata": {},
     "output_type": "execute_result"
    }
   ],
   "source": [
    "# read\n",
    "company_info.head()"
   ]
  },
  {
   "cell_type": "markdown",
   "metadata": {},
   "source": [
    "Varibales: \n",
    "- Year: 2011-2014\n",
    "- RD: Research and Development investment (million €)\n",
    "- NS: Net sales (million €)\n",
    "- CAPEX: Capital expenditure (million €)\n",
    "- OP: Operating profits (million €)\n",
    "- EMP: Number of employees"
   ]
  },
  {
   "cell_type": "code",
   "execution_count": 85,
   "metadata": {},
   "outputs": [],
   "source": [
    "# changing the names of variables for better understanding \n",
    "company_info = company_info.rename(columns = {\"RD\":\"R&D_investemetn\", \"NS\":\"net_sales\", \"OP\":\"operating_profits\", \"EMP\":\"employees\"})"
   ]
  },
  {
   "cell_type": "code",
   "execution_count": 86,
   "metadata": {},
   "outputs": [],
   "source": [
    "# removing CAPEX as not really needed:\n",
    "company_info.drop(\"CAPEX\", axis=1, inplace=True)"
   ]
  },
  {
   "cell_type": "code",
   "execution_count": 87,
   "metadata": {},
   "outputs": [],
   "source": [
    "# saving cleaned table for later\n",
    "company_info.to_csv(\"../00_data/00_clean_datasets/Q2/company_info.csv\") coujt"
   ]
  },
  {
   "cell_type": "markdown",
   "metadata": {},
   "source": [
    "### BONUS: Organizations, financing and descriptions  (from 2015) "
   ]
  },
  {
   "cell_type": "code",
   "execution_count": 116,
   "metadata": {},
   "outputs": [],
   "source": [
    "organizations = pd.read_csv(\"../00_data/01_raw/crunchbase15/companies_15.csv\")"
   ]
  },
  {
   "cell_type": "code",
   "execution_count": 117,
   "metadata": {},
   "outputs": [
    {
     "data": {
      "text/html": [
       "<div>\n",
       "<style scoped>\n",
       "    .dataframe tbody tr th:only-of-type {\n",
       "        vertical-align: middle;\n",
       "    }\n",
       "\n",
       "    .dataframe tbody tr th {\n",
       "        vertical-align: top;\n",
       "    }\n",
       "\n",
       "    .dataframe thead th {\n",
       "        text-align: right;\n",
       "    }\n",
       "</style>\n",
       "<table border=\"1\" class=\"dataframe\">\n",
       "  <thead>\n",
       "    <tr style=\"text-align: right;\">\n",
       "      <th></th>\n",
       "      <th>name</th>\n",
       "      <th>category_list</th>\n",
       "      <th>status</th>\n",
       "      <th>country_code</th>\n",
       "      <th>city</th>\n",
       "      <th>founded_at</th>\n",
       "      <th>last_funding_at</th>\n",
       "    </tr>\n",
       "  </thead>\n",
       "  <tbody>\n",
       "    <tr>\n",
       "      <th>0</th>\n",
       "      <td>#fame</td>\n",
       "      <td>Media</td>\n",
       "      <td>operating</td>\n",
       "      <td>IND</td>\n",
       "      <td>Mumbai</td>\n",
       "      <td>NaN</td>\n",
       "      <td>05/01/2015</td>\n",
       "    </tr>\n",
       "    <tr>\n",
       "      <th>1</th>\n",
       "      <td>:Qounter</td>\n",
       "      <td>Application Platforms|Real Time|Social Network...</td>\n",
       "      <td>operating</td>\n",
       "      <td>USA</td>\n",
       "      <td>Delaware City</td>\n",
       "      <td>04/09/2014</td>\n",
       "      <td>14/10/2014</td>\n",
       "    </tr>\n",
       "    <tr>\n",
       "      <th>2</th>\n",
       "      <td>(THE) ONE of THEM,Inc.</td>\n",
       "      <td>Apps|Games|Mobile</td>\n",
       "      <td>operating</td>\n",
       "      <td>NaN</td>\n",
       "      <td>NaN</td>\n",
       "      <td>NaN</td>\n",
       "      <td>30/01/2014</td>\n",
       "    </tr>\n",
       "    <tr>\n",
       "      <th>3</th>\n",
       "      <td>0-6.com</td>\n",
       "      <td>Curated Web</td>\n",
       "      <td>operating</td>\n",
       "      <td>CHN</td>\n",
       "      <td>Beijing</td>\n",
       "      <td>01/01/2007</td>\n",
       "      <td>19/03/2008</td>\n",
       "    </tr>\n",
       "    <tr>\n",
       "      <th>4</th>\n",
       "      <td>004 Technologies</td>\n",
       "      <td>Software</td>\n",
       "      <td>operating</td>\n",
       "      <td>USA</td>\n",
       "      <td>Champaign</td>\n",
       "      <td>01/01/2010</td>\n",
       "      <td>24/07/2014</td>\n",
       "    </tr>\n",
       "  </tbody>\n",
       "</table>\n",
       "</div>"
      ],
      "text/plain": [
       "                     name                                      category_list  \\\n",
       "0                   #fame                                              Media   \n",
       "1                :Qounter  Application Platforms|Real Time|Social Network...   \n",
       "2  (THE) ONE of THEM,Inc.                                  Apps|Games|Mobile   \n",
       "3                 0-6.com                                        Curated Web   \n",
       "4        004 Technologies                                           Software   \n",
       "\n",
       "      status country_code           city  founded_at last_funding_at  \n",
       "0  operating          IND         Mumbai         NaN      05/01/2015  \n",
       "1  operating          USA  Delaware City  04/09/2014      14/10/2014  \n",
       "2  operating          NaN            NaN         NaN      30/01/2014  \n",
       "3  operating          CHN        Beijing  01/01/2007      19/03/2008  \n",
       "4  operating          USA      Champaign  01/01/2010      24/07/2014  "
      ]
     },
     "execution_count": 117,
     "metadata": {},
     "output_type": "execute_result"
    }
   ],
   "source": [
    "organizations.head()"
   ]
  },
  {
   "cell_type": "markdown",
   "metadata": {},
   "source": [
    "###### Checking for NaNs"
   ]
  },
  {
   "cell_type": "markdown",
   "metadata": {},
   "source": [
    "As I will be sotring by category and founding data, all NaNs in those fields need to be removed, no matter what fraction of the data I loose. \n",
    "(I need all attributes but location to be filled for the data to be of use)"
   ]
  },
  {
   "cell_type": "code",
   "execution_count": 118,
   "metadata": {},
   "outputs": [
    {
     "data": {
      "text/plain": [
       "name                0.001507\n",
       "category_list       4.743250\n",
       "status              0.000000\n",
       "country_code       10.483968\n",
       "city               12.096191\n",
       "founded_at         22.934245\n",
       "last_funding_at     0.000000\n",
       "dtype: float64"
      ]
     },
     "execution_count": 118,
     "metadata": {},
     "output_type": "execute_result"
    }
   ],
   "source": [
    "# checking for NaN\n",
    "organizations.isna().sum()/len(organizations)*100"
   ]
  },
  {
   "cell_type": "code",
   "execution_count": 119,
   "metadata": {},
   "outputs": [],
   "source": [
    "# we wil drop all NaNs but those in the location attribute\n",
    "# we will drop city as we do not need it, coutnry is enough\n",
    "\n",
    "organizations.drop(\"city\", axis=1, inplace=True)\n",
    "\n",
    "# create df for location to merge back in after drop nan\n",
    "location = organizations[[\"country_code\"]]\n",
    "\n",
    "# drop country form original\n",
    "organizations.drop(\"country_code\", axis=1, inplace=True)\n",
    "\n",
    "# drop nans \n",
    "organizations.dropna(inplace=True)\n",
    "\n",
    "# merge countries back in\n",
    "organizations = organizations.merge(location, how=\"left\", left_index=True, right_index=True)"
   ]
  },
  {
   "cell_type": "code",
   "execution_count": 120,
   "metadata": {},
   "outputs": [
    {
     "data": {
      "text/plain": [
       "name                  0\n",
       "category_list         0\n",
       "status                0\n",
       "founded_at            0\n",
       "last_funding_at       0\n",
       "country_code       3183\n",
       "dtype: int64"
      ]
     },
     "execution_count": 120,
     "metadata": {},
     "output_type": "execute_result"
    }
   ],
   "source": [
    "organizations.isna().sum()"
   ]
  },
  {
   "cell_type": "markdown",
   "metadata": {},
   "source": [
    "##### checking dataframe attributes and types"
   ]
  },
  {
   "cell_type": "code",
   "execution_count": 121,
   "metadata": {},
   "outputs": [
    {
     "name": "stdout",
     "output_type": "stream",
     "text": [
      "(49710, 6)\n"
     ]
    }
   ],
   "source": [
    "print(organizations.shape)"
   ]
  },
  {
   "cell_type": "code",
   "execution_count": 130,
   "metadata": {},
   "outputs": [
    {
     "data": {
      "text/html": [
       "<div>\n",
       "<style scoped>\n",
       "    .dataframe tbody tr th:only-of-type {\n",
       "        vertical-align: middle;\n",
       "    }\n",
       "\n",
       "    .dataframe tbody tr th {\n",
       "        vertical-align: top;\n",
       "    }\n",
       "\n",
       "    .dataframe thead th {\n",
       "        text-align: right;\n",
       "    }\n",
       "</style>\n",
       "<table border=\"1\" class=\"dataframe\">\n",
       "  <thead>\n",
       "    <tr style=\"text-align: right;\">\n",
       "      <th></th>\n",
       "      <th>name</th>\n",
       "      <th>category_list</th>\n",
       "      <th>status</th>\n",
       "      <th>founded_at</th>\n",
       "      <th>last_funding_at</th>\n",
       "      <th>country_code</th>\n",
       "    </tr>\n",
       "  </thead>\n",
       "  <tbody>\n",
       "    <tr>\n",
       "      <th>1</th>\n",
       "      <td>:Qounter</td>\n",
       "      <td>Application Platforms|Real Time|Social Network...</td>\n",
       "      <td>operating</td>\n",
       "      <td>04/09/2014</td>\n",
       "      <td>2014-10-14</td>\n",
       "      <td>USA</td>\n",
       "    </tr>\n",
       "    <tr>\n",
       "      <th>3</th>\n",
       "      <td>0-6.com</td>\n",
       "      <td>Curated Web</td>\n",
       "      <td>operating</td>\n",
       "      <td>01/01/2007</td>\n",
       "      <td>2008-03-19</td>\n",
       "      <td>CHN</td>\n",
       "    </tr>\n",
       "    <tr>\n",
       "      <th>4</th>\n",
       "      <td>004 Technologies</td>\n",
       "      <td>Software</td>\n",
       "      <td>operating</td>\n",
       "      <td>01/01/2010</td>\n",
       "      <td>2014-07-24</td>\n",
       "      <td>USA</td>\n",
       "    </tr>\n",
       "    <tr>\n",
       "      <th>6</th>\n",
       "      <td>Ondine Biomedical Inc.</td>\n",
       "      <td>Biotechnology</td>\n",
       "      <td>operating</td>\n",
       "      <td>01/01/1997</td>\n",
       "      <td>2009-12-21</td>\n",
       "      <td>CAN</td>\n",
       "    </tr>\n",
       "    <tr>\n",
       "      <th>7</th>\n",
       "      <td>H2O.ai</td>\n",
       "      <td>Analytics</td>\n",
       "      <td>operating</td>\n",
       "      <td>01/01/2011</td>\n",
       "      <td>2015-11-09</td>\n",
       "      <td>USA</td>\n",
       "    </tr>\n",
       "  </tbody>\n",
       "</table>\n",
       "</div>"
      ],
      "text/plain": [
       "                     name                                      category_list  \\\n",
       "1                :Qounter  Application Platforms|Real Time|Social Network...   \n",
       "3                 0-6.com                                        Curated Web   \n",
       "4        004 Technologies                                           Software   \n",
       "6  Ondine Biomedical Inc.                                      Biotechnology   \n",
       "7                  H2O.ai                                          Analytics   \n",
       "\n",
       "      status  founded_at last_funding_at country_code  \n",
       "1  operating  04/09/2014      2014-10-14          USA  \n",
       "3  operating  01/01/2007      2008-03-19          CHN  \n",
       "4  operating  01/01/2010      2014-07-24          USA  \n",
       "6  operating  01/01/1997      2009-12-21          CAN  \n",
       "7  operating  01/01/2011      2015-11-09          USA  "
      ]
     },
     "execution_count": 130,
     "metadata": {},
     "output_type": "execute_result"
    }
   ],
   "source": [
    "organizations.head()"
   ]
  },
  {
   "cell_type": "code",
   "execution_count": 123,
   "metadata": {},
   "outputs": [
    {
     "data": {
      "text/plain": [
       "Software                                                                               3137\n",
       "Biotechnology                                                                          2431\n",
       "E-Commerce                                                                              999\n",
       "Mobile                                                                                  883\n",
       "Curated Web                                                                             794\n",
       "Clean Technology                                                                        731\n",
       "Hardware + Software                                                                     699\n",
       "Enterprise Software                                                                     663\n",
       "Health Care                                                                             634\n",
       "Games                                                                                   625\n",
       "Advertising                                                                             557\n",
       "Health and Wellness                                                                     536\n",
       "Manufacturing                                                                           533\n",
       "Education                                                                               471\n",
       "Semiconductors                                                                          368\n",
       "Real Estate                                                                             366\n",
       "Consulting                                                                              331\n",
       "Finance                                                                                 325\n",
       "Security                                                                                308\n",
       "Social Media                                                                            301\n",
       "Hospitality                                                                             284\n",
       "Fashion                                                                                 259\n",
       "Web Hosting                                                                             259\n",
       "Analytics                                                                               252\n",
       "Medical                                                                                 218\n",
       "Travel                                                                                  185\n",
       "Internet                                                                                169\n",
       "Biotechnology|Health Diagnostics                                                        163\n",
       "Entertainment|Games                                                                     147\n",
       "Sports                                                                                  141\n",
       "                                                                                       ... \n",
       "B2B|Big Data|Enterprise Software|SaaS|Sales and Marketing                                 1\n",
       "Big Data Analytics|Procurement|SaaS                                                       1\n",
       "Babies|Consumers|Environmental Innovation|Green|Retail|Services                           1\n",
       "Fashion|Technology                                                                        1\n",
       "Cars|Marketplaces|Technology                                                              1\n",
       "Brand Marketing|Design|Fashion|Lifestyle|Shopping|Travel                                  1\n",
       "E-Commerce|Hardware + Software|iPhone|iPod Touch|Marketplaces|Mobile|Recycling            1\n",
       "Curated Web|Entertainment|Ticketing                                                       1\n",
       "Browser Extensions|Music|Search|Web Browsers                                              1\n",
       "Business Services|Consulting|Enterprise Software|Marketplaces                             1\n",
       "Analytics|B2B|Internet                                                                    1\n",
       "Career Management|Curated Web|Education|Human Resources|Private School|Recruiting         1\n",
       "Analytics|Big Data|Infrastructure|Risk Management                                         1\n",
       "Career Management|Entertainment|Games|Product Development Services|Television|Video       1\n",
       "Consumer Electronics|E-Commerce|Security                                                  1\n",
       "Real Estate|Sales and Marketing|Software|Technology                                       1\n",
       "Big Data|Big Data Analytics|Finance Technology|FinTech|Mobile|Text Analytics              1\n",
       "Innovation Engineering|Robotics|Universities                                              1\n",
       "Productivity Software|SaaS                                                                1\n",
       "Clean Energy|Software|Technology                                                          1\n",
       "Contact Management|Databases|Mobile|Synchronization                                       1\n",
       "Energy|Gas|Manufacturing|Oil                                                              1\n",
       "Design|E-Commerce|Fashion|Home & Garden|Interior Design                                   1\n",
       "Mobile|Music Services|Video                                                               1\n",
       "Big Data Analytics|Health Care|Software                                                   1\n",
       "Education|Internet|Marketplaces                                                           1\n",
       "Analytics|Big Data|Health Care                                                            1\n",
       "Cloud Computing|Outsourcing|SaaS|Software|Web Development                                 1\n",
       "Content|E-Commerce|Education|Social Media                                                 1\n",
       "Hospitality|Hotels|Lifestyle                                                              1\n",
       "Name: category_list, Length: 23385, dtype: int64"
      ]
     },
     "execution_count": 123,
     "metadata": {},
     "output_type": "execute_result"
    }
   ],
   "source": [
    "#cheking df attributes\n",
    "organizations[\"category_list\"].value_counts()"
   ]
  },
  {
   "cell_type": "markdown",
   "metadata": {},
   "source": [
    "We see that we have a large variety of industry attribute types. \n",
    "As I will be sorting by industry later, this does not concearn me, as I can selct the industry I want with a simple np.where funciton. "
   ]
  },
  {
   "cell_type": "code",
   "execution_count": 141,
   "metadata": {},
   "outputs": [
    {
     "data": {
      "text/plain": [
       "name                       object\n",
       "category_list              object\n",
       "status                     object\n",
       "founded_at         datetime64[ns]\n",
       "last_funding_at    datetime64[ns]\n",
       "country_code               object\n",
       "dtype: object"
      ]
     },
     "execution_count": 141,
     "metadata": {},
     "output_type": "execute_result"
    }
   ],
   "source": [
    "# checking for types for the time attributes\n",
    "organizations.dtypes"
   ]
  },
  {
   "cell_type": "code",
   "execution_count": 125,
   "metadata": {},
   "outputs": [],
   "source": [
    "# changing last_funding_at into datetime\n",
    "organizations[\"last_funding_at\"] = pd.to_datetime(organizations[\"last_funding_at\"], format=\"%d/%m/%Y\")"
   ]
  },
  {
   "cell_type": "code",
   "execution_count": 137,
   "metadata": {},
   "outputs": [],
   "source": [
    "#changing founded_at into datetime\n",
    "# error = \"coerce\" will create NaT values for those companies with different format. \n",
    "organizations[\"founded_at\"] = pd.to_datetime(organizations[\"founded_at\"], errors = 'coerce', format=\"%d/%m/%Y\")"
   ]
  },
  {
   "cell_type": "code",
   "execution_count": 138,
   "metadata": {},
   "outputs": [
    {
     "data": {
      "text/plain": [
       "name                  0\n",
       "category_list         0\n",
       "status                0\n",
       "founded_at           88\n",
       "last_funding_at       0\n",
       "country_code       3183\n",
       "dtype: int64"
      ]
     },
     "execution_count": 138,
     "metadata": {},
     "output_type": "execute_result"
    }
   ],
   "source": [
    "# check how many rows don't have the info anymore\n",
    "organizations.isna().sum()"
   ]
  },
  {
   "cell_type": "code",
   "execution_count": 139,
   "metadata": {},
   "outputs": [],
   "source": [
    "# drop those rows as we did beforea s to not loose the country code info:\n",
    "# drop country form original\n",
    "organizations.drop(\"country_code\", axis=1, inplace=True)\n",
    "\n",
    "# drop nans \n",
    "organizations.dropna(inplace=True)\n",
    "\n",
    "# merge countries back in\n",
    "organizations = organizations.merge(location, how=\"left\", left_index=True, right_index=True)"
   ]
  },
  {
   "cell_type": "code",
   "execution_count": 140,
   "metadata": {},
   "outputs": [
    {
     "data": {
      "text/html": [
       "<div>\n",
       "<style scoped>\n",
       "    .dataframe tbody tr th:only-of-type {\n",
       "        vertical-align: middle;\n",
       "    }\n",
       "\n",
       "    .dataframe tbody tr th {\n",
       "        vertical-align: top;\n",
       "    }\n",
       "\n",
       "    .dataframe thead th {\n",
       "        text-align: right;\n",
       "    }\n",
       "</style>\n",
       "<table border=\"1\" class=\"dataframe\">\n",
       "  <thead>\n",
       "    <tr style=\"text-align: right;\">\n",
       "      <th></th>\n",
       "      <th>name</th>\n",
       "      <th>category_list</th>\n",
       "      <th>status</th>\n",
       "      <th>founded_at</th>\n",
       "      <th>last_funding_at</th>\n",
       "      <th>country_code</th>\n",
       "    </tr>\n",
       "  </thead>\n",
       "  <tbody>\n",
       "    <tr>\n",
       "      <th>1</th>\n",
       "      <td>:Qounter</td>\n",
       "      <td>Application Platforms|Real Time|Social Network...</td>\n",
       "      <td>operating</td>\n",
       "      <td>2014-09-04</td>\n",
       "      <td>2014-10-14</td>\n",
       "      <td>USA</td>\n",
       "    </tr>\n",
       "    <tr>\n",
       "      <th>3</th>\n",
       "      <td>0-6.com</td>\n",
       "      <td>Curated Web</td>\n",
       "      <td>operating</td>\n",
       "      <td>2007-01-01</td>\n",
       "      <td>2008-03-19</td>\n",
       "      <td>CHN</td>\n",
       "    </tr>\n",
       "    <tr>\n",
       "      <th>4</th>\n",
       "      <td>004 Technologies</td>\n",
       "      <td>Software</td>\n",
       "      <td>operating</td>\n",
       "      <td>2010-01-01</td>\n",
       "      <td>2014-07-24</td>\n",
       "      <td>USA</td>\n",
       "    </tr>\n",
       "    <tr>\n",
       "      <th>6</th>\n",
       "      <td>Ondine Biomedical Inc.</td>\n",
       "      <td>Biotechnology</td>\n",
       "      <td>operating</td>\n",
       "      <td>1997-01-01</td>\n",
       "      <td>2009-12-21</td>\n",
       "      <td>CAN</td>\n",
       "    </tr>\n",
       "    <tr>\n",
       "      <th>7</th>\n",
       "      <td>H2O.ai</td>\n",
       "      <td>Analytics</td>\n",
       "      <td>operating</td>\n",
       "      <td>2011-01-01</td>\n",
       "      <td>2015-11-09</td>\n",
       "      <td>USA</td>\n",
       "    </tr>\n",
       "  </tbody>\n",
       "</table>\n",
       "</div>"
      ],
      "text/plain": [
       "                     name                                      category_list  \\\n",
       "1                :Qounter  Application Platforms|Real Time|Social Network...   \n",
       "3                 0-6.com                                        Curated Web   \n",
       "4        004 Technologies                                           Software   \n",
       "6  Ondine Biomedical Inc.                                      Biotechnology   \n",
       "7                  H2O.ai                                          Analytics   \n",
       "\n",
       "      status founded_at last_funding_at country_code  \n",
       "1  operating 2014-09-04      2014-10-14          USA  \n",
       "3  operating 2007-01-01      2008-03-19          CHN  \n",
       "4  operating 2010-01-01      2014-07-24          USA  \n",
       "6  operating 1997-01-01      2009-12-21          CAN  \n",
       "7  operating 2011-01-01      2015-11-09          USA  "
      ]
     },
     "execution_count": 140,
     "metadata": {},
     "output_type": "execute_result"
    }
   ],
   "source": [
    "organizations.head()"
   ]
  },
  {
   "cell_type": "code",
   "execution_count": 142,
   "metadata": {},
   "outputs": [],
   "source": [
    "# saving cleaned table for later\n",
    "organizations.to_csv(\"../00_data/00_clean_datasets/Q2/crunchbase_organizations.csv\")"
   ]
  },
  {
   "cell_type": "markdown",
   "metadata": {},
   "source": [
    "## 3. Organising Database"
   ]
  },
  {
   "cell_type": "markdown",
   "metadata": {},
   "source": [
    "\n",
    "### Description of section: \n",
    "- Importing Datasets\n",
    "- Organising Database\n",
    "- Creating Database connection and exporting Datasets to cloud\n",
    "\n",
    "\n",
    "The prework of the Project consists basically on the organisation of the data storage and the creation of the tables that I will be using through this Analysis. \n",
    "\n",
    "Goal of this part is to describe the Database, upload the credentials needed to access it as a guest, and uploading the Data to the cloud. \n",
    "\n",
    "I will be using a number of different datasets for the analysis of the project.\n",
    "\n",
    "The relationship and organisation of these can be seen below: \n",
    "\n",
    "![DB_diagram](../02_visualisations/Database_org.PNG)\n",
    "\n",
    "> Note that the tables country and industry are only used as key-holders for extra information. I will not be analysing the informaiton in them directly. "
   ]
  },
  {
   "cell_type": "markdown",
   "metadata": {},
   "source": [
    "## 3. Exporing Data into cloud"
   ]
  },
  {
   "cell_type": "code",
   "execution_count": 145,
   "metadata": {},
   "outputs": [],
   "source": [
    "# import special SQL librarbies\n",
    "from sqlalchemy import create_engine"
   ]
  },
  {
   "cell_type": "code",
   "execution_count": 168,
   "metadata": {},
   "outputs": [],
   "source": [
    "# opening connection to SQL:\n",
    "driver = \"mysql+pymysql:\"\n",
    "user = \"ironhack\"\n",
    "password = \"Ironhack1\"\n",
    "ip = \"35.240.116.117\"\n",
    "database = \"Project_5\""
   ]
  },
  {
   "cell_type": "code",
   "execution_count": 169,
   "metadata": {},
   "outputs": [],
   "source": [
    "connection_string = f\"{driver}//{user}:{password}@{ip}/{database}\"\n",
    "engine = create_engine(connection_string)"
   ]
  },
  {
   "cell_type": "markdown",
   "metadata": {},
   "source": [
    "Tables to export:\n",
    "- industry (ICB)\n",
    "- innovation_markers (world bank)\n",
    "- organizations (crunchbase)\n",
    "- country (world bank)\n",
    "- patents_by_industry (WIPO)"
   ]
  },
  {
   "cell_type": "code",
   "execution_count": 297,
   "metadata": {},
   "outputs": [],
   "source": [
    "country.to_sql(\"Country\", con=engine, if_exists=\"append\", index=True)"
   ]
  },
  {
   "cell_type": "code",
   "execution_count": 298,
   "metadata": {},
   "outputs": [],
   "source": [
    "industry.to_sql(\"Industry\", con=engine, if_exists=\"append\", index=True)"
   ]
  },
  {
   "cell_type": "code",
   "execution_count": 299,
   "metadata": {},
   "outputs": [],
   "source": [
    "innovation_markers.to_sql(\"Innovation_Markers\", con=engine, if_exists=\"append\", index=True)"
   ]
  },
  {
   "cell_type": "code",
   "execution_count": 300,
   "metadata": {},
   "outputs": [],
   "source": [
    "organizations.to_sql(\"Organizations\", con=engine, if_exists=\"append\", index=True)"
   ]
  },
  {
   "cell_type": "code",
   "execution_count": 301,
   "metadata": {},
   "outputs": [],
   "source": [
    "patents_by_industry.to_sql(\"Patent_by_Country\", con=engine, if_exists=\"append\", index=True)"
   ]
  },
  {
   "cell_type": "markdown",
   "metadata": {},
   "source": [
    "##### DataBase guest credentials:"
   ]
  },
  {
   "cell_type": "markdown",
   "metadata": {},
   "source": [
    "<div class=\"alert alert-block alert-info\">\n",
    "<b>Credentials for DB:</b> \n",
    "\n",
    "##### To access the database, see the details below:\n",
    "Note that this database has an IP restriction, and can therefore only be viewed in the IRONHACK campus. If the DB needs to be accessed from a different  IP address, please contact me. \n",
    "\n",
    ">**Connection information:** <br>\n",
    ">**User name**: ironhack <br> \n",
    ">**Passowrd**: Ironhack1 <br>\n",
    ">**Host name**: 35.240.116.117 <br>\n",
    "</div>"
   ]
  }
 ],
 "metadata": {
  "kernelspec": {
   "display_name": "Python 3",
   "language": "python",
   "name": "python3"
  },
  "language_info": {
   "codemirror_mode": {
    "name": "ipython",
    "version": 3
   },
   "file_extension": ".py",
   "mimetype": "text/x-python",
   "name": "python",
   "nbconvert_exporter": "python",
   "pygments_lexer": "ipython3",
   "version": "3.7.3"
  }
 },
 "nbformat": 4,
 "nbformat_minor": 2
}
